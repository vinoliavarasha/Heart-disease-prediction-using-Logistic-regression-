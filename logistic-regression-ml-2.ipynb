{
 "cells": [
  {
   "cell_type": "markdown",
   "id": "8ad6dd2f",
   "metadata": {
    "papermill": {
     "duration": 0.063157,
     "end_time": "2022-04-23T01:20:33.245253",
     "exception": false,
     "start_time": "2022-04-23T01:20:33.182096",
     "status": "completed"
    },
    "tags": []
   },
   "source": [
    "# Logistic Regression ML - 2\n",
    "\n",
    "Hello there. In last we practiced `Linear Regression` and we learned alot. Now I learned alot about logistic regression, splitting dataset for training & testing, scaling features, imputing, evaluating, and alot more. Now In this notebook, I will practice all those things I had learned.\n",
    "\n",
    "As last time, I will be mentioning all the notebooks I referred, Dataset I had used and explain each step and code.\n",
    "\n",
    "## Problem Faced\n",
    "- You are given a dataset and asked to build a model that predicts wheather the person has heart-disease or not. Now we also have the correct answer in the dataset for evalution\n",
    "\n",
    "## Dataset Used\n",
    "- [Heart Disease Dataset](https://www.kaggle.com/datasets/dileep070/heart-disease-prediction-using-logistic-regression)\n",
    "\n",
    "## Notebook Used\n",
    "- [Kaggle Notebook](https://www.kaggle.com/code/besenturk/logistic-regression-to-predict-heart-disease)\n",
    "- [Jovian Notebook](https://jovian.ai/premkumar/python-sklearn-logistic-regression-6fe04#C247)\n",
    "\n",
    "## Steps\n",
    "- Data Preparating\n",
    "- Exploratory Analysis & Visualization\n",
    "- Imputing Missing values\n",
    "- Scaling Features (if possible)\n",
    "- OneHot Encoder (if possible)\n",
    "- Splitting Dataset\n",
    "- Training the model & Evaluation\n",
    "- Conclusion\n",
    "\n",
    "## Ideas to do\n",
    "- Saving Dataset\n",
    "- Saving Model\n"
   ]
  },
  {
   "cell_type": "markdown",
   "id": "73e108be",
   "metadata": {
    "papermill": {
     "duration": 0.064844,
     "end_time": "2022-04-23T01:20:33.380645",
     "exception": false,
     "start_time": "2022-04-23T01:20:33.315801",
     "status": "completed"
    },
    "tags": []
   },
   "source": [
    "# Step - 1 Data Preparation\n",
    "\n",
    "First let's import neccessary libraries and we can load dataset into pandas"
   ]
  },
  {
   "cell_type": "code",
   "execution_count": 1,
   "id": "69ba8831",
   "metadata": {
    "_cell_guid": "b1076dfc-b9ad-4769-8c92-a6c4dae69d19",
    "_uuid": "8f2839f25d086af736a60e9eeb907d3b93b6e0e5",
    "execution": {
     "iopub.execute_input": "2022-04-23T01:20:33.497675Z",
     "iopub.status.busy": "2022-04-23T01:20:33.496959Z",
     "iopub.status.idle": "2022-04-23T01:20:35.564984Z",
     "shell.execute_reply": "2022-04-23T01:20:35.564139Z"
    },
    "papermill": {
     "duration": 2.12939,
     "end_time": "2022-04-23T01:20:35.567537",
     "exception": false,
     "start_time": "2022-04-23T01:20:33.438147",
     "status": "completed"
    },
    "tags": []
   },
   "outputs": [],
   "source": [
    "import os\n",
    "import numpy as np\n",
    "import pandas as pd\n",
    "import matplotlib.pyplot as plt\n",
    "import seaborn as sns\n",
    "import plotly.express as px\n",
    "\n",
    "%matplotlib inline"
   ]
  },
  {
   "cell_type": "code",
   "execution_count": 2,
   "id": "d820fb0e",
   "metadata": {
    "execution": {
     "iopub.execute_input": "2022-04-23T01:20:35.682931Z",
     "iopub.status.busy": "2022-04-23T01:20:35.682509Z",
     "iopub.status.idle": "2022-04-23T01:20:35.741476Z",
     "shell.execute_reply": "2022-04-23T01:20:35.740694Z"
    },
    "papermill": {
     "duration": 0.119636,
     "end_time": "2022-04-23T01:20:35.744006",
     "exception": false,
     "start_time": "2022-04-23T01:20:35.624370",
     "status": "completed"
    },
    "tags": []
   },
   "outputs": [
    {
     "data": {
      "text/html": [
       "<div>\n",
       "<style scoped>\n",
       "    .dataframe tbody tr th:only-of-type {\n",
       "        vertical-align: middle;\n",
       "    }\n",
       "\n",
       "    .dataframe tbody tr th {\n",
       "        vertical-align: top;\n",
       "    }\n",
       "\n",
       "    .dataframe thead th {\n",
       "        text-align: right;\n",
       "    }\n",
       "</style>\n",
       "<table border=\"1\" class=\"dataframe\">\n",
       "  <thead>\n",
       "    <tr style=\"text-align: right;\">\n",
       "      <th></th>\n",
       "      <th>male</th>\n",
       "      <th>age</th>\n",
       "      <th>education</th>\n",
       "      <th>currentSmoker</th>\n",
       "      <th>cigsPerDay</th>\n",
       "      <th>BPMeds</th>\n",
       "      <th>prevalentStroke</th>\n",
       "      <th>prevalentHyp</th>\n",
       "      <th>diabetes</th>\n",
       "      <th>totChol</th>\n",
       "      <th>sysBP</th>\n",
       "      <th>diaBP</th>\n",
       "      <th>BMI</th>\n",
       "      <th>heartRate</th>\n",
       "      <th>glucose</th>\n",
       "      <th>TenYearCHD</th>\n",
       "    </tr>\n",
       "  </thead>\n",
       "  <tbody>\n",
       "    <tr>\n",
       "      <th>0</th>\n",
       "      <td>1</td>\n",
       "      <td>39</td>\n",
       "      <td>4.0</td>\n",
       "      <td>0</td>\n",
       "      <td>0.0</td>\n",
       "      <td>0.0</td>\n",
       "      <td>0</td>\n",
       "      <td>0</td>\n",
       "      <td>0</td>\n",
       "      <td>195.0</td>\n",
       "      <td>106.0</td>\n",
       "      <td>70.0</td>\n",
       "      <td>26.97</td>\n",
       "      <td>80.0</td>\n",
       "      <td>77.0</td>\n",
       "      <td>0</td>\n",
       "    </tr>\n",
       "    <tr>\n",
       "      <th>1</th>\n",
       "      <td>0</td>\n",
       "      <td>46</td>\n",
       "      <td>2.0</td>\n",
       "      <td>0</td>\n",
       "      <td>0.0</td>\n",
       "      <td>0.0</td>\n",
       "      <td>0</td>\n",
       "      <td>0</td>\n",
       "      <td>0</td>\n",
       "      <td>250.0</td>\n",
       "      <td>121.0</td>\n",
       "      <td>81.0</td>\n",
       "      <td>28.73</td>\n",
       "      <td>95.0</td>\n",
       "      <td>76.0</td>\n",
       "      <td>0</td>\n",
       "    </tr>\n",
       "    <tr>\n",
       "      <th>2</th>\n",
       "      <td>1</td>\n",
       "      <td>48</td>\n",
       "      <td>1.0</td>\n",
       "      <td>1</td>\n",
       "      <td>20.0</td>\n",
       "      <td>0.0</td>\n",
       "      <td>0</td>\n",
       "      <td>0</td>\n",
       "      <td>0</td>\n",
       "      <td>245.0</td>\n",
       "      <td>127.5</td>\n",
       "      <td>80.0</td>\n",
       "      <td>25.34</td>\n",
       "      <td>75.0</td>\n",
       "      <td>70.0</td>\n",
       "      <td>0</td>\n",
       "    </tr>\n",
       "    <tr>\n",
       "      <th>3</th>\n",
       "      <td>0</td>\n",
       "      <td>61</td>\n",
       "      <td>3.0</td>\n",
       "      <td>1</td>\n",
       "      <td>30.0</td>\n",
       "      <td>0.0</td>\n",
       "      <td>0</td>\n",
       "      <td>1</td>\n",
       "      <td>0</td>\n",
       "      <td>225.0</td>\n",
       "      <td>150.0</td>\n",
       "      <td>95.0</td>\n",
       "      <td>28.58</td>\n",
       "      <td>65.0</td>\n",
       "      <td>103.0</td>\n",
       "      <td>1</td>\n",
       "    </tr>\n",
       "    <tr>\n",
       "      <th>4</th>\n",
       "      <td>0</td>\n",
       "      <td>46</td>\n",
       "      <td>3.0</td>\n",
       "      <td>1</td>\n",
       "      <td>23.0</td>\n",
       "      <td>0.0</td>\n",
       "      <td>0</td>\n",
       "      <td>0</td>\n",
       "      <td>0</td>\n",
       "      <td>285.0</td>\n",
       "      <td>130.0</td>\n",
       "      <td>84.0</td>\n",
       "      <td>23.10</td>\n",
       "      <td>85.0</td>\n",
       "      <td>85.0</td>\n",
       "      <td>0</td>\n",
       "    </tr>\n",
       "    <tr>\n",
       "      <th>...</th>\n",
       "      <td>...</td>\n",
       "      <td>...</td>\n",
       "      <td>...</td>\n",
       "      <td>...</td>\n",
       "      <td>...</td>\n",
       "      <td>...</td>\n",
       "      <td>...</td>\n",
       "      <td>...</td>\n",
       "      <td>...</td>\n",
       "      <td>...</td>\n",
       "      <td>...</td>\n",
       "      <td>...</td>\n",
       "      <td>...</td>\n",
       "      <td>...</td>\n",
       "      <td>...</td>\n",
       "      <td>...</td>\n",
       "    </tr>\n",
       "    <tr>\n",
       "      <th>4233</th>\n",
       "      <td>1</td>\n",
       "      <td>50</td>\n",
       "      <td>1.0</td>\n",
       "      <td>1</td>\n",
       "      <td>1.0</td>\n",
       "      <td>0.0</td>\n",
       "      <td>0</td>\n",
       "      <td>1</td>\n",
       "      <td>0</td>\n",
       "      <td>313.0</td>\n",
       "      <td>179.0</td>\n",
       "      <td>92.0</td>\n",
       "      <td>25.97</td>\n",
       "      <td>66.0</td>\n",
       "      <td>86.0</td>\n",
       "      <td>1</td>\n",
       "    </tr>\n",
       "    <tr>\n",
       "      <th>4234</th>\n",
       "      <td>1</td>\n",
       "      <td>51</td>\n",
       "      <td>3.0</td>\n",
       "      <td>1</td>\n",
       "      <td>43.0</td>\n",
       "      <td>0.0</td>\n",
       "      <td>0</td>\n",
       "      <td>0</td>\n",
       "      <td>0</td>\n",
       "      <td>207.0</td>\n",
       "      <td>126.5</td>\n",
       "      <td>80.0</td>\n",
       "      <td>19.71</td>\n",
       "      <td>65.0</td>\n",
       "      <td>68.0</td>\n",
       "      <td>0</td>\n",
       "    </tr>\n",
       "    <tr>\n",
       "      <th>4235</th>\n",
       "      <td>0</td>\n",
       "      <td>48</td>\n",
       "      <td>2.0</td>\n",
       "      <td>1</td>\n",
       "      <td>20.0</td>\n",
       "      <td>NaN</td>\n",
       "      <td>0</td>\n",
       "      <td>0</td>\n",
       "      <td>0</td>\n",
       "      <td>248.0</td>\n",
       "      <td>131.0</td>\n",
       "      <td>72.0</td>\n",
       "      <td>22.00</td>\n",
       "      <td>84.0</td>\n",
       "      <td>86.0</td>\n",
       "      <td>0</td>\n",
       "    </tr>\n",
       "    <tr>\n",
       "      <th>4236</th>\n",
       "      <td>0</td>\n",
       "      <td>44</td>\n",
       "      <td>1.0</td>\n",
       "      <td>1</td>\n",
       "      <td>15.0</td>\n",
       "      <td>0.0</td>\n",
       "      <td>0</td>\n",
       "      <td>0</td>\n",
       "      <td>0</td>\n",
       "      <td>210.0</td>\n",
       "      <td>126.5</td>\n",
       "      <td>87.0</td>\n",
       "      <td>19.16</td>\n",
       "      <td>86.0</td>\n",
       "      <td>NaN</td>\n",
       "      <td>0</td>\n",
       "    </tr>\n",
       "    <tr>\n",
       "      <th>4237</th>\n",
       "      <td>0</td>\n",
       "      <td>52</td>\n",
       "      <td>2.0</td>\n",
       "      <td>0</td>\n",
       "      <td>0.0</td>\n",
       "      <td>0.0</td>\n",
       "      <td>0</td>\n",
       "      <td>0</td>\n",
       "      <td>0</td>\n",
       "      <td>269.0</td>\n",
       "      <td>133.5</td>\n",
       "      <td>83.0</td>\n",
       "      <td>21.47</td>\n",
       "      <td>80.0</td>\n",
       "      <td>107.0</td>\n",
       "      <td>0</td>\n",
       "    </tr>\n",
       "  </tbody>\n",
       "</table>\n",
       "<p>4238 rows × 16 columns</p>\n",
       "</div>"
      ],
      "text/plain": [
       "      male  age  education  currentSmoker  cigsPerDay  BPMeds  \\\n",
       "0        1   39        4.0              0         0.0     0.0   \n",
       "1        0   46        2.0              0         0.0     0.0   \n",
       "2        1   48        1.0              1        20.0     0.0   \n",
       "3        0   61        3.0              1        30.0     0.0   \n",
       "4        0   46        3.0              1        23.0     0.0   \n",
       "...    ...  ...        ...            ...         ...     ...   \n",
       "4233     1   50        1.0              1         1.0     0.0   \n",
       "4234     1   51        3.0              1        43.0     0.0   \n",
       "4235     0   48        2.0              1        20.0     NaN   \n",
       "4236     0   44        1.0              1        15.0     0.0   \n",
       "4237     0   52        2.0              0         0.0     0.0   \n",
       "\n",
       "      prevalentStroke  prevalentHyp  diabetes  totChol  sysBP  diaBP    BMI  \\\n",
       "0                   0             0         0    195.0  106.0   70.0  26.97   \n",
       "1                   0             0         0    250.0  121.0   81.0  28.73   \n",
       "2                   0             0         0    245.0  127.5   80.0  25.34   \n",
       "3                   0             1         0    225.0  150.0   95.0  28.58   \n",
       "4                   0             0         0    285.0  130.0   84.0  23.10   \n",
       "...               ...           ...       ...      ...    ...    ...    ...   \n",
       "4233                0             1         0    313.0  179.0   92.0  25.97   \n",
       "4234                0             0         0    207.0  126.5   80.0  19.71   \n",
       "4235                0             0         0    248.0  131.0   72.0  22.00   \n",
       "4236                0             0         0    210.0  126.5   87.0  19.16   \n",
       "4237                0             0         0    269.0  133.5   83.0  21.47   \n",
       "\n",
       "      heartRate  glucose  TenYearCHD  \n",
       "0          80.0     77.0           0  \n",
       "1          95.0     76.0           0  \n",
       "2          75.0     70.0           0  \n",
       "3          65.0    103.0           1  \n",
       "4          85.0     85.0           0  \n",
       "...         ...      ...         ...  \n",
       "4233       66.0     86.0           1  \n",
       "4234       65.0     68.0           0  \n",
       "4235       84.0     86.0           0  \n",
       "4236       86.0      NaN           0  \n",
       "4237       80.0    107.0           0  \n",
       "\n",
       "[4238 rows x 16 columns]"
      ]
     },
     "execution_count": 2,
     "metadata": {},
     "output_type": "execute_result"
    }
   ],
   "source": [
    "raw_df = pd.read_csv('../input/heart-disease-prediction-using-logistic-regression/framingham.csv')\n",
    "raw_df"
   ]
  },
  {
   "cell_type": "markdown",
   "id": "db229486",
   "metadata": {
    "papermill": {
     "duration": 0.057733,
     "end_time": "2022-04-23T01:20:35.867405",
     "exception": false,
     "start_time": "2022-04-23T01:20:35.809672",
     "status": "completed"
    },
    "tags": []
   },
   "source": [
    "# Step - 2 Exploratory Analysis & Visualization\n",
    "\n",
    "Now that we imported neccessary libraries and loaded the dataset. we will proceed with analysis and visualization."
   ]
  },
  {
   "cell_type": "code",
   "execution_count": 3,
   "id": "fea4353f",
   "metadata": {
    "execution": {
     "iopub.execute_input": "2022-04-23T01:20:35.989263Z",
     "iopub.status.busy": "2022-04-23T01:20:35.988989Z",
     "iopub.status.idle": "2022-04-23T01:20:36.009676Z",
     "shell.execute_reply": "2022-04-23T01:20:36.008852Z"
    },
    "papermill": {
     "duration": 0.087574,
     "end_time": "2022-04-23T01:20:36.011940",
     "exception": false,
     "start_time": "2022-04-23T01:20:35.924366",
     "status": "completed"
    },
    "tags": []
   },
   "outputs": [
    {
     "name": "stdout",
     "output_type": "stream",
     "text": [
      "<class 'pandas.core.frame.DataFrame'>\n",
      "RangeIndex: 4238 entries, 0 to 4237\n",
      "Data columns (total 16 columns):\n",
      " #   Column           Non-Null Count  Dtype  \n",
      "---  ------           --------------  -----  \n",
      " 0   male             4238 non-null   int64  \n",
      " 1   age              4238 non-null   int64  \n",
      " 2   education        4133 non-null   float64\n",
      " 3   currentSmoker    4238 non-null   int64  \n",
      " 4   cigsPerDay       4209 non-null   float64\n",
      " 5   BPMeds           4185 non-null   float64\n",
      " 6   prevalentStroke  4238 non-null   int64  \n",
      " 7   prevalentHyp     4238 non-null   int64  \n",
      " 8   diabetes         4238 non-null   int64  \n",
      " 9   totChol          4188 non-null   float64\n",
      " 10  sysBP            4238 non-null   float64\n",
      " 11  diaBP            4238 non-null   float64\n",
      " 12  BMI              4219 non-null   float64\n",
      " 13  heartRate        4237 non-null   float64\n",
      " 14  glucose          3850 non-null   float64\n",
      " 15  TenYearCHD       4238 non-null   int64  \n",
      "dtypes: float64(9), int64(7)\n",
      "memory usage: 529.9 KB\n"
     ]
    }
   ],
   "source": [
    "raw_df.info()"
   ]
  },
  {
   "cell_type": "markdown",
   "id": "9958a967",
   "metadata": {
    "papermill": {
     "duration": 0.058541,
     "end_time": "2022-04-23T01:20:36.129610",
     "exception": false,
     "start_time": "2022-04-23T01:20:36.071069",
     "status": "completed"
    },
    "tags": []
   },
   "source": [
    "We have `4238 rows` and `16 cols`, since we have only less cols and rows - It's easy to train the model. It's important to notice that datasets contains only floats and ints. So there is no need to use `One Hot Encoder`\n",
    "\n",
    "Let's analysis more"
   ]
  },
  {
   "cell_type": "code",
   "execution_count": 4,
   "id": "042294c3",
   "metadata": {
    "execution": {
     "iopub.execute_input": "2022-04-23T01:20:36.250634Z",
     "iopub.status.busy": "2022-04-23T01:20:36.250127Z",
     "iopub.status.idle": "2022-04-23T01:20:36.257694Z",
     "shell.execute_reply": "2022-04-23T01:20:36.256963Z"
    },
    "papermill": {
     "duration": 0.070477,
     "end_time": "2022-04-23T01:20:36.259629",
     "exception": false,
     "start_time": "2022-04-23T01:20:36.189152",
     "status": "completed"
    },
    "tags": []
   },
   "outputs": [
    {
     "data": {
      "text/plain": [
       "male                 0\n",
       "age                  0\n",
       "education          105\n",
       "currentSmoker        0\n",
       "cigsPerDay          29\n",
       "BPMeds              53\n",
       "prevalentStroke      0\n",
       "prevalentHyp         0\n",
       "diabetes             0\n",
       "totChol             50\n",
       "sysBP                0\n",
       "diaBP                0\n",
       "BMI                 19\n",
       "heartRate            1\n",
       "glucose            388\n",
       "TenYearCHD           0\n",
       "dtype: int64"
      ]
     },
     "execution_count": 4,
     "metadata": {},
     "output_type": "execute_result"
    }
   ],
   "source": [
    "raw_df.isnull().sum()"
   ]
  },
  {
   "cell_type": "markdown",
   "id": "52e1b946",
   "metadata": {
    "papermill": {
     "duration": 0.058721,
     "end_time": "2022-04-23T01:20:36.378860",
     "exception": false,
     "start_time": "2022-04-23T01:20:36.320139",
     "status": "completed"
    },
    "tags": []
   },
   "source": [
    "Look's like we got a problem. It's ok.\n",
    "\n",
    "We can solve this"
   ]
  },
  {
   "cell_type": "code",
   "execution_count": 5,
   "id": "b3c0db71",
   "metadata": {
    "execution": {
     "iopub.execute_input": "2022-04-23T01:20:36.500645Z",
     "iopub.status.busy": "2022-04-23T01:20:36.500194Z",
     "iopub.status.idle": "2022-04-23T01:20:36.555304Z",
     "shell.execute_reply": "2022-04-23T01:20:36.554503Z"
    },
    "papermill": {
     "duration": 0.118466,
     "end_time": "2022-04-23T01:20:36.557312",
     "exception": false,
     "start_time": "2022-04-23T01:20:36.438846",
     "status": "completed"
    },
    "tags": []
   },
   "outputs": [
    {
     "data": {
      "text/html": [
       "<div>\n",
       "<style scoped>\n",
       "    .dataframe tbody tr th:only-of-type {\n",
       "        vertical-align: middle;\n",
       "    }\n",
       "\n",
       "    .dataframe tbody tr th {\n",
       "        vertical-align: top;\n",
       "    }\n",
       "\n",
       "    .dataframe thead th {\n",
       "        text-align: right;\n",
       "    }\n",
       "</style>\n",
       "<table border=\"1\" class=\"dataframe\">\n",
       "  <thead>\n",
       "    <tr style=\"text-align: right;\">\n",
       "      <th></th>\n",
       "      <th>male</th>\n",
       "      <th>age</th>\n",
       "      <th>education</th>\n",
       "      <th>currentSmoker</th>\n",
       "      <th>cigsPerDay</th>\n",
       "      <th>BPMeds</th>\n",
       "      <th>prevalentStroke</th>\n",
       "      <th>prevalentHyp</th>\n",
       "      <th>diabetes</th>\n",
       "      <th>totChol</th>\n",
       "      <th>sysBP</th>\n",
       "      <th>diaBP</th>\n",
       "      <th>BMI</th>\n",
       "      <th>heartRate</th>\n",
       "      <th>glucose</th>\n",
       "      <th>TenYearCHD</th>\n",
       "    </tr>\n",
       "  </thead>\n",
       "  <tbody>\n",
       "    <tr>\n",
       "      <th>count</th>\n",
       "      <td>4238.000000</td>\n",
       "      <td>4238.000000</td>\n",
       "      <td>4133.000000</td>\n",
       "      <td>4238.000000</td>\n",
       "      <td>4209.000000</td>\n",
       "      <td>4185.000000</td>\n",
       "      <td>4238.000000</td>\n",
       "      <td>4238.000000</td>\n",
       "      <td>4238.000000</td>\n",
       "      <td>4188.000000</td>\n",
       "      <td>4238.000000</td>\n",
       "      <td>4238.000000</td>\n",
       "      <td>4219.000000</td>\n",
       "      <td>4237.000000</td>\n",
       "      <td>3850.000000</td>\n",
       "      <td>4238.000000</td>\n",
       "    </tr>\n",
       "    <tr>\n",
       "      <th>mean</th>\n",
       "      <td>0.429212</td>\n",
       "      <td>49.584946</td>\n",
       "      <td>1.978950</td>\n",
       "      <td>0.494101</td>\n",
       "      <td>9.003089</td>\n",
       "      <td>0.029630</td>\n",
       "      <td>0.005899</td>\n",
       "      <td>0.310524</td>\n",
       "      <td>0.025720</td>\n",
       "      <td>236.721585</td>\n",
       "      <td>132.352407</td>\n",
       "      <td>82.893464</td>\n",
       "      <td>25.802008</td>\n",
       "      <td>75.878924</td>\n",
       "      <td>81.966753</td>\n",
       "      <td>0.151958</td>\n",
       "    </tr>\n",
       "    <tr>\n",
       "      <th>std</th>\n",
       "      <td>0.495022</td>\n",
       "      <td>8.572160</td>\n",
       "      <td>1.019791</td>\n",
       "      <td>0.500024</td>\n",
       "      <td>11.920094</td>\n",
       "      <td>0.169584</td>\n",
       "      <td>0.076587</td>\n",
       "      <td>0.462763</td>\n",
       "      <td>0.158316</td>\n",
       "      <td>44.590334</td>\n",
       "      <td>22.038097</td>\n",
       "      <td>11.910850</td>\n",
       "      <td>4.080111</td>\n",
       "      <td>12.026596</td>\n",
       "      <td>23.959998</td>\n",
       "      <td>0.359023</td>\n",
       "    </tr>\n",
       "    <tr>\n",
       "      <th>min</th>\n",
       "      <td>0.000000</td>\n",
       "      <td>32.000000</td>\n",
       "      <td>1.000000</td>\n",
       "      <td>0.000000</td>\n",
       "      <td>0.000000</td>\n",
       "      <td>0.000000</td>\n",
       "      <td>0.000000</td>\n",
       "      <td>0.000000</td>\n",
       "      <td>0.000000</td>\n",
       "      <td>107.000000</td>\n",
       "      <td>83.500000</td>\n",
       "      <td>48.000000</td>\n",
       "      <td>15.540000</td>\n",
       "      <td>44.000000</td>\n",
       "      <td>40.000000</td>\n",
       "      <td>0.000000</td>\n",
       "    </tr>\n",
       "    <tr>\n",
       "      <th>25%</th>\n",
       "      <td>0.000000</td>\n",
       "      <td>42.000000</td>\n",
       "      <td>1.000000</td>\n",
       "      <td>0.000000</td>\n",
       "      <td>0.000000</td>\n",
       "      <td>0.000000</td>\n",
       "      <td>0.000000</td>\n",
       "      <td>0.000000</td>\n",
       "      <td>0.000000</td>\n",
       "      <td>206.000000</td>\n",
       "      <td>117.000000</td>\n",
       "      <td>75.000000</td>\n",
       "      <td>23.070000</td>\n",
       "      <td>68.000000</td>\n",
       "      <td>71.000000</td>\n",
       "      <td>0.000000</td>\n",
       "    </tr>\n",
       "    <tr>\n",
       "      <th>50%</th>\n",
       "      <td>0.000000</td>\n",
       "      <td>49.000000</td>\n",
       "      <td>2.000000</td>\n",
       "      <td>0.000000</td>\n",
       "      <td>0.000000</td>\n",
       "      <td>0.000000</td>\n",
       "      <td>0.000000</td>\n",
       "      <td>0.000000</td>\n",
       "      <td>0.000000</td>\n",
       "      <td>234.000000</td>\n",
       "      <td>128.000000</td>\n",
       "      <td>82.000000</td>\n",
       "      <td>25.400000</td>\n",
       "      <td>75.000000</td>\n",
       "      <td>78.000000</td>\n",
       "      <td>0.000000</td>\n",
       "    </tr>\n",
       "    <tr>\n",
       "      <th>75%</th>\n",
       "      <td>1.000000</td>\n",
       "      <td>56.000000</td>\n",
       "      <td>3.000000</td>\n",
       "      <td>1.000000</td>\n",
       "      <td>20.000000</td>\n",
       "      <td>0.000000</td>\n",
       "      <td>0.000000</td>\n",
       "      <td>1.000000</td>\n",
       "      <td>0.000000</td>\n",
       "      <td>263.000000</td>\n",
       "      <td>144.000000</td>\n",
       "      <td>89.875000</td>\n",
       "      <td>28.040000</td>\n",
       "      <td>83.000000</td>\n",
       "      <td>87.000000</td>\n",
       "      <td>0.000000</td>\n",
       "    </tr>\n",
       "    <tr>\n",
       "      <th>max</th>\n",
       "      <td>1.000000</td>\n",
       "      <td>70.000000</td>\n",
       "      <td>4.000000</td>\n",
       "      <td>1.000000</td>\n",
       "      <td>70.000000</td>\n",
       "      <td>1.000000</td>\n",
       "      <td>1.000000</td>\n",
       "      <td>1.000000</td>\n",
       "      <td>1.000000</td>\n",
       "      <td>696.000000</td>\n",
       "      <td>295.000000</td>\n",
       "      <td>142.500000</td>\n",
       "      <td>56.800000</td>\n",
       "      <td>143.000000</td>\n",
       "      <td>394.000000</td>\n",
       "      <td>1.000000</td>\n",
       "    </tr>\n",
       "  </tbody>\n",
       "</table>\n",
       "</div>"
      ],
      "text/plain": [
       "              male          age    education  currentSmoker   cigsPerDay  \\\n",
       "count  4238.000000  4238.000000  4133.000000    4238.000000  4209.000000   \n",
       "mean      0.429212    49.584946     1.978950       0.494101     9.003089   \n",
       "std       0.495022     8.572160     1.019791       0.500024    11.920094   \n",
       "min       0.000000    32.000000     1.000000       0.000000     0.000000   \n",
       "25%       0.000000    42.000000     1.000000       0.000000     0.000000   \n",
       "50%       0.000000    49.000000     2.000000       0.000000     0.000000   \n",
       "75%       1.000000    56.000000     3.000000       1.000000    20.000000   \n",
       "max       1.000000    70.000000     4.000000       1.000000    70.000000   \n",
       "\n",
       "            BPMeds  prevalentStroke  prevalentHyp     diabetes      totChol  \\\n",
       "count  4185.000000      4238.000000   4238.000000  4238.000000  4188.000000   \n",
       "mean      0.029630         0.005899      0.310524     0.025720   236.721585   \n",
       "std       0.169584         0.076587      0.462763     0.158316    44.590334   \n",
       "min       0.000000         0.000000      0.000000     0.000000   107.000000   \n",
       "25%       0.000000         0.000000      0.000000     0.000000   206.000000   \n",
       "50%       0.000000         0.000000      0.000000     0.000000   234.000000   \n",
       "75%       0.000000         0.000000      1.000000     0.000000   263.000000   \n",
       "max       1.000000         1.000000      1.000000     1.000000   696.000000   \n",
       "\n",
       "             sysBP        diaBP          BMI    heartRate      glucose  \\\n",
       "count  4238.000000  4238.000000  4219.000000  4237.000000  3850.000000   \n",
       "mean    132.352407    82.893464    25.802008    75.878924    81.966753   \n",
       "std      22.038097    11.910850     4.080111    12.026596    23.959998   \n",
       "min      83.500000    48.000000    15.540000    44.000000    40.000000   \n",
       "25%     117.000000    75.000000    23.070000    68.000000    71.000000   \n",
       "50%     128.000000    82.000000    25.400000    75.000000    78.000000   \n",
       "75%     144.000000    89.875000    28.040000    83.000000    87.000000   \n",
       "max     295.000000   142.500000    56.800000   143.000000   394.000000   \n",
       "\n",
       "        TenYearCHD  \n",
       "count  4238.000000  \n",
       "mean      0.151958  \n",
       "std       0.359023  \n",
       "min       0.000000  \n",
       "25%       0.000000  \n",
       "50%       0.000000  \n",
       "75%       0.000000  \n",
       "max       1.000000  "
      ]
     },
     "execution_count": 5,
     "metadata": {},
     "output_type": "execute_result"
    }
   ],
   "source": [
    "raw_df.describe(include='all')"
   ]
  },
  {
   "cell_type": "markdown",
   "id": "37170cd3",
   "metadata": {
    "papermill": {
     "duration": 0.060518,
     "end_time": "2022-04-23T01:20:36.676367",
     "exception": false,
     "start_time": "2022-04-23T01:20:36.615849",
     "status": "completed"
    },
    "tags": []
   },
   "source": [
    "We got all the information we need.\n",
    "\n",
    "Now it's time for some visualization. First Let's figure out the names of the columns"
   ]
  },
  {
   "cell_type": "code",
   "execution_count": 6,
   "id": "b0d6e93e",
   "metadata": {
    "execution": {
     "iopub.execute_input": "2022-04-23T01:20:36.802378Z",
     "iopub.status.busy": "2022-04-23T01:20:36.801874Z",
     "iopub.status.idle": "2022-04-23T01:20:36.806566Z",
     "shell.execute_reply": "2022-04-23T01:20:36.806074Z"
    },
    "papermill": {
     "duration": 0.071778,
     "end_time": "2022-04-23T01:20:36.808358",
     "exception": false,
     "start_time": "2022-04-23T01:20:36.736580",
     "status": "completed"
    },
    "tags": []
   },
   "outputs": [
    {
     "data": {
      "text/plain": [
       "Index(['male', 'age', 'education', 'currentSmoker', 'cigsPerDay', 'BPMeds',\n",
       "       'prevalentStroke', 'prevalentHyp', 'diabetes', 'totChol', 'sysBP',\n",
       "       'diaBP', 'BMI', 'heartRate', 'glucose', 'TenYearCHD'],\n",
       "      dtype='object')"
      ]
     },
     "execution_count": 6,
     "metadata": {},
     "output_type": "execute_result"
    }
   ],
   "source": [
    "raw_df.columns"
   ]
  },
  {
   "cell_type": "markdown",
   "id": "ce39fac4",
   "metadata": {
    "papermill": {
     "duration": 0.059709,
     "end_time": "2022-04-23T01:20:36.933910",
     "exception": false,
     "start_time": "2022-04-23T01:20:36.874201",
     "status": "completed"
    },
    "tags": []
   },
   "source": [
    "First Let's check the correlation of each column"
   ]
  },
  {
   "cell_type": "code",
   "execution_count": 7,
   "id": "4c940b46",
   "metadata": {
    "execution": {
     "iopub.execute_input": "2022-04-23T01:20:37.070955Z",
     "iopub.status.busy": "2022-04-23T01:20:37.070443Z",
     "iopub.status.idle": "2022-04-23T01:20:38.025474Z",
     "shell.execute_reply": "2022-04-23T01:20:38.024632Z"
    },
    "papermill": {
     "duration": 1.026275,
     "end_time": "2022-04-23T01:20:38.027481",
     "exception": false,
     "start_time": "2022-04-23T01:20:37.001206",
     "status": "completed"
    },
    "tags": []
   },
   "outputs": [
    {
     "data": {
      "text/html": [
       "        <script type=\"text/javascript\">\n",
       "        window.PlotlyConfig = {MathJaxConfig: 'local'};\n",
       "        if (window.MathJax) {MathJax.Hub.Config({SVG: {font: \"STIX-Web\"}});}\n",
       "        if (typeof require !== 'undefined') {\n",
       "        require.undef(\"plotly\");\n",
       "        requirejs.config({\n",
       "            paths: {\n",
       "                'plotly': ['https://cdn.plot.ly/plotly-2.11.1.min']\n",
       "            }\n",
       "        });\n",
       "        require(['plotly'], function(Plotly) {\n",
       "            window._Plotly = Plotly;\n",
       "        });\n",
       "        }\n",
       "        </script>\n",
       "        "
      ]
     },
     "metadata": {},
     "output_type": "display_data"
    },
    {
     "data": {
      "text/html": [
       "<div>                            <div id=\"654f278e-4862-4ec7-b5cd-c3fc48f7fbe6\" class=\"plotly-graph-div\" style=\"height:525px; width:100%;\"></div>            <script type=\"text/javascript\">                require([\"plotly\"], function(Plotly) {                    window.PLOTLYENV=window.PLOTLYENV || {};                                    if (document.getElementById(\"654f278e-4862-4ec7-b5cd-c3fc48f7fbe6\")) {                    Plotly.newPlot(                        \"654f278e-4862-4ec7-b5cd-c3fc48f7fbe6\",                        [{\"coloraxis\":\"coloraxis\",\"name\":\"0\",\"texttemplate\":\"%{z}\",\"x\":[\"male\",\"age\",\"education\",\"currentSmoker\",\"cigsPerDay\",\"BPMeds\",\"prevalentStroke\",\"prevalentHyp\",\"diabetes\",\"totChol\",\"sysBP\",\"diaBP\",\"BMI\",\"heartRate\",\"glucose\",\"TenYearCHD\"],\"y\":[\"education\",\"currentSmoker\",\"heartRate\",\"cigsPerDay\",\"prevalentStroke\",\"BMI\",\"totChol\",\"BPMeds\",\"male\",\"diabetes\",\"glucose\",\"diaBP\",\"prevalentHyp\",\"sysBP\",\"age\",\"TenYearCHD\"],\"z\":[[0.01735197672631598,-0.1658829364493281,1.0,0.018531986685216415,0.008084781381301285,-0.010814936728227816,-0.03511248644944133,-0.08197022225908761,-0.0386803249967553,-0.023114759576968884,-0.1296309707717259,-0.06231638741285775,-0.13750394957497883,-0.05420602633370019,-0.03572092827488187,-0.05405895930035676],[0.1975964735347461,-0.213747945265249,0.018531986685216415,1.0,0.769689956637912,-0.04893836130046455,-0.03298778653239857,-0.10325974038796312,-0.04429512082472811,-0.046562340716645154,-0.13023011587156863,-0.10774649457796896,-0.16765003793815433,0.06235550890614254,-0.05682622128922882,0.019456266284899725],[-0.11661957511763056,-0.012822996650614205,-0.05420602633370019,0.06235550890614254,0.0751568718679917,0.015233096426589106,-0.01767559511258004,0.14726077568203397,0.048993606206791496,0.09112473154225632,0.18224564765352985,0.18125506498482627,0.0676784342830937,1.0,0.09450011786422341,0.022912612511118053],[0.31793005594171525,-0.1927908537098281,0.008084781381301285,0.769689956637912,1.0,-0.046133548718192294,-0.03270714967584387,-0.06614644134740454,-0.03706671622618704,-0.02631985724843176,-0.08877953294396243,-0.056632457312719,-0.09285600249518196,0.0751568718679917,-0.05895975679747391,0.057884258995742184],[-0.004546326644938703,0.05765481580465202,-0.03511248644944133,-0.03298778653239857,-0.03270714967584387,0.1173647202710275,1.0,0.0748296728205514,0.006949243086922416,0.00006676876003652282,0.05700872197635178,0.04519024394350093,0.025891350097667517,-0.01767559511258004,0.0184306602475139,0.06180994607791267],[0.08167215398814777,0.1357995683088472,-0.13750394957497883,-0.16765003793815433,-0.09285600249518196,0.10066817502474716,0.025891350097667517,0.30131764849313075,0.0870358967165062,0.11576679334549483,0.3269805806268178,0.3775876557799641,1.0,0.0676784342830937,0.08737654813879023,0.07519192600398175],[-0.07032186088687752,0.262131022498861,-0.023114759576968884,-0.046562340716645154,-0.02631985724843176,0.08055783845606404,0.00006676876003652282,0.16399310816401255,0.04027823931055122,1.0,0.20890778923685652,0.16518237272578673,0.11576679334549483,0.09112473154225632,0.046407933445493696,0.08218428287803838],[-0.05250614332830896,0.12299517407660093,-0.010814936728227816,-0.04893836130046455,-0.046133548718192294,1.0,0.1173647202710275,0.2611868186178432,0.05204674684028959,0.08055783845606404,0.2542189551392891,0.1942265042929355,0.10066817502474716,0.015233096426589106,0.051175810005965244,0.08748857747304171],[1.0,-0.02897863938604286,0.01735197672631598,0.1975964735347461,0.31793005594171525,-0.05250614332830896,-0.004546326644938703,0.0053133490608055925,0.015707987432113265,-0.07032186088687752,-0.035989265418974334,0.057933468655128176,0.08167215398814777,-0.11661957511763056,0.006082510502238282,0.08842756735157493],[0.015707987432113265,0.10125768873071221,-0.0386803249967553,-0.04429512082472811,-0.03706671622618704,0.05204674684028959,0.006949243086922416,0.07780840922749512,1.0,0.04027823931055122,0.1112834330556605,0.05032923354166244,0.0870358967165062,0.048993606206791496,0.6176272006572058,0.09731651337479544],[0.006082510502238282,0.12225578018944373,-0.03572092827488187,-0.05682622128922882,-0.05895975679747391,0.051175810005965244,0.0184306602475139,0.08683400191241139,0.6176272006572058,0.046407933445493696,0.1406211035672922,0.06123137879261275,0.08737654813879023,0.09450011786422341,1.0,0.12554400159795967],[0.057933468655128176,0.20610398945367533,-0.06231638741285775,-0.10774649457796896,-0.056632457312719,0.1942265042929355,0.04519024394350093,0.6157514239418015,0.05032923354166244,0.16518237272578673,0.7840020914320167,1.0,0.3775876557799641,0.18125506498482627,0.06123137879261275,0.14529910399806262],[0.0053133490608055925,0.3071940768671203,-0.08197022225908761,-0.10325974038796312,-0.06614644134740454,0.2611868186178432,0.0748296728205514,1.0,0.07780840922749512,0.16399310816401255,0.6967547676890465,0.6157514239418015,0.30131764849313075,0.14726077568203397,0.08683400191241139,0.17760273095315632],[-0.035989265418974334,0.3943015379245825,-0.1296309707717259,-0.13023011587156863,-0.08877953294396243,0.2542189551392891,0.05700872197635178,0.6967547676890465,0.1112834330556605,0.20890778923685652,1.0,0.7840020914320167,0.3269805806268178,0.18224564765352985,0.1406211035672922,0.21642903925772902],[-0.02897863938604286,1.0,-0.1658829364493281,-0.213747945265249,-0.1927908537098281,0.12299517407660093,0.05765481580465202,0.3071940768671203,0.10125768873071221,0.262131022498861,0.3943015379245825,0.20610398945367533,0.1357995683088472,-0.012822996650614205,0.12225578018944373,0.22525610383059044],[0.08842756735157493,0.22525610383059044,-0.05405895930035676,0.019456266284899725,0.057884258995742184,0.08748857747304171,0.06180994607791267,0.17760273095315632,0.09731651337479544,0.08218428287803838,0.21642903925772902,0.14529910399806262,0.07519192600398175,0.022912612511118053,0.12554400159795967,1.0]],\"type\":\"heatmap\",\"xaxis\":\"x\",\"yaxis\":\"y\",\"hovertemplate\":\"x: %{x}<br>y: %{y}<br>color: %{z}<extra></extra>\"}],                        {\"template\":{\"data\":{\"histogram2dcontour\":[{\"type\":\"histogram2dcontour\",\"colorbar\":{\"outlinewidth\":0,\"ticks\":\"\"},\"colorscale\":[[0.0,\"#0d0887\"],[0.1111111111111111,\"#46039f\"],[0.2222222222222222,\"#7201a8\"],[0.3333333333333333,\"#9c179e\"],[0.4444444444444444,\"#bd3786\"],[0.5555555555555556,\"#d8576b\"],[0.6666666666666666,\"#ed7953\"],[0.7777777777777778,\"#fb9f3a\"],[0.8888888888888888,\"#fdca26\"],[1.0,\"#f0f921\"]]}],\"choropleth\":[{\"type\":\"choropleth\",\"colorbar\":{\"outlinewidth\":0,\"ticks\":\"\"}}],\"histogram2d\":[{\"type\":\"histogram2d\",\"colorbar\":{\"outlinewidth\":0,\"ticks\":\"\"},\"colorscale\":[[0.0,\"#0d0887\"],[0.1111111111111111,\"#46039f\"],[0.2222222222222222,\"#7201a8\"],[0.3333333333333333,\"#9c179e\"],[0.4444444444444444,\"#bd3786\"],[0.5555555555555556,\"#d8576b\"],[0.6666666666666666,\"#ed7953\"],[0.7777777777777778,\"#fb9f3a\"],[0.8888888888888888,\"#fdca26\"],[1.0,\"#f0f921\"]]}],\"heatmap\":[{\"type\":\"heatmap\",\"colorbar\":{\"outlinewidth\":0,\"ticks\":\"\"},\"colorscale\":[[0.0,\"#0d0887\"],[0.1111111111111111,\"#46039f\"],[0.2222222222222222,\"#7201a8\"],[0.3333333333333333,\"#9c179e\"],[0.4444444444444444,\"#bd3786\"],[0.5555555555555556,\"#d8576b\"],[0.6666666666666666,\"#ed7953\"],[0.7777777777777778,\"#fb9f3a\"],[0.8888888888888888,\"#fdca26\"],[1.0,\"#f0f921\"]]}],\"heatmapgl\":[{\"type\":\"heatmapgl\",\"colorbar\":{\"outlinewidth\":0,\"ticks\":\"\"},\"colorscale\":[[0.0,\"#0d0887\"],[0.1111111111111111,\"#46039f\"],[0.2222222222222222,\"#7201a8\"],[0.3333333333333333,\"#9c179e\"],[0.4444444444444444,\"#bd3786\"],[0.5555555555555556,\"#d8576b\"],[0.6666666666666666,\"#ed7953\"],[0.7777777777777778,\"#fb9f3a\"],[0.8888888888888888,\"#fdca26\"],[1.0,\"#f0f921\"]]}],\"contourcarpet\":[{\"type\":\"contourcarpet\",\"colorbar\":{\"outlinewidth\":0,\"ticks\":\"\"}}],\"contour\":[{\"type\":\"contour\",\"colorbar\":{\"outlinewidth\":0,\"ticks\":\"\"},\"colorscale\":[[0.0,\"#0d0887\"],[0.1111111111111111,\"#46039f\"],[0.2222222222222222,\"#7201a8\"],[0.3333333333333333,\"#9c179e\"],[0.4444444444444444,\"#bd3786\"],[0.5555555555555556,\"#d8576b\"],[0.6666666666666666,\"#ed7953\"],[0.7777777777777778,\"#fb9f3a\"],[0.8888888888888888,\"#fdca26\"],[1.0,\"#f0f921\"]]}],\"surface\":[{\"type\":\"surface\",\"colorbar\":{\"outlinewidth\":0,\"ticks\":\"\"},\"colorscale\":[[0.0,\"#0d0887\"],[0.1111111111111111,\"#46039f\"],[0.2222222222222222,\"#7201a8\"],[0.3333333333333333,\"#9c179e\"],[0.4444444444444444,\"#bd3786\"],[0.5555555555555556,\"#d8576b\"],[0.6666666666666666,\"#ed7953\"],[0.7777777777777778,\"#fb9f3a\"],[0.8888888888888888,\"#fdca26\"],[1.0,\"#f0f921\"]]}],\"mesh3d\":[{\"type\":\"mesh3d\",\"colorbar\":{\"outlinewidth\":0,\"ticks\":\"\"}}],\"scatter\":[{\"fillpattern\":{\"fillmode\":\"overlay\",\"size\":10,\"solidity\":0.2},\"type\":\"scatter\"}],\"parcoords\":[{\"type\":\"parcoords\",\"line\":{\"colorbar\":{\"outlinewidth\":0,\"ticks\":\"\"}}}],\"scatterpolargl\":[{\"type\":\"scatterpolargl\",\"marker\":{\"colorbar\":{\"outlinewidth\":0,\"ticks\":\"\"}}}],\"bar\":[{\"error_x\":{\"color\":\"#2a3f5f\"},\"error_y\":{\"color\":\"#2a3f5f\"},\"marker\":{\"line\":{\"color\":\"#E5ECF6\",\"width\":0.5},\"pattern\":{\"fillmode\":\"overlay\",\"size\":10,\"solidity\":0.2}},\"type\":\"bar\"}],\"scattergeo\":[{\"type\":\"scattergeo\",\"marker\":{\"colorbar\":{\"outlinewidth\":0,\"ticks\":\"\"}}}],\"scatterpolar\":[{\"type\":\"scatterpolar\",\"marker\":{\"colorbar\":{\"outlinewidth\":0,\"ticks\":\"\"}}}],\"histogram\":[{\"marker\":{\"pattern\":{\"fillmode\":\"overlay\",\"size\":10,\"solidity\":0.2}},\"type\":\"histogram\"}],\"scattergl\":[{\"type\":\"scattergl\",\"marker\":{\"colorbar\":{\"outlinewidth\":0,\"ticks\":\"\"}}}],\"scatter3d\":[{\"type\":\"scatter3d\",\"line\":{\"colorbar\":{\"outlinewidth\":0,\"ticks\":\"\"}},\"marker\":{\"colorbar\":{\"outlinewidth\":0,\"ticks\":\"\"}}}],\"scattermapbox\":[{\"type\":\"scattermapbox\",\"marker\":{\"colorbar\":{\"outlinewidth\":0,\"ticks\":\"\"}}}],\"scatterternary\":[{\"type\":\"scatterternary\",\"marker\":{\"colorbar\":{\"outlinewidth\":0,\"ticks\":\"\"}}}],\"scattercarpet\":[{\"type\":\"scattercarpet\",\"marker\":{\"colorbar\":{\"outlinewidth\":0,\"ticks\":\"\"}}}],\"carpet\":[{\"aaxis\":{\"endlinecolor\":\"#2a3f5f\",\"gridcolor\":\"white\",\"linecolor\":\"white\",\"minorgridcolor\":\"white\",\"startlinecolor\":\"#2a3f5f\"},\"baxis\":{\"endlinecolor\":\"#2a3f5f\",\"gridcolor\":\"white\",\"linecolor\":\"white\",\"minorgridcolor\":\"white\",\"startlinecolor\":\"#2a3f5f\"},\"type\":\"carpet\"}],\"table\":[{\"cells\":{\"fill\":{\"color\":\"#EBF0F8\"},\"line\":{\"color\":\"white\"}},\"header\":{\"fill\":{\"color\":\"#C8D4E3\"},\"line\":{\"color\":\"white\"}},\"type\":\"table\"}],\"barpolar\":[{\"marker\":{\"line\":{\"color\":\"#E5ECF6\",\"width\":0.5},\"pattern\":{\"fillmode\":\"overlay\",\"size\":10,\"solidity\":0.2}},\"type\":\"barpolar\"}],\"pie\":[{\"automargin\":true,\"type\":\"pie\"}]},\"layout\":{\"autotypenumbers\":\"strict\",\"colorway\":[\"#636efa\",\"#EF553B\",\"#00cc96\",\"#ab63fa\",\"#FFA15A\",\"#19d3f3\",\"#FF6692\",\"#B6E880\",\"#FF97FF\",\"#FECB52\"],\"font\":{\"color\":\"#2a3f5f\"},\"hovermode\":\"closest\",\"hoverlabel\":{\"align\":\"left\"},\"paper_bgcolor\":\"white\",\"plot_bgcolor\":\"#E5ECF6\",\"polar\":{\"bgcolor\":\"#E5ECF6\",\"angularaxis\":{\"gridcolor\":\"white\",\"linecolor\":\"white\",\"ticks\":\"\"},\"radialaxis\":{\"gridcolor\":\"white\",\"linecolor\":\"white\",\"ticks\":\"\"}},\"ternary\":{\"bgcolor\":\"#E5ECF6\",\"aaxis\":{\"gridcolor\":\"white\",\"linecolor\":\"white\",\"ticks\":\"\"},\"baxis\":{\"gridcolor\":\"white\",\"linecolor\":\"white\",\"ticks\":\"\"},\"caxis\":{\"gridcolor\":\"white\",\"linecolor\":\"white\",\"ticks\":\"\"}},\"coloraxis\":{\"colorbar\":{\"outlinewidth\":0,\"ticks\":\"\"}},\"colorscale\":{\"sequential\":[[0.0,\"#0d0887\"],[0.1111111111111111,\"#46039f\"],[0.2222222222222222,\"#7201a8\"],[0.3333333333333333,\"#9c179e\"],[0.4444444444444444,\"#bd3786\"],[0.5555555555555556,\"#d8576b\"],[0.6666666666666666,\"#ed7953\"],[0.7777777777777778,\"#fb9f3a\"],[0.8888888888888888,\"#fdca26\"],[1.0,\"#f0f921\"]],\"sequentialminus\":[[0.0,\"#0d0887\"],[0.1111111111111111,\"#46039f\"],[0.2222222222222222,\"#7201a8\"],[0.3333333333333333,\"#9c179e\"],[0.4444444444444444,\"#bd3786\"],[0.5555555555555556,\"#d8576b\"],[0.6666666666666666,\"#ed7953\"],[0.7777777777777778,\"#fb9f3a\"],[0.8888888888888888,\"#fdca26\"],[1.0,\"#f0f921\"]],\"diverging\":[[0,\"#8e0152\"],[0.1,\"#c51b7d\"],[0.2,\"#de77ae\"],[0.3,\"#f1b6da\"],[0.4,\"#fde0ef\"],[0.5,\"#f7f7f7\"],[0.6,\"#e6f5d0\"],[0.7,\"#b8e186\"],[0.8,\"#7fbc41\"],[0.9,\"#4d9221\"],[1,\"#276419\"]]},\"xaxis\":{\"gridcolor\":\"white\",\"linecolor\":\"white\",\"ticks\":\"\",\"title\":{\"standoff\":15},\"zerolinecolor\":\"white\",\"automargin\":true,\"zerolinewidth\":2},\"yaxis\":{\"gridcolor\":\"white\",\"linecolor\":\"white\",\"ticks\":\"\",\"title\":{\"standoff\":15},\"zerolinecolor\":\"white\",\"automargin\":true,\"zerolinewidth\":2},\"scene\":{\"xaxis\":{\"backgroundcolor\":\"#E5ECF6\",\"gridcolor\":\"white\",\"linecolor\":\"white\",\"showbackground\":true,\"ticks\":\"\",\"zerolinecolor\":\"white\",\"gridwidth\":2},\"yaxis\":{\"backgroundcolor\":\"#E5ECF6\",\"gridcolor\":\"white\",\"linecolor\":\"white\",\"showbackground\":true,\"ticks\":\"\",\"zerolinecolor\":\"white\",\"gridwidth\":2},\"zaxis\":{\"backgroundcolor\":\"#E5ECF6\",\"gridcolor\":\"white\",\"linecolor\":\"white\",\"showbackground\":true,\"ticks\":\"\",\"zerolinecolor\":\"white\",\"gridwidth\":2}},\"shapedefaults\":{\"line\":{\"color\":\"#2a3f5f\"}},\"annotationdefaults\":{\"arrowcolor\":\"#2a3f5f\",\"arrowhead\":0,\"arrowwidth\":1},\"geo\":{\"bgcolor\":\"white\",\"landcolor\":\"#E5ECF6\",\"subunitcolor\":\"white\",\"showland\":true,\"showlakes\":true,\"lakecolor\":\"white\"},\"title\":{\"x\":0.05},\"mapbox\":{\"style\":\"light\"}}},\"xaxis\":{\"anchor\":\"y\",\"domain\":[0.0,1.0],\"scaleanchor\":\"y\",\"constrain\":\"domain\"},\"yaxis\":{\"anchor\":\"x\",\"domain\":[0.0,1.0],\"autorange\":\"reversed\",\"constrain\":\"domain\"},\"coloraxis\":{\"colorscale\":[[0.0,\"#0d0887\"],[0.1111111111111111,\"#46039f\"],[0.2222222222222222,\"#7201a8\"],[0.3333333333333333,\"#9c179e\"],[0.4444444444444444,\"#bd3786\"],[0.5555555555555556,\"#d8576b\"],[0.6666666666666666,\"#ed7953\"],[0.7777777777777778,\"#fb9f3a\"],[0.8888888888888888,\"#fdca26\"],[1.0,\"#f0f921\"]]},\"title\":{\"text\":\"Heatmap of Correlation\"}},                        {\"responsive\": true}                    ).then(function(){\n",
       "                            \n",
       "var gd = document.getElementById('654f278e-4862-4ec7-b5cd-c3fc48f7fbe6');\n",
       "var x = new MutationObserver(function (mutations, observer) {{\n",
       "        var display = window.getComputedStyle(gd).display;\n",
       "        if (!display || display === 'none') {{\n",
       "            console.log([gd, 'removed!']);\n",
       "            Plotly.purge(gd);\n",
       "            observer.disconnect();\n",
       "        }}\n",
       "}});\n",
       "\n",
       "// Listen for the removal of the full notebook cells\n",
       "var notebookContainer = gd.closest('#notebook-container');\n",
       "if (notebookContainer) {{\n",
       "    x.observe(notebookContainer, {childList: true});\n",
       "}}\n",
       "\n",
       "// Listen for the clearing of the current output cell\n",
       "var outputEl = gd.closest('.output');\n",
       "if (outputEl) {{\n",
       "    x.observe(outputEl, {childList: true});\n",
       "}}\n",
       "\n",
       "                        })                };                });            </script>        </div>"
      ]
     },
     "metadata": {},
     "output_type": "display_data"
    }
   ],
   "source": [
    "fig = px.imshow(raw_df.corr().sort_values(by='TenYearCHD'), text_auto=True, title='Heatmap of Correlation')\n",
    "fig.show()"
   ]
  },
  {
   "cell_type": "markdown",
   "id": "b5762590",
   "metadata": {
    "papermill": {
     "duration": 0.058368,
     "end_time": "2022-04-23T01:20:38.147588",
     "exception": false,
     "start_time": "2022-04-23T01:20:38.089220",
     "status": "completed"
    },
    "tags": []
   },
   "source": [
    "`age` Column has more correlation with `TenYearCHD`. That means Heart disease various from age to age"
   ]
  },
  {
   "cell_type": "code",
   "execution_count": 8,
   "id": "803e96e2",
   "metadata": {
    "execution": {
     "iopub.execute_input": "2022-04-23T01:20:38.273119Z",
     "iopub.status.busy": "2022-04-23T01:20:38.272550Z",
     "iopub.status.idle": "2022-04-23T01:20:38.399972Z",
     "shell.execute_reply": "2022-04-23T01:20:38.399172Z"
    },
    "papermill": {
     "duration": 0.19337,
     "end_time": "2022-04-23T01:20:38.402015",
     "exception": false,
     "start_time": "2022-04-23T01:20:38.208645",
     "status": "completed"
    },
    "tags": []
   },
   "outputs": [
    {
     "data": {
      "text/html": [
       "<div>                            <div id=\"83eeaf2d-a8e7-4a5c-9b78-cc2d6f7385ff\" class=\"plotly-graph-div\" style=\"height:525px; width:100%;\"></div>            <script type=\"text/javascript\">                require([\"plotly\"], function(Plotly) {                    window.PLOTLYENV=window.PLOTLYENV || {};                                    if (document.getElementById(\"83eeaf2d-a8e7-4a5c-9b78-cc2d6f7385ff\")) {                    Plotly.newPlot(                        \"83eeaf2d-a8e7-4a5c-9b78-cc2d6f7385ff\",                        [{\"alignmentgroup\":\"True\",\"bingroup\":\"x\",\"hovertemplate\":\"male=1<br>age=%{x}<br>count=%{y}<extra></extra>\",\"legendgroup\":\"1\",\"marker\":{\"color\":\"#636efa\",\"pattern\":{\"shape\":\"\"}},\"name\":\"1\",\"offsetgroup\":\"1\",\"orientation\":\"v\",\"showlegend\":true,\"x\":[39,48,52,43,46,48,41,44,47,35,36,43,61,54,37,56,52,36,54,46,36,51,49,44,56,53,57,38,42,41,60,39,41,41,53,39,60,40,49,51,48,50,60,36,50,66,41,44,38,43,53,43,59,46,61,49,43,40,48,64,39,41,57,50,39,48,38,62,42,36,67,56,42,38,56,61,45,48,60,53,52,41,42,43,45,61,45,49,53,54,56,46,48,54,59,40,65,65,63,46,55,38,61,51,36,39,52,47,64,57,45,45,41,62,52,68,39,36,48,41,51,41,38,36,49,62,39,45,41,44,44,49,43,39,56,39,51,43,41,49,41,39,50,53,51,40,59,37,40,59,46,55,67,68,39,40,39,51,51,39,59,66,56,41,45,37,41,44,36,45,37,44,65,40,43,54,45,36,63,44,61,61,46,38,55,38,50,38,53,56,61,56,46,53,49,50,44,37,54,63,40,56,44,51,45,56,38,57,56,46,64,43,35,46,62,52,49,47,36,43,37,64,47,39,43,50,48,45,53,56,42,60,50,43,41,59,62,37,52,40,39,44,38,60,44,48,62,46,42,55,44,39,59,67,50,63,38,38,60,41,51,40,34,36,38,37,57,40,51,43,50,48,42,45,38,58,60,54,45,48,64,50,40,62,40,58,47,44,50,57,39,41,49,59,64,57,62,64,44,41,48,49,39,52,44,60,42,42,62,50,53,47,45,50,55,67,56,38,40,34,35,48,47,52,45,42,63,46,49,42,54,57,47,49,54,53,66,59,36,37,49,44,41,37,50,68,44,35,57,49,58,55,43,49,39,39,44,42,60,40,56,42,48,65,52,39,51,49,53,52,58,37,57,64,35,38,45,58,59,38,53,64,39,40,47,64,49,39,61,55,58,36,62,44,43,48,48,56,66,57,38,57,52,64,52,52,50,60,39,57,47,42,53,39,39,47,49,46,60,50,53,42,58,53,58,60,62,59,35,36,34,46,42,63,45,45,39,48,45,58,57,61,42,50,42,46,53,44,58,67,44,41,40,48,41,53,52,48,55,45,44,47,47,43,51,52,50,43,57,53,61,53,42,58,65,54,64,40,40,59,44,50,56,57,55,41,61,68,56,47,67,49,36,45,44,54,38,46,49,50,60,62,40,53,64,46,52,42,46,35,58,44,41,40,57,58,42,59,55,68,61,41,51,45,40,47,38,50,60,58,63,52,36,58,58,61,45,40,53,64,48,43,56,41,42,47,39,40,52,50,55,46,62,41,38,59,50,59,44,64,60,50,43,56,38,49,35,62,44,52,52,57,42,64,37,33,38,40,66,64,47,44,55,55,45,53,62,54,49,42,46,43,50,51,44,47,44,36,63,36,40,43,36,39,48,41,42,45,44,51,39,43,54,41,61,38,37,54,39,46,46,52,54,51,59,40,50,61,41,61,55,61,52,54,37,46,55,52,64,62,38,52,42,39,58,36,49,51,44,54,53,46,52,42,48,40,38,67,59,52,67,54,55,58,52,47,61,40,36,40,55,53,45,66,63,40,47,44,52,50,59,46,41,57,41,36,52,44,38,39,40,38,42,39,41,56,56,50,43,37,51,53,41,56,44,66,54,35,61,40,44,39,65,48,65,49,52,63,58,38,45,54,47,56,50,56,37,60,40,57,48,61,39,57,55,48,37,43,62,42,51,61,40,56,53,42,60,56,37,40,43,59,44,45,43,57,38,50,67,48,51,57,39,44,41,49,56,35,57,40,62,48,66,61,56,60,42,50,57,43,63,56,49,54,63,54,46,48,64,63,64,55,42,51,62,40,37,58,51,51,37,61,40,41,62,64,38,45,41,59,46,47,64,45,53,45,48,48,44,63,41,53,42,63,59,61,57,43,44,51,36,36,64,50,52,45,42,47,46,35,36,67,38,38,39,39,68,54,60,38,50,44,44,51,57,60,40,38,57,64,54,42,36,62,45,64,43,52,48,57,50,50,65,66,57,43,55,67,50,41,56,39,62,57,56,54,58,48,54,37,55,45,41,51,62,42,36,36,38,54,40,48,38,48,44,49,63,38,58,52,40,42,37,44,44,42,45,39,42,55,45,52,53,46,41,62,60,45,39,43,42,60,38,62,38,52,52,59,54,39,46,45,46,50,41,48,56,41,48,57,44,40,57,42,38,41,43,43,52,44,42,57,39,49,48,54,60,47,54,60,48,37,63,66,38,44,63,60,61,63,61,36,43,60,46,66,40,46,50,49,37,43,48,37,43,37,58,42,48,45,63,60,58,59,46,50,40,47,64,40,62,55,56,51,47,39,48,43,56,45,46,49,55,42,49,60,49,36,59,44,51,38,66,63,51,48,48,58,56,59,59,65,37,64,62,35,48,37,52,51,55,57,39,59,42,57,44,47,46,45,53,57,45,60,53,43,59,42,54,60,41,52,53,47,38,37,65,48,50,41,46,55,57,46,63,52,36,40,54,38,47,58,49,40,58,48,60,53,44,45,64,55,59,55,59,51,49,41,44,40,64,44,53,61,44,61,61,55,38,46,45,47,54,46,44,52,42,58,41,55,51,36,63,37,51,52,47,67,63,58,64,40,44,43,46,49,41,41,41,62,67,38,37,44,46,56,53,41,55,45,40,43,58,59,44,39,45,50,45,46,41,65,54,42,43,47,53,44,55,47,51,49,43,57,62,51,42,40,48,48,38,48,58,42,46,48,51,42,54,40,60,49,51,42,44,50,48,52,46,59,59,50,58,56,50,47,56,40,63,41,49,43,49,42,46,44,49,67,62,48,58,40,43,52,61,43,56,55,46,43,43,64,48,46,51,51,41,41,56,48,54,41,54,53,52,51,68,39,54,46,55,38,36,50,42,50,50,58,44,61,36,44,44,44,51,48,64,40,45,39,42,52,39,53,45,53,53,38,44,57,61,57,39,58,56,60,41,50,61,33,46,52,45,63,52,46,37,36,51,43,49,57,39,54,53,40,57,54,63,39,45,47,42,38,44,54,39,46,48,52,54,65,44,51,41,35,42,37,45,35,51,42,39,44,60,53,41,43,45,42,45,42,62,63,55,46,48,45,43,38,45,37,52,45,57,48,46,58,42,39,52,50,60,62,51,51,47,40,51,59,50,54,60,36,58,44,44,42,46,46,61,69,45,38,58,43,55,39,57,61,47,56,40,58,48,65,60,36,57,62,44,48,65,52,63,46,47,38,61,51,45,48,48,63,55,59,54,52,36,62,55,51,37,60,38,51,56,41,47,37,59,50,62,39,46,49,55,58,53,46,52,41,44,63,44,54,63,41,52,40,39,45,44,51,42,52,36,42,48,62,57,47,50,57,56,57,60,50,52,40,43,42,48,59,60,63,38,56,45,54,38,53,50,62,38,58,50,45,42,51,48,40,36,43,59,43,43,61,60,44,52,62,58,47,57,55,46,41,39,48,57,40,37,35,56,42,48,63,61,53,44,40,39,41,58,45,49,40,38,50,54,66,63,52,54,65,53,50,48,55,68,62,53,56,48,49,60,49,56,48,67,43,48,48,57,38,56,40,34,50,52,43,41,37,40,42,42,43,49,60,46,49,42,53,44,49,41,45,63,59,60,55,36,60,39,34,45,53,39,52,35,49,43,40,39,50,37,47,61,52,54,58,53,43,54,43,51,65,50,35,41,60,47,48,39,55,62,46,52,68,45,63,53,40,57,37,38,48,68,45,58,45,37,45,48,61,52,45,46,38,61,40,41,59,47,65,37,40,42,58,68,40,38,55,52,44,59,55,43,43,62,57,38,38,59,67,48,40,62,49,51,52,48,63,59,41,39,40,64,42,64,43,61,51,39,41,54,46,39,40,46,64,48,44,39,62,39,63,43,53,60,45,48,55,36,60,40,40,52,66,44,56,56,46,37,47,50,41,39,44,44,55,38,44,41,47,42,42,53,51,63,43,42,62,47,47,51,43,64,60,54,37,69,50,43,54,45,49,40,47,51,40,69,51,57,38,53,57,57,46,67,49,48,47,55,59,55,42,42,41,52,47,62,65,39,57,41,58,51,52,41,43,38,65,44,58,54,45,65,62,63,65,50,42,48,48,48,60,50,53,56,47,45,58,43,58,68,50,51],\"xaxis\":\"x\",\"yaxis\":\"y\",\"type\":\"histogram\"},{\"alignmentgroup\":\"True\",\"bingroup\":\"x\",\"hovertemplate\":\"male=0<br>age=%{x}<br>count=%{y}<extra></extra>\",\"legendgroup\":\"0\",\"marker\":{\"color\":\"#EF553B\",\"pattern\":{\"shape\":\"\"}},\"name\":\"0\",\"offsetgroup\":\"0\",\"orientation\":\"v\",\"showlegend\":true,\"x\":[46,61,46,43,63,45,50,43,41,39,38,46,38,42,43,52,52,60,61,60,59,42,43,41,52,53,49,65,63,63,47,62,39,46,54,40,67,57,63,62,47,52,63,37,41,44,59,44,44,45,53,52,61,36,62,61,51,66,65,63,40,56,56,47,60,45,48,42,63,42,66,67,64,41,37,39,46,46,55,41,56,50,43,41,55,57,56,59,47,54,64,61,61,66,38,58,49,49,46,36,47,62,37,46,52,50,39,55,60,61,39,42,37,53,52,45,55,42,49,55,58,38,37,64,56,67,66,34,52,43,57,48,36,38,60,40,43,50,53,59,48,36,55,55,45,40,61,40,60,58,39,60,42,60,46,55,50,54,57,43,46,53,67,42,45,51,60,35,39,54,38,36,44,54,45,47,34,62,48,55,55,46,52,39,54,47,39,46,63,37,53,51,60,59,56,43,48,61,55,42,54,52,64,58,42,41,63,46,53,53,59,45,58,54,40,38,48,46,67,40,52,42,54,58,45,61,55,42,53,63,55,39,39,54,48,65,65,47,41,41,43,46,60,46,44,55,61,45,52,46,42,58,38,51,64,53,59,40,57,48,45,33,56,43,60,48,55,50,46,47,44,44,41,47,48,40,35,49,57,44,47,38,46,37,51,64,62,39,47,44,51,41,46,60,40,52,64,50,41,51,50,46,53,54,65,58,59,50,53,57,46,65,41,61,41,53,62,40,49,49,46,38,43,55,61,50,40,50,44,37,42,54,39,38,55,66,34,44,49,47,63,39,59,37,51,51,46,60,52,45,60,41,46,40,42,47,55,61,64,54,41,35,40,52,63,51,51,47,64,39,42,52,41,56,38,63,42,40,60,40,54,39,39,60,58,56,50,41,36,64,51,49,59,62,56,57,38,49,65,58,53,48,36,55,64,49,45,45,57,60,58,38,54,39,46,60,60,54,47,45,51,35,47,45,38,59,38,39,51,40,53,37,48,40,51,48,64,61,58,48,45,66,67,63,63,45,41,44,53,38,42,58,37,63,45,54,67,39,41,40,46,43,56,52,44,64,59,59,53,35,46,40,58,47,60,35,43,55,62,36,37,47,53,42,50,53,59,47,55,59,43,46,46,42,61,36,48,59,48,44,52,35,64,53,59,55,58,40,58,38,55,64,47,62,50,64,66,39,42,59,57,62,51,44,60,54,43,61,35,66,53,46,42,60,56,48,62,45,53,37,60,53,59,47,40,53,47,51,43,47,43,34,47,49,39,58,63,53,49,47,36,42,39,61,54,61,38,51,37,64,55,45,67,40,48,53,50,64,61,46,55,57,37,41,64,43,38,56,51,54,53,42,50,57,65,46,60,44,42,62,55,56,55,65,49,54,52,40,55,41,37,48,52,45,65,42,45,56,58,54,56,67,59,49,54,55,46,40,40,37,53,52,37,50,38,60,35,42,40,59,52,63,66,39,55,56,67,44,46,42,63,47,61,52,51,64,64,44,45,53,63,57,64,55,46,38,56,67,45,64,50,41,46,60,41,47,45,52,53,51,53,36,62,58,55,47,57,64,63,48,58,41,64,62,66,59,36,49,47,58,66,41,40,42,49,52,58,40,42,43,38,39,38,41,42,47,45,36,45,35,49,50,43,49,45,58,47,45,43,47,46,49,46,59,40,54,56,51,53,59,41,40,65,45,53,60,40,55,50,45,55,43,63,34,33,55,52,35,57,60,53,36,59,49,42,38,43,39,39,46,48,44,57,49,42,58,49,59,54,39,39,41,56,65,53,42,55,61,43,43,66,64,43,42,53,46,51,67,45,42,48,43,65,48,63,40,42,63,36,46,39,51,57,38,41,43,55,38,46,53,52,51,55,67,55,39,48,45,49,47,59,60,48,48,58,65,59,40,51,60,44,47,54,53,51,47,46,60,49,57,45,39,40,50,55,61,63,57,58,57,40,43,46,52,42,47,51,38,63,41,47,56,47,41,57,40,37,44,36,61,51,43,48,37,54,59,44,48,45,53,63,48,42,59,45,46,53,38,43,61,53,37,54,62,41,47,39,67,64,39,46,51,38,42,52,63,55,42,39,57,60,39,40,62,40,58,36,62,61,41,46,45,61,43,46,64,49,41,50,56,49,50,70,49,46,50,44,58,43,36,54,40,48,39,41,51,60,43,51,39,51,46,40,47,44,54,63,53,44,56,47,57,40,34,62,55,36,39,53,40,41,43,64,49,43,40,66,51,57,62,51,35,42,47,58,43,53,48,49,55,57,51,50,47,38,43,57,56,39,49,55,46,64,52,39,39,54,38,55,59,48,52,38,51,47,43,36,44,45,57,57,39,51,60,51,63,55,47,58,41,48,43,51,41,65,52,54,45,58,46,59,40,55,49,40,38,55,40,56,64,43,55,66,55,38,63,46,41,49,61,42,58,41,61,62,61,56,47,42,42,50,39,58,67,39,60,50,43,42,56,47,56,36,62,44,41,56,61,50,55,38,40,47,40,65,50,39,53,51,55,39,59,52,48,64,54,47,55,42,47,48,52,66,44,58,42,42,59,58,63,51,49,59,44,52,45,63,39,55,63,46,58,53,51,42,62,43,48,57,43,49,45,52,61,46,48,64,53,60,38,63,59,59,46,48,40,49,50,51,58,51,40,46,59,44,47,42,54,52,51,38,43,42,45,62,62,57,39,38,64,38,43,54,41,50,49,40,48,35,52,50,45,52,56,42,58,46,35,54,39,37,59,40,40,62,48,46,55,42,42,41,39,39,50,50,33,36,44,53,57,40,55,39,56,61,39,37,60,62,51,58,63,59,53,40,56,41,37,50,41,49,59,52,37,39,55,40,44,42,62,66,54,57,42,42,45,62,41,62,58,54,53,43,61,56,53,45,51,52,63,46,37,50,35,42,48,52,48,53,34,65,45,38,59,55,37,45,41,53,48,50,36,53,63,38,56,38,55,45,65,58,61,63,48,45,49,42,57,54,50,49,39,54,51,58,45,40,64,47,41,36,39,48,37,64,46,43,44,63,46,46,51,48,42,44,50,40,49,42,39,50,58,41,64,49,40,63,51,64,58,48,58,55,42,44,50,32,39,57,54,50,60,54,46,50,52,38,41,53,57,41,41,56,49,59,45,46,42,41,35,37,49,62,49,44,51,65,65,61,61,53,65,34,63,44,47,52,41,50,49,56,54,48,63,50,60,44,39,37,53,39,58,40,66,54,55,45,48,50,37,57,42,67,59,59,39,67,46,45,68,57,54,44,50,39,43,36,41,63,37,45,40,39,49,39,41,67,43,55,48,48,38,48,40,57,40,64,53,51,40,41,50,51,45,40,43,51,60,36,52,39,40,52,55,54,41,40,43,54,49,67,44,42,37,53,64,36,54,60,57,42,58,57,52,58,64,52,47,39,38,43,53,60,48,48,50,45,56,43,59,41,42,43,53,47,66,64,40,60,63,64,42,52,55,40,65,51,42,40,57,65,59,47,56,39,68,52,65,54,58,40,63,36,46,41,43,56,68,48,63,49,46,51,67,38,54,48,58,41,62,48,44,42,48,40,46,40,63,68,43,45,38,40,45,39,64,52,47,45,41,54,41,44,44,41,58,44,41,60,59,40,42,56,52,42,49,62,55,41,38,50,53,54,36,60,61,46,47,62,35,48,40,44,46,40,43,43,51,55,59,41,57,41,45,61,43,40,59,52,49,52,50,54,42,50,39,48,47,57,63,43,48,52,61,59,42,48,53,67,59,47,36,51,49,54,38,45,50,45,36,55,40,57,41,63,59,67,42,39,42,43,52,45,56,50,49,57,40,59,61,43,65,42,55,56,56,51,59,47,45,53,54,59,47,65,44,55,49,44,49,46,63,51,61,45,48,52,57,41,55,40,58,45,38,57,62,50,55,53,37,49,55,57,35,39,54,56,49,59,52,66,41,45,46,41,59,44,56,57,34,45,38,47,54,69,60,63,50,54,57,48,44,50,49,52,46,41,41,63,43,67,42,51,63,40,58,61,60,49,52,46,42,40,54,51,51,39,54,47,40,63,45,53,43,48,38,54,62,51,44,42,62,64,49,60,70,40,47,39,57,58,67,42,60,52,44,50,38,57,58,62,44,59,53,40,60,36,45,50,49,55,53,39,38,48,49,46,43,45,38,59,45,49,47,49,37,46,57,55,39,40,42,61,65,36,44,50,43,50,41,43,41,55,46,45,66,47,51,46,43,64,45,40,39,48,43,44,64,37,69,51,40,48,44,47,41,42,53,66,39,47,56,44,59,63,65,41,46,46,48,46,48,40,47,42,41,61,52,47,41,47,37,52,58,45,58,61,39,46,40,39,50,47,61,64,59,63,51,45,54,64,49,59,42,64,51,66,54,47,41,65,50,68,47,47,48,61,50,44,61,43,57,44,62,62,59,58,51,42,57,49,53,63,42,66,48,53,45,51,55,56,50,36,61,36,58,49,48,56,61,51,42,58,52,52,61,62,54,54,44,59,62,45,40,43,50,35,40,35,67,62,61,63,60,49,55,46,40,55,40,49,56,53,38,59,62,56,43,50,46,60,48,38,49,60,48,44,44,46,37,54,55,46,39,37,43,68,46,55,41,46,53,58,49,43,43,46,62,53,61,49,67,54,39,65,40,41,36,52,44,44,39,48,45,58,47,44,47,57,60,42,40,63,51,49,41,55,54,40,48,38,38,44,47,47,57,44,43,41,45,46,50,42,58,36,37,56,50,53,40,41,38,46,51,39,37,62,43,46,48,41,38,59,54,69,42,47,60,62,51,43,55,44,63,34,50,36,59,47,46,42,57,44,60,47,40,65,56,46,56,59,48,50,45,55,41,57,65,44,55,61,38,59,60,54,45,38,56,35,44,46,50,55,60,61,34,40,40,51,59,61,47,67,64,55,41,60,42,38,49,56,34,54,48,59,48,48,46,53,52,43,49,61,44,56,41,53,38,65,39,37,37,39,52,62,53,42,65,49,52,45,62,41,46,62,55,46,43,43,38,64,67,64,57,46,56,59,48,45,58,39,53,38,57,39,39,65,46,63,54,47,42,40,36,56,52,44,63,38,52,39,35,61,56,55,51,43,46,35,49,47,45,39,51,55,57,41,48,47,53,44,41,50,39,66,52,39,56,42,54,43,56,62,64,56,46,44,55,61,54,41,35,46,51,51,35,55,43,40,54,46,44,37,58,46,53,52,40,40,55,38,55,46,44,34,49,40,52,58,46,39,56,39,59,44,48,57,48,61,46,53,51,40,52,40,61,36,63,46,54,58,55,56,64,40,46,56,61,56,51,38,46,43,56,61,64,65,63,37,55,64,48,45,57,39,42,42,42,53,48,55,62,36,57,38,61,69,56,37,47,44,45,62,38,41,54,41,52,54,37,49,42,44,41,37,63,40,46,63,52,61,38,42,38,46,43,61,51,56,63,59,63,52,50,51,56,48,44,52],\"xaxis\":\"x\",\"yaxis\":\"y\",\"type\":\"histogram\"}],                        {\"template\":{\"data\":{\"histogram2dcontour\":[{\"type\":\"histogram2dcontour\",\"colorbar\":{\"outlinewidth\":0,\"ticks\":\"\"},\"colorscale\":[[0.0,\"#0d0887\"],[0.1111111111111111,\"#46039f\"],[0.2222222222222222,\"#7201a8\"],[0.3333333333333333,\"#9c179e\"],[0.4444444444444444,\"#bd3786\"],[0.5555555555555556,\"#d8576b\"],[0.6666666666666666,\"#ed7953\"],[0.7777777777777778,\"#fb9f3a\"],[0.8888888888888888,\"#fdca26\"],[1.0,\"#f0f921\"]]}],\"choropleth\":[{\"type\":\"choropleth\",\"colorbar\":{\"outlinewidth\":0,\"ticks\":\"\"}}],\"histogram2d\":[{\"type\":\"histogram2d\",\"colorbar\":{\"outlinewidth\":0,\"ticks\":\"\"},\"colorscale\":[[0.0,\"#0d0887\"],[0.1111111111111111,\"#46039f\"],[0.2222222222222222,\"#7201a8\"],[0.3333333333333333,\"#9c179e\"],[0.4444444444444444,\"#bd3786\"],[0.5555555555555556,\"#d8576b\"],[0.6666666666666666,\"#ed7953\"],[0.7777777777777778,\"#fb9f3a\"],[0.8888888888888888,\"#fdca26\"],[1.0,\"#f0f921\"]]}],\"heatmap\":[{\"type\":\"heatmap\",\"colorbar\":{\"outlinewidth\":0,\"ticks\":\"\"},\"colorscale\":[[0.0,\"#0d0887\"],[0.1111111111111111,\"#46039f\"],[0.2222222222222222,\"#7201a8\"],[0.3333333333333333,\"#9c179e\"],[0.4444444444444444,\"#bd3786\"],[0.5555555555555556,\"#d8576b\"],[0.6666666666666666,\"#ed7953\"],[0.7777777777777778,\"#fb9f3a\"],[0.8888888888888888,\"#fdca26\"],[1.0,\"#f0f921\"]]}],\"heatmapgl\":[{\"type\":\"heatmapgl\",\"colorbar\":{\"outlinewidth\":0,\"ticks\":\"\"},\"colorscale\":[[0.0,\"#0d0887\"],[0.1111111111111111,\"#46039f\"],[0.2222222222222222,\"#7201a8\"],[0.3333333333333333,\"#9c179e\"],[0.4444444444444444,\"#bd3786\"],[0.5555555555555556,\"#d8576b\"],[0.6666666666666666,\"#ed7953\"],[0.7777777777777778,\"#fb9f3a\"],[0.8888888888888888,\"#fdca26\"],[1.0,\"#f0f921\"]]}],\"contourcarpet\":[{\"type\":\"contourcarpet\",\"colorbar\":{\"outlinewidth\":0,\"ticks\":\"\"}}],\"contour\":[{\"type\":\"contour\",\"colorbar\":{\"outlinewidth\":0,\"ticks\":\"\"},\"colorscale\":[[0.0,\"#0d0887\"],[0.1111111111111111,\"#46039f\"],[0.2222222222222222,\"#7201a8\"],[0.3333333333333333,\"#9c179e\"],[0.4444444444444444,\"#bd3786\"],[0.5555555555555556,\"#d8576b\"],[0.6666666666666666,\"#ed7953\"],[0.7777777777777778,\"#fb9f3a\"],[0.8888888888888888,\"#fdca26\"],[1.0,\"#f0f921\"]]}],\"surface\":[{\"type\":\"surface\",\"colorbar\":{\"outlinewidth\":0,\"ticks\":\"\"},\"colorscale\":[[0.0,\"#0d0887\"],[0.1111111111111111,\"#46039f\"],[0.2222222222222222,\"#7201a8\"],[0.3333333333333333,\"#9c179e\"],[0.4444444444444444,\"#bd3786\"],[0.5555555555555556,\"#d8576b\"],[0.6666666666666666,\"#ed7953\"],[0.7777777777777778,\"#fb9f3a\"],[0.8888888888888888,\"#fdca26\"],[1.0,\"#f0f921\"]]}],\"mesh3d\":[{\"type\":\"mesh3d\",\"colorbar\":{\"outlinewidth\":0,\"ticks\":\"\"}}],\"scatter\":[{\"fillpattern\":{\"fillmode\":\"overlay\",\"size\":10,\"solidity\":0.2},\"type\":\"scatter\"}],\"parcoords\":[{\"type\":\"parcoords\",\"line\":{\"colorbar\":{\"outlinewidth\":0,\"ticks\":\"\"}}}],\"scatterpolargl\":[{\"type\":\"scatterpolargl\",\"marker\":{\"colorbar\":{\"outlinewidth\":0,\"ticks\":\"\"}}}],\"bar\":[{\"error_x\":{\"color\":\"#2a3f5f\"},\"error_y\":{\"color\":\"#2a3f5f\"},\"marker\":{\"line\":{\"color\":\"#E5ECF6\",\"width\":0.5},\"pattern\":{\"fillmode\":\"overlay\",\"size\":10,\"solidity\":0.2}},\"type\":\"bar\"}],\"scattergeo\":[{\"type\":\"scattergeo\",\"marker\":{\"colorbar\":{\"outlinewidth\":0,\"ticks\":\"\"}}}],\"scatterpolar\":[{\"type\":\"scatterpolar\",\"marker\":{\"colorbar\":{\"outlinewidth\":0,\"ticks\":\"\"}}}],\"histogram\":[{\"marker\":{\"pattern\":{\"fillmode\":\"overlay\",\"size\":10,\"solidity\":0.2}},\"type\":\"histogram\"}],\"scattergl\":[{\"type\":\"scattergl\",\"marker\":{\"colorbar\":{\"outlinewidth\":0,\"ticks\":\"\"}}}],\"scatter3d\":[{\"type\":\"scatter3d\",\"line\":{\"colorbar\":{\"outlinewidth\":0,\"ticks\":\"\"}},\"marker\":{\"colorbar\":{\"outlinewidth\":0,\"ticks\":\"\"}}}],\"scattermapbox\":[{\"type\":\"scattermapbox\",\"marker\":{\"colorbar\":{\"outlinewidth\":0,\"ticks\":\"\"}}}],\"scatterternary\":[{\"type\":\"scatterternary\",\"marker\":{\"colorbar\":{\"outlinewidth\":0,\"ticks\":\"\"}}}],\"scattercarpet\":[{\"type\":\"scattercarpet\",\"marker\":{\"colorbar\":{\"outlinewidth\":0,\"ticks\":\"\"}}}],\"carpet\":[{\"aaxis\":{\"endlinecolor\":\"#2a3f5f\",\"gridcolor\":\"white\",\"linecolor\":\"white\",\"minorgridcolor\":\"white\",\"startlinecolor\":\"#2a3f5f\"},\"baxis\":{\"endlinecolor\":\"#2a3f5f\",\"gridcolor\":\"white\",\"linecolor\":\"white\",\"minorgridcolor\":\"white\",\"startlinecolor\":\"#2a3f5f\"},\"type\":\"carpet\"}],\"table\":[{\"cells\":{\"fill\":{\"color\":\"#EBF0F8\"},\"line\":{\"color\":\"white\"}},\"header\":{\"fill\":{\"color\":\"#C8D4E3\"},\"line\":{\"color\":\"white\"}},\"type\":\"table\"}],\"barpolar\":[{\"marker\":{\"line\":{\"color\":\"#E5ECF6\",\"width\":0.5},\"pattern\":{\"fillmode\":\"overlay\",\"size\":10,\"solidity\":0.2}},\"type\":\"barpolar\"}],\"pie\":[{\"automargin\":true,\"type\":\"pie\"}]},\"layout\":{\"autotypenumbers\":\"strict\",\"colorway\":[\"#636efa\",\"#EF553B\",\"#00cc96\",\"#ab63fa\",\"#FFA15A\",\"#19d3f3\",\"#FF6692\",\"#B6E880\",\"#FF97FF\",\"#FECB52\"],\"font\":{\"color\":\"#2a3f5f\"},\"hovermode\":\"closest\",\"hoverlabel\":{\"align\":\"left\"},\"paper_bgcolor\":\"white\",\"plot_bgcolor\":\"#E5ECF6\",\"polar\":{\"bgcolor\":\"#E5ECF6\",\"angularaxis\":{\"gridcolor\":\"white\",\"linecolor\":\"white\",\"ticks\":\"\"},\"radialaxis\":{\"gridcolor\":\"white\",\"linecolor\":\"white\",\"ticks\":\"\"}},\"ternary\":{\"bgcolor\":\"#E5ECF6\",\"aaxis\":{\"gridcolor\":\"white\",\"linecolor\":\"white\",\"ticks\":\"\"},\"baxis\":{\"gridcolor\":\"white\",\"linecolor\":\"white\",\"ticks\":\"\"},\"caxis\":{\"gridcolor\":\"white\",\"linecolor\":\"white\",\"ticks\":\"\"}},\"coloraxis\":{\"colorbar\":{\"outlinewidth\":0,\"ticks\":\"\"}},\"colorscale\":{\"sequential\":[[0.0,\"#0d0887\"],[0.1111111111111111,\"#46039f\"],[0.2222222222222222,\"#7201a8\"],[0.3333333333333333,\"#9c179e\"],[0.4444444444444444,\"#bd3786\"],[0.5555555555555556,\"#d8576b\"],[0.6666666666666666,\"#ed7953\"],[0.7777777777777778,\"#fb9f3a\"],[0.8888888888888888,\"#fdca26\"],[1.0,\"#f0f921\"]],\"sequentialminus\":[[0.0,\"#0d0887\"],[0.1111111111111111,\"#46039f\"],[0.2222222222222222,\"#7201a8\"],[0.3333333333333333,\"#9c179e\"],[0.4444444444444444,\"#bd3786\"],[0.5555555555555556,\"#d8576b\"],[0.6666666666666666,\"#ed7953\"],[0.7777777777777778,\"#fb9f3a\"],[0.8888888888888888,\"#fdca26\"],[1.0,\"#f0f921\"]],\"diverging\":[[0,\"#8e0152\"],[0.1,\"#c51b7d\"],[0.2,\"#de77ae\"],[0.3,\"#f1b6da\"],[0.4,\"#fde0ef\"],[0.5,\"#f7f7f7\"],[0.6,\"#e6f5d0\"],[0.7,\"#b8e186\"],[0.8,\"#7fbc41\"],[0.9,\"#4d9221\"],[1,\"#276419\"]]},\"xaxis\":{\"gridcolor\":\"white\",\"linecolor\":\"white\",\"ticks\":\"\",\"title\":{\"standoff\":15},\"zerolinecolor\":\"white\",\"automargin\":true,\"zerolinewidth\":2},\"yaxis\":{\"gridcolor\":\"white\",\"linecolor\":\"white\",\"ticks\":\"\",\"title\":{\"standoff\":15},\"zerolinecolor\":\"white\",\"automargin\":true,\"zerolinewidth\":2},\"scene\":{\"xaxis\":{\"backgroundcolor\":\"#E5ECF6\",\"gridcolor\":\"white\",\"linecolor\":\"white\",\"showbackground\":true,\"ticks\":\"\",\"zerolinecolor\":\"white\",\"gridwidth\":2},\"yaxis\":{\"backgroundcolor\":\"#E5ECF6\",\"gridcolor\":\"white\",\"linecolor\":\"white\",\"showbackground\":true,\"ticks\":\"\",\"zerolinecolor\":\"white\",\"gridwidth\":2},\"zaxis\":{\"backgroundcolor\":\"#E5ECF6\",\"gridcolor\":\"white\",\"linecolor\":\"white\",\"showbackground\":true,\"ticks\":\"\",\"zerolinecolor\":\"white\",\"gridwidth\":2}},\"shapedefaults\":{\"line\":{\"color\":\"#2a3f5f\"}},\"annotationdefaults\":{\"arrowcolor\":\"#2a3f5f\",\"arrowhead\":0,\"arrowwidth\":1},\"geo\":{\"bgcolor\":\"white\",\"landcolor\":\"#E5ECF6\",\"subunitcolor\":\"white\",\"showland\":true,\"showlakes\":true,\"lakecolor\":\"white\"},\"title\":{\"x\":0.05},\"mapbox\":{\"style\":\"light\"}}},\"xaxis\":{\"anchor\":\"y\",\"domain\":[0.0,1.0],\"title\":{\"text\":\"age\"}},\"yaxis\":{\"anchor\":\"x\",\"domain\":[0.0,1.0],\"title\":{\"text\":\"count\"}},\"legend\":{\"title\":{\"text\":\"male\"},\"tracegroupgap\":0},\"title\":{\"text\":\"Histogram of Age column\"},\"barmode\":\"relative\"},                        {\"responsive\": true}                    ).then(function(){\n",
       "                            \n",
       "var gd = document.getElementById('83eeaf2d-a8e7-4a5c-9b78-cc2d6f7385ff');\n",
       "var x = new MutationObserver(function (mutations, observer) {{\n",
       "        var display = window.getComputedStyle(gd).display;\n",
       "        if (!display || display === 'none') {{\n",
       "            console.log([gd, 'removed!']);\n",
       "            Plotly.purge(gd);\n",
       "            observer.disconnect();\n",
       "        }}\n",
       "}});\n",
       "\n",
       "// Listen for the removal of the full notebook cells\n",
       "var notebookContainer = gd.closest('#notebook-container');\n",
       "if (notebookContainer) {{\n",
       "    x.observe(notebookContainer, {childList: true});\n",
       "}}\n",
       "\n",
       "// Listen for the clearing of the current output cell\n",
       "var outputEl = gd.closest('.output');\n",
       "if (outputEl) {{\n",
       "    x.observe(outputEl, {childList: true});\n",
       "}}\n",
       "\n",
       "                        })                };                });            </script>        </div>"
      ]
     },
     "metadata": {},
     "output_type": "display_data"
    }
   ],
   "source": [
    "px.histogram(raw_df, x='age', color='male', title='Histogram of Age column')"
   ]
  },
  {
   "cell_type": "markdown",
   "id": "d126733e",
   "metadata": {
    "papermill": {
     "duration": 0.063328,
     "end_time": "2022-04-23T01:20:38.529023",
     "exception": false,
     "start_time": "2022-04-23T01:20:38.465695",
     "status": "completed"
    },
    "tags": []
   },
   "source": [
    "We take male if `male == 1` and female if `male == 0`. Then with above chart we can able to see that males are fewer than females\n",
    "\n",
    "Next let's try with `education`"
   ]
  },
  {
   "cell_type": "code",
   "execution_count": 9,
   "id": "eb6531fa",
   "metadata": {
    "execution": {
     "iopub.execute_input": "2022-04-23T01:20:38.656258Z",
     "iopub.status.busy": "2022-04-23T01:20:38.655695Z",
     "iopub.status.idle": "2022-04-23T01:20:38.665566Z",
     "shell.execute_reply": "2022-04-23T01:20:38.664785Z"
    },
    "papermill": {
     "duration": 0.075455,
     "end_time": "2022-04-23T01:20:38.667475",
     "exception": false,
     "start_time": "2022-04-23T01:20:38.592020",
     "status": "completed"
    },
    "tags": []
   },
   "outputs": [
    {
     "data": {
      "text/plain": [
       "1.0    1720\n",
       "2.0    1253\n",
       "3.0     687\n",
       "4.0     473\n",
       "Name: education, dtype: int64"
      ]
     },
     "execution_count": 9,
     "metadata": {},
     "output_type": "execute_result"
    }
   ],
   "source": [
    "raw_df['education'].value_counts()"
   ]
  },
  {
   "cell_type": "code",
   "execution_count": 10,
   "id": "c6d2bc41",
   "metadata": {
    "execution": {
     "iopub.execute_input": "2022-04-23T01:20:38.799584Z",
     "iopub.status.busy": "2022-04-23T01:20:38.798996Z",
     "iopub.status.idle": "2022-04-23T01:20:38.879134Z",
     "shell.execute_reply": "2022-04-23T01:20:38.878377Z"
    },
    "papermill": {
     "duration": 0.149545,
     "end_time": "2022-04-23T01:20:38.881552",
     "exception": false,
     "start_time": "2022-04-23T01:20:38.732007",
     "status": "completed"
    },
    "tags": []
   },
   "outputs": [
    {
     "data": {
      "text/html": [
       "<div>                            <div id=\"a201d72f-74a6-48a7-840c-3a72ca1550cc\" class=\"plotly-graph-div\" style=\"height:525px; width:100%;\"></div>            <script type=\"text/javascript\">                require([\"plotly\"], function(Plotly) {                    window.PLOTLYENV=window.PLOTLYENV || {};                                    if (document.getElementById(\"a201d72f-74a6-48a7-840c-3a72ca1550cc\")) {                    Plotly.newPlot(                        \"a201d72f-74a6-48a7-840c-3a72ca1550cc\",                        [{\"alignmentgroup\":\"True\",\"bingroup\":\"x\",\"hovertemplate\":\"education=%{x}<br>count=%{y}<extra></extra>\",\"legendgroup\":\"\",\"marker\":{\"color\":\"#636efa\",\"pattern\":{\"shape\":\"\"}},\"name\":\"\",\"nbinsx\":4,\"offsetgroup\":\"\",\"orientation\":\"v\",\"showlegend\":false,\"x\":[4.0,2.0,1.0,3.0,3.0,2.0,1.0,2.0,1.0,1.0,1.0,2.0,1.0,3.0,2.0,2.0,3.0,2.0,2.0,2.0,2.0,1.0,1.0,3.0,2.0,4.0,1.0,2.0,3.0,1.0,4.0,4.0,1.0,null,1.0,2.0,null,1.0,1.0,3.0,2.0,2.0,1.0,2.0,3.0,2.0,1.0,1.0,2.0,3.0,1.0,4.0,2.0,1.0,2.0,1.0,1.0,1.0,2.0,4.0,4.0,1.0,1.0,1.0,1.0,1.0,1.0,1.0,2.0,4.0,4.0,3.0,null,1.0,2.0,1.0,1.0,3.0,1.0,2.0,1.0,2.0,2.0,1.0,1.0,2.0,1.0,2.0,4.0,2.0,1.0,2.0,1.0,1.0,4.0,3.0,4.0,2.0,1.0,1.0,2.0,3.0,3.0,1.0,1.0,1.0,4.0,1.0,1.0,1.0,1.0,3.0,4.0,1.0,1.0,1.0,1.0,2.0,4.0,3.0,4.0,1.0,3.0,1.0,2.0,2.0,2.0,4.0,1.0,2.0,1.0,4.0,2.0,2.0,3.0,1.0,2.0,2.0,3.0,4.0,1.0,1.0,3.0,1.0,1.0,4.0,1.0,3.0,4.0,1.0,1.0,1.0,1.0,1.0,3.0,1.0,2.0,1.0,3.0,3.0,3.0,4.0,2.0,2.0,1.0,1.0,2.0,4.0,1.0,2.0,1.0,2.0,2.0,3.0,1.0,1.0,3.0,1.0,1.0,1.0,1.0,3.0,1.0,1.0,null,2.0,4.0,1.0,2.0,1.0,2.0,1.0,1.0,3.0,3.0,2.0,1.0,2.0,2.0,1.0,2.0,4.0,2.0,1.0,4.0,2.0,1.0,1.0,2.0,2.0,4.0,1.0,1.0,null,3.0,1.0,3.0,1.0,2.0,2.0,2.0,2.0,1.0,2.0,1.0,2.0,1.0,3.0,1.0,4.0,1.0,2.0,2.0,1.0,1.0,1.0,4.0,1.0,3.0,3.0,4.0,1.0,3.0,2.0,4.0,1.0,3.0,2.0,2.0,1.0,1.0,3.0,1.0,1.0,4.0,1.0,4.0,1.0,1.0,1.0,3.0,1.0,1.0,1.0,1.0,2.0,1.0,1.0,2.0,2.0,1.0,2.0,4.0,4.0,1.0,2.0,1.0,1.0,2.0,3.0,2.0,3.0,2.0,4.0,1.0,2.0,2.0,2.0,2.0,4.0,3.0,4.0,4.0,null,1.0,2.0,3.0,3.0,2.0,2.0,1.0,3.0,1.0,1.0,2.0,null,null,1.0,3.0,2.0,3.0,1.0,1.0,1.0,2.0,1.0,1.0,2.0,3.0,null,1.0,2.0,2.0,3.0,3.0,3.0,2.0,1.0,1.0,1.0,1.0,1.0,1.0,2.0,1.0,3.0,1.0,1.0,2.0,1.0,1.0,1.0,4.0,4.0,1.0,2.0,2.0,1.0,2.0,1.0,3.0,2.0,1.0,1.0,2.0,2.0,1.0,2.0,3.0,1.0,2.0,3.0,4.0,1.0,2.0,2.0,3.0,1.0,1.0,1.0,2.0,4.0,1.0,2.0,4.0,3.0,2.0,1.0,2.0,3.0,4.0,2.0,1.0,1.0,1.0,2.0,2.0,3.0,2.0,2.0,1.0,1.0,3.0,1.0,2.0,2.0,3.0,2.0,1.0,1.0,null,3.0,2.0,1.0,4.0,1.0,3.0,2.0,2.0,1.0,3.0,3.0,null,1.0,2.0,1.0,1.0,2.0,3.0,1.0,2.0,1.0,2.0,3.0,2.0,3.0,1.0,3.0,1.0,null,2.0,1.0,1.0,2.0,4.0,2.0,1.0,1.0,2.0,1.0,3.0,1.0,4.0,1.0,3.0,4.0,1.0,4.0,4.0,3.0,3.0,2.0,4.0,1.0,1.0,3.0,2.0,1.0,2.0,4.0,2.0,2.0,1.0,2.0,1.0,2.0,3.0,1.0,2.0,1.0,1.0,1.0,null,1.0,2.0,3.0,1.0,3.0,2.0,1.0,4.0,1.0,2.0,2.0,1.0,2.0,2.0,3.0,1.0,2.0,2.0,4.0,3.0,4.0,3.0,1.0,2.0,3.0,4.0,null,3.0,1.0,1.0,null,3.0,3.0,4.0,3.0,1.0,3.0,2.0,1.0,2.0,1.0,1.0,1.0,1.0,2.0,2.0,2.0,3.0,4.0,4.0,3.0,1.0,2.0,3.0,1.0,3.0,3.0,2.0,1.0,1.0,2.0,1.0,1.0,3.0,2.0,2.0,3.0,2.0,3.0,2.0,2.0,3.0,1.0,2.0,1.0,3.0,1.0,1.0,1.0,1.0,1.0,1.0,2.0,2.0,2.0,3.0,4.0,3.0,1.0,2.0,2.0,4.0,1.0,4.0,2.0,2.0,3.0,3.0,1.0,2.0,4.0,3.0,1.0,2.0,2.0,2.0,1.0,1.0,1.0,2.0,4.0,1.0,1.0,2.0,2.0,1.0,1.0,2.0,1.0,4.0,1.0,3.0,1.0,2.0,3.0,3.0,2.0,2.0,1.0,1.0,1.0,1.0,2.0,3.0,1.0,1.0,1.0,2.0,2.0,2.0,2.0,2.0,4.0,2.0,3.0,2.0,1.0,1.0,2.0,null,3.0,3.0,2.0,1.0,1.0,2.0,2.0,4.0,2.0,2.0,1.0,2.0,2.0,4.0,2.0,1.0,2.0,2.0,2.0,2.0,4.0,4.0,1.0,2.0,4.0,1.0,1.0,3.0,1.0,1.0,1.0,1.0,3.0,1.0,4.0,1.0,1.0,4.0,1.0,2.0,2.0,1.0,4.0,1.0,1.0,1.0,1.0,2.0,1.0,4.0,1.0,1.0,3.0,2.0,4.0,1.0,2.0,1.0,1.0,4.0,1.0,3.0,2.0,2.0,3.0,2.0,1.0,2.0,1.0,2.0,4.0,null,2.0,2.0,1.0,3.0,1.0,1.0,1.0,1.0,3.0,1.0,3.0,1.0,1.0,2.0,1.0,4.0,1.0,2.0,2.0,4.0,1.0,2.0,2.0,1.0,null,2.0,1.0,1.0,2.0,1.0,3.0,4.0,3.0,1.0,3.0,3.0,1.0,1.0,1.0,1.0,1.0,2.0,null,4.0,2.0,1.0,1.0,2.0,4.0,3.0,1.0,2.0,1.0,2.0,1.0,1.0,2.0,2.0,2.0,1.0,3.0,2.0,3.0,1.0,2.0,2.0,3.0,4.0,1.0,3.0,4.0,1.0,1.0,1.0,3.0,2.0,4.0,2.0,2.0,2.0,1.0,3.0,3.0,1.0,1.0,3.0,3.0,null,3.0,2.0,1.0,3.0,3.0,1.0,1.0,3.0,1.0,4.0,1.0,2.0,2.0,2.0,4.0,2.0,3.0,1.0,2.0,1.0,2.0,2.0,3.0,3.0,1.0,2.0,1.0,4.0,1.0,2.0,2.0,4.0,1.0,2.0,2.0,4.0,null,2.0,1.0,2.0,1.0,2.0,2.0,3.0,1.0,2.0,4.0,1.0,2.0,1.0,1.0,1.0,2.0,2.0,4.0,3.0,1.0,1.0,1.0,3.0,2.0,2.0,2.0,1.0,1.0,2.0,2.0,2.0,1.0,4.0,2.0,3.0,1.0,2.0,1.0,1.0,1.0,2.0,2.0,2.0,2.0,2.0,1.0,2.0,2.0,2.0,1.0,2.0,2.0,3.0,1.0,3.0,2.0,1.0,1.0,1.0,4.0,4.0,1.0,4.0,1.0,1.0,1.0,1.0,3.0,1.0,4.0,1.0,2.0,1.0,1.0,1.0,1.0,1.0,3.0,2.0,1.0,3.0,2.0,1.0,1.0,3.0,2.0,1.0,4.0,2.0,1.0,1.0,3.0,4.0,2.0,1.0,1.0,null,1.0,1.0,1.0,1.0,4.0,1.0,1.0,1.0,3.0,1.0,1.0,4.0,1.0,2.0,2.0,2.0,2.0,1.0,1.0,1.0,4.0,2.0,3.0,2.0,1.0,2.0,null,1.0,3.0,3.0,4.0,2.0,2.0,3.0,2.0,1.0,1.0,4.0,1.0,1.0,3.0,2.0,1.0,2.0,2.0,2.0,1.0,2.0,3.0,null,1.0,1.0,1.0,1.0,3.0,1.0,1.0,3.0,1.0,1.0,1.0,1.0,1.0,null,2.0,1.0,1.0,3.0,2.0,1.0,4.0,1.0,2.0,2.0,2.0,1.0,3.0,2.0,2.0,1.0,3.0,1.0,2.0,2.0,3.0,1.0,1.0,1.0,1.0,4.0,3.0,1.0,2.0,1.0,1.0,2.0,2.0,4.0,1.0,3.0,3.0,2.0,2.0,2.0,3.0,1.0,1.0,4.0,2.0,2.0,null,3.0,3.0,2.0,1.0,4.0,2.0,1.0,4.0,3.0,1.0,null,2.0,1.0,1.0,2.0,1.0,1.0,1.0,1.0,2.0,1.0,4.0,1.0,2.0,2.0,1.0,2.0,1.0,1.0,2.0,4.0,1.0,2.0,3.0,2.0,4.0,2.0,1.0,2.0,1.0,1.0,1.0,null,1.0,null,1.0,1.0,null,2.0,3.0,3.0,1.0,1.0,3.0,2.0,2.0,2.0,1.0,2.0,2.0,4.0,1.0,1.0,1.0,2.0,4.0,1.0,1.0,1.0,1.0,4.0,1.0,4.0,3.0,2.0,4.0,4.0,3.0,2.0,1.0,1.0,3.0,2.0,2.0,3.0,2.0,2.0,1.0,1.0,1.0,4.0,1.0,3.0,1.0,1.0,4.0,2.0,3.0,1.0,3.0,3.0,null,1.0,2.0,2.0,2.0,1.0,2.0,2.0,4.0,null,2.0,2.0,1.0,3.0,3.0,1.0,3.0,1.0,1.0,3.0,2.0,1.0,2.0,2.0,3.0,2.0,2.0,1.0,4.0,3.0,3.0,2.0,2.0,1.0,1.0,4.0,2.0,2.0,4.0,3.0,2.0,1.0,3.0,3.0,3.0,2.0,2.0,2.0,1.0,1.0,null,4.0,4.0,2.0,1.0,2.0,1.0,3.0,1.0,3.0,1.0,1.0,2.0,1.0,1.0,1.0,1.0,1.0,1.0,4.0,1.0,1.0,1.0,1.0,1.0,3.0,2.0,1.0,4.0,1.0,3.0,1.0,4.0,1.0,1.0,1.0,3.0,2.0,1.0,1.0,1.0,3.0,2.0,2.0,2.0,1.0,1.0,2.0,null,2.0,2.0,1.0,4.0,4.0,1.0,3.0,1.0,1.0,1.0,2.0,null,3.0,1.0,1.0,2.0,3.0,2.0,2.0,2.0,1.0,3.0,1.0,2.0,3.0,null,1.0,2.0,3.0,4.0,1.0,null,1.0,1.0,3.0,1.0,2.0,1.0,1.0,3.0,1.0,1.0,2.0,1.0,3.0,1.0,2.0,1.0,1.0,1.0,1.0,1.0,2.0,2.0,2.0,1.0,1.0,2.0,null,2.0,null,1.0,4.0,3.0,3.0,1.0,1.0,2.0,2.0,2.0,1.0,2.0,1.0,3.0,1.0,1.0,2.0,1.0,2.0,2.0,1.0,2.0,4.0,1.0,1.0,1.0,null,1.0,1.0,1.0,2.0,2.0,2.0,1.0,1.0,2.0,1.0,3.0,2.0,2.0,2.0,1.0,3.0,4.0,2.0,1.0,1.0,2.0,2.0,3.0,1.0,1.0,1.0,1.0,1.0,4.0,3.0,1.0,2.0,4.0,4.0,1.0,3.0,3.0,2.0,2.0,1.0,1.0,1.0,1.0,2.0,2.0,2.0,1.0,2.0,1.0,2.0,1.0,4.0,2.0,2.0,1.0,2.0,2.0,2.0,1.0,1.0,null,2.0,2.0,2.0,2.0,null,1.0,3.0,3.0,3.0,4.0,1.0,3.0,3.0,2.0,2.0,4.0,2.0,1.0,null,1.0,3.0,2.0,4.0,1.0,1.0,4.0,1.0,3.0,2.0,4.0,2.0,1.0,2.0,2.0,4.0,3.0,2.0,1.0,1.0,1.0,1.0,3.0,2.0,3.0,3.0,1.0,2.0,1.0,2.0,2.0,3.0,3.0,1.0,3.0,3.0,1.0,2.0,1.0,1.0,2.0,3.0,1.0,1.0,2.0,1.0,2.0,1.0,1.0,3.0,3.0,1.0,1.0,2.0,1.0,2.0,1.0,1.0,1.0,2.0,1.0,1.0,1.0,2.0,2.0,2.0,3.0,1.0,1.0,1.0,1.0,4.0,2.0,1.0,3.0,3.0,3.0,1.0,4.0,1.0,2.0,2.0,2.0,null,1.0,3.0,1.0,2.0,1.0,4.0,2.0,1.0,2.0,4.0,1.0,2.0,4.0,1.0,1.0,2.0,4.0,3.0,1.0,3.0,2.0,1.0,3.0,2.0,1.0,3.0,4.0,3.0,1.0,1.0,4.0,2.0,2.0,1.0,2.0,2.0,1.0,4.0,3.0,2.0,2.0,1.0,3.0,4.0,2.0,4.0,2.0,3.0,2.0,3.0,2.0,1.0,4.0,2.0,1.0,3.0,4.0,1.0,3.0,4.0,1.0,2.0,3.0,2.0,3.0,1.0,1.0,4.0,4.0,1.0,4.0,2.0,1.0,1.0,1.0,4.0,2.0,2.0,1.0,1.0,4.0,2.0,1.0,3.0,1.0,1.0,2.0,1.0,3.0,1.0,1.0,2.0,1.0,2.0,2.0,4.0,2.0,2.0,1.0,2.0,2.0,3.0,1.0,3.0,2.0,2.0,1.0,2.0,4.0,1.0,3.0,2.0,1.0,1.0,3.0,2.0,3.0,3.0,2.0,1.0,2.0,4.0,4.0,1.0,1.0,null,1.0,1.0,2.0,3.0,2.0,1.0,2.0,2.0,2.0,2.0,2.0,1.0,4.0,2.0,1.0,2.0,3.0,null,1.0,1.0,2.0,2.0,2.0,1.0,1.0,1.0,2.0,2.0,4.0,2.0,1.0,4.0,3.0,2.0,1.0,1.0,null,2.0,4.0,4.0,2.0,1.0,2.0,3.0,1.0,1.0,1.0,3.0,3.0,null,1.0,2.0,2.0,4.0,3.0,1.0,1.0,1.0,1.0,1.0,2.0,3.0,1.0,4.0,1.0,2.0,2.0,3.0,1.0,3.0,null,1.0,3.0,1.0,1.0,1.0,null,1.0,1.0,1.0,1.0,3.0,1.0,4.0,2.0,1.0,1.0,1.0,2.0,2.0,2.0,1.0,4.0,2.0,1.0,1.0,2.0,3.0,1.0,1.0,4.0,2.0,3.0,2.0,3.0,3.0,1.0,3.0,1.0,2.0,1.0,2.0,1.0,3.0,1.0,1.0,1.0,3.0,1.0,2.0,1.0,3.0,2.0,1.0,4.0,null,2.0,2.0,4.0,3.0,1.0,2.0,1.0,2.0,1.0,1.0,1.0,1.0,1.0,2.0,4.0,3.0,1.0,1.0,3.0,3.0,2.0,1.0,3.0,1.0,2.0,1.0,3.0,2.0,1.0,2.0,1.0,2.0,1.0,3.0,2.0,4.0,2.0,1.0,3.0,3.0,1.0,4.0,3.0,1.0,1.0,2.0,3.0,2.0,4.0,3.0,1.0,1.0,1.0,2.0,1.0,1.0,3.0,1.0,2.0,1.0,1.0,4.0,2.0,2.0,2.0,1.0,4.0,1.0,3.0,2.0,1.0,3.0,2.0,2.0,3.0,3.0,1.0,2.0,3.0,2.0,1.0,4.0,2.0,3.0,1.0,1.0,4.0,1.0,3.0,1.0,1.0,1.0,2.0,2.0,1.0,2.0,2.0,2.0,1.0,4.0,3.0,2.0,3.0,1.0,3.0,2.0,2.0,1.0,3.0,1.0,3.0,2.0,1.0,3.0,1.0,2.0,1.0,1.0,1.0,2.0,2.0,3.0,1.0,1.0,3.0,4.0,1.0,1.0,2.0,3.0,1.0,3.0,2.0,1.0,1.0,3.0,3.0,3.0,1.0,2.0,2.0,2.0,2.0,4.0,1.0,2.0,1.0,1.0,1.0,1.0,1.0,2.0,1.0,1.0,1.0,2.0,1.0,1.0,1.0,2.0,2.0,1.0,1.0,1.0,4.0,1.0,2.0,2.0,3.0,2.0,1.0,1.0,1.0,1.0,1.0,3.0,4.0,1.0,3.0,2.0,2.0,1.0,1.0,3.0,2.0,1.0,1.0,3.0,1.0,1.0,1.0,2.0,2.0,3.0,2.0,1.0,2.0,3.0,2.0,1.0,2.0,1.0,2.0,1.0,3.0,1.0,1.0,2.0,1.0,4.0,3.0,1.0,2.0,3.0,3.0,1.0,1.0,3.0,1.0,3.0,null,4.0,1.0,3.0,3.0,1.0,1.0,3.0,1.0,3.0,3.0,3.0,3.0,3.0,1.0,4.0,3.0,3.0,1.0,2.0,null,2.0,4.0,4.0,1.0,1.0,3.0,2.0,3.0,2.0,1.0,3.0,2.0,null,1.0,1.0,1.0,2.0,1.0,1.0,2.0,1.0,1.0,2.0,2.0,2.0,1.0,null,2.0,4.0,1.0,1.0,1.0,1.0,1.0,4.0,1.0,3.0,1.0,1.0,3.0,2.0,4.0,2.0,4.0,1.0,1.0,2.0,4.0,2.0,2.0,2.0,1.0,1.0,1.0,2.0,1.0,3.0,4.0,2.0,1.0,1.0,3.0,2.0,1.0,2.0,3.0,1.0,2.0,2.0,1.0,4.0,4.0,3.0,1.0,2.0,3.0,2.0,1.0,1.0,1.0,1.0,1.0,2.0,1.0,3.0,4.0,2.0,1.0,null,3.0,1.0,3.0,4.0,1.0,4.0,1.0,2.0,2.0,2.0,3.0,3.0,2.0,2.0,1.0,2.0,1.0,4.0,4.0,1.0,3.0,1.0,1.0,1.0,1.0,4.0,3.0,4.0,4.0,2.0,1.0,2.0,1.0,1.0,1.0,3.0,3.0,3.0,3.0,4.0,2.0,3.0,1.0,1.0,1.0,3.0,4.0,3.0,2.0,2.0,3.0,1.0,2.0,1.0,1.0,4.0,1.0,1.0,3.0,1.0,2.0,4.0,1.0,4.0,1.0,1.0,3.0,1.0,1.0,2.0,1.0,3.0,1.0,2.0,3.0,2.0,3.0,null,2.0,2.0,4.0,2.0,2.0,2.0,2.0,1.0,3.0,1.0,2.0,2.0,2.0,4.0,2.0,4.0,3.0,4.0,1.0,2.0,3.0,1.0,1.0,1.0,1.0,2.0,4.0,4.0,1.0,2.0,1.0,4.0,1.0,1.0,3.0,1.0,1.0,1.0,3.0,1.0,2.0,1.0,1.0,2.0,2.0,1.0,2.0,2.0,1.0,1.0,1.0,2.0,1.0,2.0,2.0,3.0,2.0,1.0,1.0,1.0,4.0,3.0,1.0,2.0,2.0,2.0,1.0,1.0,2.0,2.0,1.0,1.0,3.0,1.0,1.0,4.0,1.0,4.0,1.0,2.0,2.0,1.0,1.0,4.0,1.0,2.0,4.0,1.0,1.0,2.0,2.0,3.0,4.0,4.0,2.0,1.0,1.0,3.0,1.0,3.0,4.0,2.0,2.0,2.0,4.0,1.0,4.0,4.0,1.0,4.0,3.0,null,1.0,4.0,1.0,1.0,4.0,1.0,3.0,1.0,3.0,3.0,3.0,1.0,1.0,4.0,2.0,2.0,null,1.0,4.0,2.0,4.0,2.0,1.0,1.0,2.0,4.0,4.0,1.0,3.0,2.0,4.0,3.0,2.0,1.0,2.0,2.0,3.0,2.0,2.0,2.0,1.0,4.0,null,2.0,1.0,1.0,4.0,1.0,2.0,4.0,1.0,4.0,2.0,1.0,2.0,1.0,1.0,2.0,2.0,1.0,1.0,1.0,1.0,1.0,1.0,1.0,1.0,1.0,1.0,2.0,3.0,1.0,2.0,1.0,4.0,4.0,1.0,4.0,2.0,1.0,1.0,2.0,1.0,2.0,4.0,1.0,2.0,3.0,2.0,3.0,3.0,4.0,4.0,4.0,1.0,null,3.0,4.0,3.0,2.0,3.0,1.0,4.0,1.0,1.0,2.0,3.0,1.0,1.0,2.0,3.0,1.0,2.0,2.0,2.0,3.0,4.0,2.0,2.0,1.0,1.0,3.0,1.0,1.0,3.0,1.0,1.0,1.0,2.0,4.0,1.0,2.0,4.0,4.0,1.0,1.0,3.0,2.0,3.0,1.0,1.0,3.0,3.0,3.0,3.0,3.0,2.0,1.0,1.0,2.0,4.0,1.0,4.0,1.0,1.0,1.0,1.0,2.0,2.0,2.0,2.0,2.0,1.0,1.0,3.0,2.0,1.0,2.0,3.0,1.0,1.0,2.0,1.0,3.0,1.0,4.0,2.0,1.0,2.0,null,4.0,3.0,3.0,2.0,4.0,2.0,2.0,4.0,3.0,2.0,3.0,2.0,2.0,2.0,2.0,2.0,2.0,4.0,1.0,3.0,1.0,3.0,3.0,1.0,2.0,2.0,2.0,3.0,2.0,2.0,1.0,2.0,1.0,2.0,2.0,1.0,1.0,null,4.0,4.0,2.0,2.0,1.0,3.0,1.0,1.0,1.0,1.0,3.0,3.0,2.0,2.0,2.0,1.0,1.0,1.0,2.0,2.0,4.0,2.0,4.0,1.0,3.0,1.0,2.0,1.0,1.0,1.0,2.0,1.0,1.0,1.0,1.0,2.0,3.0,2.0,2.0,2.0,2.0,1.0,2.0,2.0,1.0,1.0,2.0,2.0,4.0,null,1.0,4.0,1.0,3.0,1.0,1.0,1.0,2.0,2.0,2.0,4.0,4.0,2.0,1.0,1.0,1.0,1.0,2.0,2.0,3.0,1.0,3.0,3.0,null,1.0,3.0,4.0,2.0,1.0,3.0,2.0,1.0,4.0,2.0,3.0,1.0,1.0,1.0,1.0,2.0,1.0,4.0,4.0,2.0,2.0,2.0,1.0,2.0,2.0,2.0,1.0,3.0,4.0,1.0,2.0,1.0,3.0,2.0,2.0,4.0,1.0,3.0,2.0,2.0,2.0,1.0,1.0,4.0,4.0,2.0,1.0,2.0,2.0,2.0,3.0,4.0,null,3.0,1.0,3.0,1.0,1.0,3.0,2.0,1.0,1.0,3.0,1.0,1.0,1.0,3.0,4.0,1.0,1.0,1.0,3.0,1.0,4.0,2.0,1.0,2.0,1.0,2.0,4.0,2.0,2.0,3.0,2.0,1.0,1.0,2.0,2.0,1.0,2.0,2.0,2.0,1.0,2.0,1.0,1.0,1.0,1.0,4.0,1.0,1.0,1.0,1.0,1.0,1.0,2.0,1.0,1.0,2.0,2.0,4.0,1.0,4.0,1.0,1.0,2.0,2.0,3.0,3.0,1.0,1.0,2.0,1.0,1.0,3.0,2.0,null,1.0,2.0,1.0,1.0,1.0,2.0,4.0,2.0,3.0,1.0,2.0,2.0,1.0,1.0,3.0,1.0,1.0,3.0,2.0,2.0,1.0,2.0,2.0,1.0,1.0,3.0,1.0,1.0,2.0,3.0,1.0,1.0,2.0,4.0,1.0,1.0,1.0,2.0,1.0,1.0,2.0,4.0,1.0,3.0,1.0,1.0,4.0,1.0,1.0,4.0,2.0,3.0,2.0,4.0,1.0,1.0,3.0,2.0,1.0,2.0,2.0,1.0,2.0,3.0,1.0,2.0,1.0,2.0,1.0,1.0,2.0,2.0,1.0,1.0,2.0,1.0,3.0,2.0,null,1.0,1.0,2.0,3.0,4.0,1.0,3.0,2.0,1.0,1.0,1.0,3.0,4.0,1.0,1.0,4.0,1.0,2.0,4.0,2.0,1.0,1.0,1.0,2.0,2.0,2.0,2.0,1.0,4.0,2.0,1.0,2.0,2.0,3.0,4.0,null,2.0,2.0,4.0,4.0,1.0,1.0,2.0,3.0,1.0,1.0,1.0,4.0,4.0,1.0,2.0,1.0,1.0,2.0,1.0,3.0,1.0,1.0,1.0,2.0,3.0,2.0,2.0,1.0,2.0,2.0,2.0,1.0,1.0,2.0,1.0,3.0,4.0,2.0,1.0,1.0,4.0,2.0,1.0,1.0,2.0,2.0,3.0,2.0,3.0,1.0,1.0,1.0,3.0,1.0,3.0,1.0,1.0,1.0,1.0,2.0,3.0,null,2.0,1.0,2.0,2.0,2.0,1.0,4.0,1.0,4.0,3.0,1.0,1.0,2.0,3.0,2.0,3.0,2.0,1.0,2.0,4.0,3.0,2.0,2.0,1.0,1.0,1.0,3.0,1.0,2.0,4.0,2.0,1.0,3.0,2.0,3.0,null,1.0,4.0,null,1.0,2.0,1.0,4.0,3.0,1.0,1.0,3.0,1.0,2.0,3.0,1.0,4.0,1.0,2.0,null,2.0,1.0,2.0,1.0,1.0,1.0,2.0,2.0,2.0,null,2.0,2.0,2.0,1.0,1.0,1.0,3.0,4.0,4.0,1.0,1.0,1.0,2.0,2.0,1.0,2.0,null,1.0,1.0,3.0,3.0,1.0,1.0,1.0,1.0,3.0,1.0,2.0,3.0,1.0,1.0,2.0,2.0,3.0,3.0,2.0,1.0,2.0,3.0,1.0,1.0,1.0,1.0,3.0,1.0,1.0,4.0,1.0,1.0,1.0,2.0,3.0,1.0,1.0,3.0,2.0,1.0,4.0,1.0,2.0,1.0,2.0,2.0,2.0,1.0,1.0,1.0,2.0,4.0,1.0,3.0,1.0,1.0,1.0,2.0,2.0,2.0,4.0,1.0,4.0,2.0,1.0,2.0,2.0,1.0,4.0,1.0,1.0,2.0,4.0,3.0,2.0,1.0,1.0,2.0,2.0,3.0,1.0,1.0,1.0,null,4.0,4.0,2.0,4.0,1.0,1.0,2.0,2.0,2.0,2.0,2.0,3.0,2.0,1.0,4.0,1.0,2.0,3.0,4.0,1.0,null,null,4.0,2.0,4.0,1.0,3.0,1.0,1.0,4.0,4.0,1.0,4.0,1.0,1.0,2.0,3.0,3.0,3.0,1.0,3.0,2.0,2.0,1.0,1.0,2.0,2.0,1.0,2.0,1.0,1.0,4.0,1.0,2.0,2.0,3.0,1.0,1.0,1.0,2.0,3.0,2.0,3.0,1.0,1.0,1.0,1.0,1.0,2.0,4.0,2.0,1.0,2.0,1.0,2.0,1.0,2.0,1.0,3.0,2.0,4.0,1.0,4.0,1.0,1.0,1.0,2.0,2.0,2.0,1.0,1.0,2.0,2.0,3.0,1.0,2.0,2.0,1.0,2.0,4.0,null,4.0,1.0,1.0,3.0,4.0,3.0,3.0,4.0,2.0,1.0,3.0,3.0,1.0,3.0,2.0,3.0,1.0,2.0,2.0,2.0,4.0,1.0,1.0,2.0,1.0,1.0,2.0,1.0,1.0,1.0,2.0,2.0,2.0,2.0,null,2.0,3.0,2.0,2.0,1.0,2.0,1.0,3.0,2.0,2.0,2.0,null,1.0,1.0,2.0,2.0,3.0,3.0,1.0,1.0,3.0,3.0,2.0,1.0,2.0,2.0,4.0,2.0,2.0,3.0,2.0,1.0,4.0,1.0,2.0,2.0,3.0,1.0,1.0,1.0,2.0,4.0,1.0,4.0,2.0,1.0,1.0,4.0,1.0,1.0,3.0,2.0,1.0,3.0,1.0,1.0,1.0,4.0,3.0,1.0,1.0,1.0,1.0,2.0,1.0,1.0,1.0,1.0,2.0,1.0,null,2.0,1.0,1.0,2.0,1.0,1.0,1.0,2.0,1.0,1.0,2.0,3.0,4.0,1.0,null,3.0,4.0,1.0,1.0,1.0,2.0,2.0,3.0,2.0,1.0,1.0,4.0,1.0,1.0,1.0,3.0,3.0,4.0,3.0,4.0,3.0,4.0,4.0,null,4.0,4.0,3.0,3.0,2.0,1.0,2.0,2.0,1.0,3.0,1.0,1.0,1.0,2.0,3.0,1.0,2.0,1.0,2.0,1.0,1.0,3.0,2.0,2.0,3.0,2.0,2.0,1.0,2.0,2.0,1.0,null,3.0,3.0,2.0,1.0,1.0,2.0,1.0,3.0,1.0,1.0,2.0,1.0,1.0,2.0,1.0,3.0,1.0,1.0,2.0,null,1.0,1.0,3.0,1.0,2.0,1.0,1.0,3.0,2.0,4.0,2.0,1.0,3.0,2.0,1.0,3.0,4.0,3.0,1.0,1.0,1.0,3.0,1.0,1.0,2.0,2.0,1.0,2.0,2.0,1.0,2.0,3.0,2.0,1.0,2.0,1.0,1.0,2.0,4.0,1.0,2.0,4.0,3.0,1.0,1.0,3.0,4.0,1.0,1.0,2.0,2.0,3.0,1.0,1.0,1.0,2.0,3.0,1.0,4.0,1.0,1.0,3.0,4.0,4.0,2.0,1.0,1.0,1.0,3.0,1.0,2.0,1.0,1.0,2.0,1.0,2.0,2.0,1.0,1.0,1.0,1.0,3.0,1.0,4.0,1.0,2.0,1.0,2.0,4.0,1.0,4.0,1.0,2.0,1.0,4.0,2.0,1.0,1.0,1.0,4.0,1.0,3.0,1.0,2.0,2.0,4.0,1.0,1.0,1.0,4.0,2.0,1.0,1.0,3.0,2.0,4.0,1.0,1.0,1.0,1.0,2.0,1.0,4.0,1.0,2.0,1.0,1.0,4.0,1.0,3.0,1.0,1.0,2.0,1.0,1.0,4.0,2.0,4.0,1.0,2.0,3.0,2.0,2.0,4.0,1.0,3.0,4.0,3.0,2.0,1.0,2.0,1.0,1.0,1.0,1.0,1.0,3.0,4.0,1.0,null,3.0,4.0,2.0,2.0,1.0,2.0,2.0,4.0,4.0,1.0,1.0,2.0,2.0,1.0,null,2.0,2.0,2.0,2.0,4.0,1.0,1.0,1.0,3.0,1.0,2.0,1.0,1.0,1.0,2.0,2.0,1.0,2.0,1.0,2.0,3.0,2.0,1.0,1.0,4.0,3.0,3.0,3.0,null,1.0,3.0,1.0,2.0,3.0,3.0,1.0,1.0,3.0,1.0,1.0,1.0,1.0,4.0,3.0,3.0,1.0,3.0,1.0,1.0,2.0,1.0,4.0,2.0,1.0,1.0,4.0,2.0,1.0,1.0,2.0,1.0,2.0,1.0,2.0,1.0,4.0,1.0,3.0,1.0,1.0,2.0,2.0,2.0,1.0,4.0,1.0,1.0,2.0,4.0,3.0,2.0,2.0,2.0,3.0,2.0,2.0,2.0,2.0,1.0,2.0,1.0,1.0,3.0,1.0,1.0,1.0,1.0,3.0,1.0,2.0,1.0,1.0,null,1.0,1.0,2.0,1.0,1.0,1.0,1.0,2.0,4.0,2.0,2.0,1.0,2.0,1.0,null,2.0,3.0,4.0,2.0,1.0,3.0,2.0,2.0,2.0,3.0,1.0,3.0,2.0,3.0,null,1.0,2.0,1.0,1.0,3.0,3.0,3.0,1.0,4.0,2.0,2.0,3.0,1.0,1.0,4.0,2.0,1.0,2.0,3.0,1.0,2.0,1.0,1.0,4.0,3.0,1.0,1.0,1.0,1.0,1.0,2.0,3.0,2.0,3.0,1.0,1.0,null,2.0,1.0,2.0,2.0,4.0,1.0,3.0,1.0,4.0,2.0,1.0,1.0,4.0,3.0,3.0,1.0,1.0,null,3.0,3.0,2.0,4.0,1.0,2.0,2.0,3.0,1.0,1.0,1.0,1.0,2.0,2.0,2.0,3.0,1.0,4.0,2.0,3.0,1.0,3.0,2.0,2.0,4.0,2.0,4.0,1.0,3.0,2.0,1.0,1.0,4.0,2.0,1.0,1.0,3.0,2.0,2.0,1.0,2.0,2.0,2.0,3.0,2.0,1.0,4.0,1.0,3.0,1.0,3.0,1.0,3.0,3.0,3.0,3.0,1.0,1.0,4.0,4.0,2.0,1.0,1.0,2.0,1.0,1.0,2.0,3.0,3.0,2.0,1.0,1.0,2.0,2.0,1.0,1.0,2.0,2.0,2.0,3.0,1.0,1.0,3.0,1.0,4.0,3.0,1.0,1.0,2.0,null,null,2.0,1.0,2.0,2.0,2.0,1.0,1.0,2.0,1.0,2.0,1.0,2.0,1.0,1.0,4.0,2.0,1.0,1.0,4.0,2.0,1.0,1.0,3.0,1.0,3.0,4.0,4.0,3.0,3.0,2.0,1.0,1.0,2.0,2.0,3.0,1.0,3.0,3.0,2.0,4.0,1.0,2.0,4.0,1.0,3.0,1.0,2.0,1.0,3.0,4.0,1.0,1.0,2.0,2.0,2.0,1.0,2.0,3.0,1.0,3.0,2.0,1.0,3.0,1.0,4.0,1.0,1.0,2.0,1.0,3.0,1.0,2.0,3.0,1.0,1.0,3.0,2.0,1.0,1.0,3.0,3.0,1.0,1.0,4.0,2.0,2.0,2.0,1.0,4.0,1.0,1.0,1.0,1.0,2.0,1.0,4.0,3.0,3.0,4.0,2.0,3.0,1.0,3.0,null,2.0,1.0,1.0,2.0,null,4.0,1.0,1.0,3.0,1.0,4.0,2.0,1.0,1.0,2.0,4.0,4.0,4.0,1.0,2.0,1.0,3.0,4.0,1.0,2.0,4.0,1.0,1.0,2.0,1.0,4.0,4.0,1.0,1.0,1.0,1.0,1.0,3.0,2.0,3.0,1.0,2.0,2.0,4.0,2.0,2.0,1.0,1.0,2.0,1.0,1.0,1.0,3.0,2.0,1.0,2.0,1.0,2.0,1.0,2.0,2.0,3.0,2.0,3.0,4.0,1.0,1.0,1.0,2.0,3.0,2.0,1.0,4.0,3.0,null,2.0,1.0,2.0,1.0,1.0,2.0,1.0,1.0,1.0,2.0,4.0,1.0,4.0,4.0,1.0,2.0,1.0,2.0,1.0,1.0,3.0,2.0,1.0,2.0,2.0,1.0,2.0,3.0,2.0,1.0,1.0,2.0,4.0,1.0,3.0,3.0,2.0,4.0,3.0,2.0,4.0,4.0,2.0,4.0,3.0,2.0,2.0,4.0,1.0,1.0,2.0,2.0,1.0,1.0,1.0,3.0,4.0,1.0,3.0,1.0,1.0,4.0,4.0,2.0,2.0,1.0,4.0,1.0,null,4.0,1.0,3.0,2.0,1.0,2.0,1.0,1.0,1.0,3.0,3.0,1.0,3.0,1.0,2.0,4.0,1.0,3.0,2.0,1.0,1.0,2.0,2.0,2.0,3.0,3.0,1.0,3.0,2.0,1.0,1.0,1.0,3.0,2.0,1.0,2.0,2.0,2.0,2.0,1.0,1.0,3.0,2.0,2.0,2.0,2.0,2.0,4.0,1.0,3.0,1.0,2.0,4.0,2.0,2.0,3.0,3.0,3.0,2.0,2.0,1.0,3.0,4.0,1.0,2.0,1.0,1.0,1.0,3.0,null,2.0,1.0,1.0,1.0,1.0,1.0,1.0,1.0,4.0,2.0,2.0,1.0,2.0,1.0,2.0,null,2.0,1.0,1.0,2.0,2.0,2.0,4.0,2.0,2.0,2.0,1.0,1.0,3.0,3.0,3.0,4.0,2.0,3.0,1.0,2.0,1.0,1.0,null,null,3.0,1.0,1.0,3.0,1.0,3.0,1.0,1.0,2.0,1.0,3.0,1.0,1.0,2.0,2.0,null,3.0,3.0,4.0,2.0,1.0,2.0,1.0,3.0,1.0,1.0,2.0,1.0,2.0,1.0,2.0,2.0,4.0,4.0,4.0,2.0,4.0,3.0,3.0,3.0,4.0,2.0,1.0,4.0,1.0,1.0,1.0,2.0,2.0,4.0,2.0,2.0,1.0,4.0,2.0,3.0,1.0,2.0,2.0,1.0,1.0,1.0,1.0,3.0,2.0,3.0,2.0,1.0,3.0,1.0,1.0,1.0,2.0,1.0,1.0,1.0,1.0,2.0,2.0,2.0,1.0,2.0,1.0,2.0,4.0,1.0,2.0,1.0,2.0,2.0,2.0,3.0,1.0,3.0,1.0,1.0,1.0,1.0,1.0,3.0,4.0,2.0,4.0,1.0,4.0,1.0,3.0,1.0,3.0,1.0,1.0,3.0,2.0,1.0,2.0],\"xaxis\":\"x\",\"yaxis\":\"y\",\"type\":\"histogram\"}],                        {\"template\":{\"data\":{\"histogram2dcontour\":[{\"type\":\"histogram2dcontour\",\"colorbar\":{\"outlinewidth\":0,\"ticks\":\"\"},\"colorscale\":[[0.0,\"#0d0887\"],[0.1111111111111111,\"#46039f\"],[0.2222222222222222,\"#7201a8\"],[0.3333333333333333,\"#9c179e\"],[0.4444444444444444,\"#bd3786\"],[0.5555555555555556,\"#d8576b\"],[0.6666666666666666,\"#ed7953\"],[0.7777777777777778,\"#fb9f3a\"],[0.8888888888888888,\"#fdca26\"],[1.0,\"#f0f921\"]]}],\"choropleth\":[{\"type\":\"choropleth\",\"colorbar\":{\"outlinewidth\":0,\"ticks\":\"\"}}],\"histogram2d\":[{\"type\":\"histogram2d\",\"colorbar\":{\"outlinewidth\":0,\"ticks\":\"\"},\"colorscale\":[[0.0,\"#0d0887\"],[0.1111111111111111,\"#46039f\"],[0.2222222222222222,\"#7201a8\"],[0.3333333333333333,\"#9c179e\"],[0.4444444444444444,\"#bd3786\"],[0.5555555555555556,\"#d8576b\"],[0.6666666666666666,\"#ed7953\"],[0.7777777777777778,\"#fb9f3a\"],[0.8888888888888888,\"#fdca26\"],[1.0,\"#f0f921\"]]}],\"heatmap\":[{\"type\":\"heatmap\",\"colorbar\":{\"outlinewidth\":0,\"ticks\":\"\"},\"colorscale\":[[0.0,\"#0d0887\"],[0.1111111111111111,\"#46039f\"],[0.2222222222222222,\"#7201a8\"],[0.3333333333333333,\"#9c179e\"],[0.4444444444444444,\"#bd3786\"],[0.5555555555555556,\"#d8576b\"],[0.6666666666666666,\"#ed7953\"],[0.7777777777777778,\"#fb9f3a\"],[0.8888888888888888,\"#fdca26\"],[1.0,\"#f0f921\"]]}],\"heatmapgl\":[{\"type\":\"heatmapgl\",\"colorbar\":{\"outlinewidth\":0,\"ticks\":\"\"},\"colorscale\":[[0.0,\"#0d0887\"],[0.1111111111111111,\"#46039f\"],[0.2222222222222222,\"#7201a8\"],[0.3333333333333333,\"#9c179e\"],[0.4444444444444444,\"#bd3786\"],[0.5555555555555556,\"#d8576b\"],[0.6666666666666666,\"#ed7953\"],[0.7777777777777778,\"#fb9f3a\"],[0.8888888888888888,\"#fdca26\"],[1.0,\"#f0f921\"]]}],\"contourcarpet\":[{\"type\":\"contourcarpet\",\"colorbar\":{\"outlinewidth\":0,\"ticks\":\"\"}}],\"contour\":[{\"type\":\"contour\",\"colorbar\":{\"outlinewidth\":0,\"ticks\":\"\"},\"colorscale\":[[0.0,\"#0d0887\"],[0.1111111111111111,\"#46039f\"],[0.2222222222222222,\"#7201a8\"],[0.3333333333333333,\"#9c179e\"],[0.4444444444444444,\"#bd3786\"],[0.5555555555555556,\"#d8576b\"],[0.6666666666666666,\"#ed7953\"],[0.7777777777777778,\"#fb9f3a\"],[0.8888888888888888,\"#fdca26\"],[1.0,\"#f0f921\"]]}],\"surface\":[{\"type\":\"surface\",\"colorbar\":{\"outlinewidth\":0,\"ticks\":\"\"},\"colorscale\":[[0.0,\"#0d0887\"],[0.1111111111111111,\"#46039f\"],[0.2222222222222222,\"#7201a8\"],[0.3333333333333333,\"#9c179e\"],[0.4444444444444444,\"#bd3786\"],[0.5555555555555556,\"#d8576b\"],[0.6666666666666666,\"#ed7953\"],[0.7777777777777778,\"#fb9f3a\"],[0.8888888888888888,\"#fdca26\"],[1.0,\"#f0f921\"]]}],\"mesh3d\":[{\"type\":\"mesh3d\",\"colorbar\":{\"outlinewidth\":0,\"ticks\":\"\"}}],\"scatter\":[{\"fillpattern\":{\"fillmode\":\"overlay\",\"size\":10,\"solidity\":0.2},\"type\":\"scatter\"}],\"parcoords\":[{\"type\":\"parcoords\",\"line\":{\"colorbar\":{\"outlinewidth\":0,\"ticks\":\"\"}}}],\"scatterpolargl\":[{\"type\":\"scatterpolargl\",\"marker\":{\"colorbar\":{\"outlinewidth\":0,\"ticks\":\"\"}}}],\"bar\":[{\"error_x\":{\"color\":\"#2a3f5f\"},\"error_y\":{\"color\":\"#2a3f5f\"},\"marker\":{\"line\":{\"color\":\"#E5ECF6\",\"width\":0.5},\"pattern\":{\"fillmode\":\"overlay\",\"size\":10,\"solidity\":0.2}},\"type\":\"bar\"}],\"scattergeo\":[{\"type\":\"scattergeo\",\"marker\":{\"colorbar\":{\"outlinewidth\":0,\"ticks\":\"\"}}}],\"scatterpolar\":[{\"type\":\"scatterpolar\",\"marker\":{\"colorbar\":{\"outlinewidth\":0,\"ticks\":\"\"}}}],\"histogram\":[{\"marker\":{\"pattern\":{\"fillmode\":\"overlay\",\"size\":10,\"solidity\":0.2}},\"type\":\"histogram\"}],\"scattergl\":[{\"type\":\"scattergl\",\"marker\":{\"colorbar\":{\"outlinewidth\":0,\"ticks\":\"\"}}}],\"scatter3d\":[{\"type\":\"scatter3d\",\"line\":{\"colorbar\":{\"outlinewidth\":0,\"ticks\":\"\"}},\"marker\":{\"colorbar\":{\"outlinewidth\":0,\"ticks\":\"\"}}}],\"scattermapbox\":[{\"type\":\"scattermapbox\",\"marker\":{\"colorbar\":{\"outlinewidth\":0,\"ticks\":\"\"}}}],\"scatterternary\":[{\"type\":\"scatterternary\",\"marker\":{\"colorbar\":{\"outlinewidth\":0,\"ticks\":\"\"}}}],\"scattercarpet\":[{\"type\":\"scattercarpet\",\"marker\":{\"colorbar\":{\"outlinewidth\":0,\"ticks\":\"\"}}}],\"carpet\":[{\"aaxis\":{\"endlinecolor\":\"#2a3f5f\",\"gridcolor\":\"white\",\"linecolor\":\"white\",\"minorgridcolor\":\"white\",\"startlinecolor\":\"#2a3f5f\"},\"baxis\":{\"endlinecolor\":\"#2a3f5f\",\"gridcolor\":\"white\",\"linecolor\":\"white\",\"minorgridcolor\":\"white\",\"startlinecolor\":\"#2a3f5f\"},\"type\":\"carpet\"}],\"table\":[{\"cells\":{\"fill\":{\"color\":\"#EBF0F8\"},\"line\":{\"color\":\"white\"}},\"header\":{\"fill\":{\"color\":\"#C8D4E3\"},\"line\":{\"color\":\"white\"}},\"type\":\"table\"}],\"barpolar\":[{\"marker\":{\"line\":{\"color\":\"#E5ECF6\",\"width\":0.5},\"pattern\":{\"fillmode\":\"overlay\",\"size\":10,\"solidity\":0.2}},\"type\":\"barpolar\"}],\"pie\":[{\"automargin\":true,\"type\":\"pie\"}]},\"layout\":{\"autotypenumbers\":\"strict\",\"colorway\":[\"#636efa\",\"#EF553B\",\"#00cc96\",\"#ab63fa\",\"#FFA15A\",\"#19d3f3\",\"#FF6692\",\"#B6E880\",\"#FF97FF\",\"#FECB52\"],\"font\":{\"color\":\"#2a3f5f\"},\"hovermode\":\"closest\",\"hoverlabel\":{\"align\":\"left\"},\"paper_bgcolor\":\"white\",\"plot_bgcolor\":\"#E5ECF6\",\"polar\":{\"bgcolor\":\"#E5ECF6\",\"angularaxis\":{\"gridcolor\":\"white\",\"linecolor\":\"white\",\"ticks\":\"\"},\"radialaxis\":{\"gridcolor\":\"white\",\"linecolor\":\"white\",\"ticks\":\"\"}},\"ternary\":{\"bgcolor\":\"#E5ECF6\",\"aaxis\":{\"gridcolor\":\"white\",\"linecolor\":\"white\",\"ticks\":\"\"},\"baxis\":{\"gridcolor\":\"white\",\"linecolor\":\"white\",\"ticks\":\"\"},\"caxis\":{\"gridcolor\":\"white\",\"linecolor\":\"white\",\"ticks\":\"\"}},\"coloraxis\":{\"colorbar\":{\"outlinewidth\":0,\"ticks\":\"\"}},\"colorscale\":{\"sequential\":[[0.0,\"#0d0887\"],[0.1111111111111111,\"#46039f\"],[0.2222222222222222,\"#7201a8\"],[0.3333333333333333,\"#9c179e\"],[0.4444444444444444,\"#bd3786\"],[0.5555555555555556,\"#d8576b\"],[0.6666666666666666,\"#ed7953\"],[0.7777777777777778,\"#fb9f3a\"],[0.8888888888888888,\"#fdca26\"],[1.0,\"#f0f921\"]],\"sequentialminus\":[[0.0,\"#0d0887\"],[0.1111111111111111,\"#46039f\"],[0.2222222222222222,\"#7201a8\"],[0.3333333333333333,\"#9c179e\"],[0.4444444444444444,\"#bd3786\"],[0.5555555555555556,\"#d8576b\"],[0.6666666666666666,\"#ed7953\"],[0.7777777777777778,\"#fb9f3a\"],[0.8888888888888888,\"#fdca26\"],[1.0,\"#f0f921\"]],\"diverging\":[[0,\"#8e0152\"],[0.1,\"#c51b7d\"],[0.2,\"#de77ae\"],[0.3,\"#f1b6da\"],[0.4,\"#fde0ef\"],[0.5,\"#f7f7f7\"],[0.6,\"#e6f5d0\"],[0.7,\"#b8e186\"],[0.8,\"#7fbc41\"],[0.9,\"#4d9221\"],[1,\"#276419\"]]},\"xaxis\":{\"gridcolor\":\"white\",\"linecolor\":\"white\",\"ticks\":\"\",\"title\":{\"standoff\":15},\"zerolinecolor\":\"white\",\"automargin\":true,\"zerolinewidth\":2},\"yaxis\":{\"gridcolor\":\"white\",\"linecolor\":\"white\",\"ticks\":\"\",\"title\":{\"standoff\":15},\"zerolinecolor\":\"white\",\"automargin\":true,\"zerolinewidth\":2},\"scene\":{\"xaxis\":{\"backgroundcolor\":\"#E5ECF6\",\"gridcolor\":\"white\",\"linecolor\":\"white\",\"showbackground\":true,\"ticks\":\"\",\"zerolinecolor\":\"white\",\"gridwidth\":2},\"yaxis\":{\"backgroundcolor\":\"#E5ECF6\",\"gridcolor\":\"white\",\"linecolor\":\"white\",\"showbackground\":true,\"ticks\":\"\",\"zerolinecolor\":\"white\",\"gridwidth\":2},\"zaxis\":{\"backgroundcolor\":\"#E5ECF6\",\"gridcolor\":\"white\",\"linecolor\":\"white\",\"showbackground\":true,\"ticks\":\"\",\"zerolinecolor\":\"white\",\"gridwidth\":2}},\"shapedefaults\":{\"line\":{\"color\":\"#2a3f5f\"}},\"annotationdefaults\":{\"arrowcolor\":\"#2a3f5f\",\"arrowhead\":0,\"arrowwidth\":1},\"geo\":{\"bgcolor\":\"white\",\"landcolor\":\"#E5ECF6\",\"subunitcolor\":\"white\",\"showland\":true,\"showlakes\":true,\"lakecolor\":\"white\"},\"title\":{\"x\":0.05},\"mapbox\":{\"style\":\"light\"}}},\"xaxis\":{\"anchor\":\"y\",\"domain\":[0.0,1.0],\"title\":{\"text\":\"education\"}},\"yaxis\":{\"anchor\":\"x\",\"domain\":[0.0,1.0],\"title\":{\"text\":\"count\"}},\"legend\":{\"tracegroupgap\":0},\"margin\":{\"t\":60},\"barmode\":\"relative\",\"bargap\":0.1,\"title\":{\"text\":\"Histogram of Education Column\"}},                        {\"responsive\": true}                    ).then(function(){\n",
       "                            \n",
       "var gd = document.getElementById('a201d72f-74a6-48a7-840c-3a72ca1550cc');\n",
       "var x = new MutationObserver(function (mutations, observer) {{\n",
       "        var display = window.getComputedStyle(gd).display;\n",
       "        if (!display || display === 'none') {{\n",
       "            console.log([gd, 'removed!']);\n",
       "            Plotly.purge(gd);\n",
       "            observer.disconnect();\n",
       "        }}\n",
       "}});\n",
       "\n",
       "// Listen for the removal of the full notebook cells\n",
       "var notebookContainer = gd.closest('#notebook-container');\n",
       "if (notebookContainer) {{\n",
       "    x.observe(notebookContainer, {childList: true});\n",
       "}}\n",
       "\n",
       "// Listen for the clearing of the current output cell\n",
       "var outputEl = gd.closest('.output');\n",
       "if (outputEl) {{\n",
       "    x.observe(outputEl, {childList: true});\n",
       "}}\n",
       "\n",
       "                        })                };                });            </script>        </div>"
      ]
     },
     "metadata": {},
     "output_type": "display_data"
    }
   ],
   "source": [
    "fig = px.histogram(raw_df, x='education', nbins=4)\n",
    "fig.update_layout(bargap=0.1, title='Histogram of Education Column')\n",
    "fig.show()"
   ]
  },
  {
   "cell_type": "markdown",
   "id": "e3e31153",
   "metadata": {
    "papermill": {
     "duration": 0.065656,
     "end_time": "2022-04-23T01:20:39.010575",
     "exception": false,
     "start_time": "2022-04-23T01:20:38.944919",
     "status": "completed"
    },
    "tags": []
   },
   "source": [
    "If you look closly we can take that education is mostly upto 1st grade. This makes the statement that people in this dataset is not well-educated"
   ]
  },
  {
   "cell_type": "code",
   "execution_count": 11,
   "id": "bc68ca35",
   "metadata": {
    "execution": {
     "iopub.execute_input": "2022-04-23T01:20:39.139721Z",
     "iopub.status.busy": "2022-04-23T01:20:39.139178Z",
     "iopub.status.idle": "2022-04-23T01:20:39.222638Z",
     "shell.execute_reply": "2022-04-23T01:20:39.221863Z"
    },
    "papermill": {
     "duration": 0.150006,
     "end_time": "2022-04-23T01:20:39.224661",
     "exception": false,
     "start_time": "2022-04-23T01:20:39.074655",
     "status": "completed"
    },
    "tags": []
   },
   "outputs": [
    {
     "data": {
      "text/html": [
       "<div>                            <div id=\"fc5b6b53-6fb0-4abd-9257-c65ade2896a5\" class=\"plotly-graph-div\" style=\"height:525px; width:100%;\"></div>            <script type=\"text/javascript\">                require([\"plotly\"], function(Plotly) {                    window.PLOTLYENV=window.PLOTLYENV || {};                                    if (document.getElementById(\"fc5b6b53-6fb0-4abd-9257-c65ade2896a5\")) {                    Plotly.newPlot(                        \"fc5b6b53-6fb0-4abd-9257-c65ade2896a5\",                        [{\"alignmentgroup\":\"True\",\"bingroup\":\"x\",\"hovertemplate\":\"currentSmoker=%{x}<br>count=%{y}<extra></extra>\",\"legendgroup\":\"0\",\"marker\":{\"color\":\"#636efa\",\"pattern\":{\"shape\":\"\"}},\"name\":\"0\",\"nbinsx\":4,\"offsetgroup\":\"0\",\"orientation\":\"v\",\"showlegend\":true,\"x\":[0,0,0,0,0,0,0,0,0,0,0,0,0,0,0,0,0,0,0,0,0,0,0,0,0,0,0,0,0,0,0,0,0,0,0,0,0,0,0,0,0,0,0,0,0,0,0,0,0,0,0,0,0,0,0,0,0,0,0,0,0,0,0,0,0,0,0,0,0,0,0,0,0,0,0,0,0,0,0,0,0,0,0,0,0,0,0,0,0,0,0,0,0,0,0,0,0,0,0,0,0,0,0,0,0,0,0,0,0,0,0,0,0,0,0,0,0,0,0,0,0,0,0,0,0,0,0,0,0,0,0,0,0,0,0,0,0,0,0,0,0,0,0,0,0,0,0,0,0,0,0,0,0,0,0,0,0,0,0,0,0,0,0,0,0,0,0,0,0,0,0,0,0,0,0,0,0,0,0,0,0,0,0,0,0,0,0,0,0,0,0,0,0,0,0,0,0,0,0,0,0,0,0,0,0,0,0,0,0,0,0,0,0,0,0,0,0,0,0,0,0,0,0,0,0,0,0,0,0,0,0,0,0,0,0,0,0,0,0,0,0,0,0,0,0,0,0,0,0,0,0,0,0,0,0,0,0,0,0,0,0,0,0,0,0,0,0,0,0,0,0,0,0,0,0,0,0,0,0,0,0,0,0,0,0,0,0,0,0,0,0,0,0,0,0,0,0,0,0,0,0,0,0,0,0,0,0,0,0,0,0,0,0,0,0,0,0,0,0,0,0,0,0,0,0,0,0,0,0,0,0,0,0,0,0,0,0,0,0,0,0,0,0,0,0,0,0,0,0,0,0,0,0,0,0,0,0,0,0,0,0,0,0,0,0,0,0,0,0,0,0,0,0,0,0,0,0,0,0,0,0,0,0,0,0,0,0,0,0,0,0,0,0,0,0,0,0,0,0,0,0,0,0,0,0,0,0,0,0,0,0,0,0,0,0,0,0,0,0,0,0,0,0,0,0,0,0,0,0,0,0,0,0,0,0,0,0,0,0,0,0,0,0,0,0,0,0,0,0,0,0,0,0,0,0,0,0,0,0,0,0,0,0,0,0,0,0,0,0,0,0,0,0,0,0,0,0,0,0,0,0,0,0,0,0,0,0,0,0,0,0,0,0,0,0,0,0,0,0,0,0,0,0,0,0,0,0,0,0,0,0,0,0,0,0,0,0,0,0,0,0,0,0,0,0,0,0,0,0,0,0,0,0,0,0,0,0,0,0,0,0,0,0,0,0,0,0,0,0,0,0,0,0,0,0,0,0,0,0,0,0,0,0,0,0,0,0,0,0,0,0,0,0,0,0,0,0,0,0,0,0,0,0,0,0,0,0,0,0,0,0,0,0,0,0,0,0,0,0,0,0,0,0,0,0,0,0,0,0,0,0,0,0,0,0,0,0,0,0,0,0,0,0,0,0,0,0,0,0,0,0,0,0,0,0,0,0,0,0,0,0,0,0,0,0,0,0,0,0,0,0,0,0,0,0,0,0,0,0,0,0,0,0,0,0,0,0,0,0,0,0,0,0,0,0,0,0,0,0,0,0,0,0,0,0,0,0,0,0,0,0,0,0,0,0,0,0,0,0,0,0,0,0,0,0,0,0,0,0,0,0,0,0,0,0,0,0,0,0,0,0,0,0,0,0,0,0,0,0,0,0,0,0,0,0,0,0,0,0,0,0,0,0,0,0,0,0,0,0,0,0,0,0,0,0,0,0,0,0,0,0,0,0,0,0,0,0,0,0,0,0,0,0,0,0,0,0,0,0,0,0,0,0,0,0,0,0,0,0,0,0,0,0,0,0,0,0,0,0,0,0,0,0,0,0,0,0,0,0,0,0,0,0,0,0,0,0,0,0,0,0,0,0,0,0,0,0,0,0,0,0,0,0,0,0,0,0,0,0,0,0,0,0,0,0,0,0,0,0,0,0,0,0,0,0,0,0,0,0,0,0,0,0,0,0,0,0,0,0,0,0,0,0,0,0,0,0,0,0,0,0,0,0,0,0,0,0,0,0,0,0,0,0,0,0,0,0,0,0,0,0,0,0,0,0,0,0,0,0,0,0,0,0,0,0,0,0,0,0,0,0,0,0,0,0,0,0,0,0,0,0,0,0,0,0,0,0,0,0,0,0,0,0,0,0,0,0,0,0,0,0,0,0,0,0,0,0,0,0,0,0,0,0,0,0,0,0,0,0,0,0,0,0,0,0,0,0,0,0,0,0,0,0,0,0,0,0,0,0,0,0,0,0,0,0,0,0,0,0,0,0,0,0,0,0,0,0,0,0,0,0,0,0,0,0,0,0,0,0,0,0,0,0,0,0,0,0,0,0,0,0,0,0,0,0,0,0,0,0,0,0,0,0,0,0,0,0,0,0,0,0,0,0,0,0,0,0,0,0,0,0,0,0,0,0,0,0,0,0,0,0,0,0,0,0,0,0,0,0,0,0,0,0,0,0,0,0,0,0,0,0,0,0,0,0,0,0,0,0,0,0,0,0,0,0,0,0,0,0,0,0,0,0,0,0,0,0,0,0,0,0,0,0,0,0,0,0,0,0,0,0,0,0,0,0,0,0,0,0,0,0,0,0,0,0,0,0,0,0,0,0,0,0,0,0,0,0,0,0,0,0,0,0,0,0,0,0,0,0,0,0,0,0,0,0,0,0,0,0,0,0,0,0,0,0,0,0,0,0,0,0,0,0,0,0,0,0,0,0,0,0,0,0,0,0,0,0,0,0,0,0,0,0,0,0,0,0,0,0,0,0,0,0,0,0,0,0,0,0,0,0,0,0,0,0,0,0,0,0,0,0,0,0,0,0,0,0,0,0,0,0,0,0,0,0,0,0,0,0,0,0,0,0,0,0,0,0,0,0,0,0,0,0,0,0,0,0,0,0,0,0,0,0,0,0,0,0,0,0,0,0,0,0,0,0,0,0,0,0,0,0,0,0,0,0,0,0,0,0,0,0,0,0,0,0,0,0,0,0,0,0,0,0,0,0,0,0,0,0,0,0,0,0,0,0,0,0,0,0,0,0,0,0,0,0,0,0,0,0,0,0,0,0,0,0,0,0,0,0,0,0,0,0,0,0,0,0,0,0,0,0,0,0,0,0,0,0,0,0,0,0,0,0,0,0,0,0,0,0,0,0,0,0,0,0,0,0,0,0,0,0,0,0,0,0,0,0,0,0,0,0,0,0,0,0,0,0,0,0,0,0,0,0,0,0,0,0,0,0,0,0,0,0,0,0,0,0,0,0,0,0,0,0,0,0,0,0,0,0,0,0,0,0,0,0,0,0,0,0,0,0,0,0,0,0,0,0,0,0,0,0,0,0,0,0,0,0,0,0,0,0,0,0,0,0,0,0,0,0,0,0,0,0,0,0,0,0,0,0,0,0,0,0,0,0,0,0,0,0,0,0,0,0,0,0,0,0,0,0,0,0,0,0,0,0,0,0,0,0,0,0,0,0,0,0,0,0,0,0,0,0,0,0,0,0,0,0,0,0,0,0,0,0,0,0,0,0,0,0,0,0,0,0,0,0,0,0,0,0,0,0,0,0,0,0,0,0,0,0,0,0,0,0,0,0,0,0,0,0,0,0,0,0,0,0,0,0,0,0,0,0,0,0,0,0,0,0,0,0,0,0,0,0,0,0,0,0,0,0,0,0,0,0,0,0,0,0,0,0,0,0,0,0,0,0,0,0,0,0,0,0,0,0,0,0,0,0,0,0,0,0,0,0,0,0,0,0,0,0,0,0,0,0,0,0,0,0,0,0,0,0,0,0,0,0,0,0,0,0,0,0,0,0,0,0,0,0,0,0,0,0,0,0,0,0,0,0,0,0,0,0,0,0,0,0,0,0,0,0,0,0,0,0,0,0,0,0,0,0,0,0,0,0,0,0,0,0,0,0,0,0,0,0,0,0,0,0,0,0,0,0,0,0,0,0,0,0,0,0,0,0,0,0,0,0,0,0,0,0,0,0,0,0,0,0,0,0,0,0,0,0,0,0,0,0,0,0,0,0,0,0,0,0,0,0,0,0,0,0,0,0,0,0,0,0,0,0,0,0,0,0,0,0,0,0,0,0,0,0,0,0,0,0,0,0,0,0,0,0,0,0,0,0,0,0,0,0,0,0,0,0,0,0,0,0,0,0,0,0,0,0,0,0,0,0,0,0,0,0,0,0,0,0,0,0,0,0,0,0,0,0,0,0,0,0,0,0,0,0,0,0,0,0,0,0,0,0,0,0,0,0,0,0,0,0,0,0,0,0,0,0,0,0,0,0,0,0,0,0,0,0,0,0,0,0,0,0,0,0,0,0,0,0,0,0,0,0,0,0,0,0,0,0,0,0,0,0,0,0,0,0,0,0,0,0,0,0,0,0,0,0,0,0,0,0,0,0,0,0,0,0,0,0,0,0,0,0,0,0,0,0,0,0,0,0,0,0,0,0,0,0,0,0,0,0,0,0,0,0,0,0,0,0,0,0,0,0,0,0,0,0,0,0,0,0,0,0,0,0,0,0,0,0,0,0,0,0,0,0,0,0,0,0,0,0,0,0,0,0,0,0,0,0,0,0,0,0,0,0,0,0,0,0,0,0,0,0,0,0,0,0,0,0,0,0,0,0,0,0,0,0,0,0,0,0,0,0,0,0,0,0,0,0,0,0,0,0,0,0,0,0,0,0,0,0,0,0,0,0,0,0,0,0,0,0,0,0,0,0,0,0,0,0,0,0,0,0,0,0,0,0,0,0,0,0,0,0,0,0,0,0,0,0,0,0,0,0,0,0,0,0,0,0,0,0,0,0,0,0,0,0,0,0,0,0,0,0,0,0,0,0,0,0,0],\"xaxis\":\"x\",\"yaxis\":\"y\",\"type\":\"histogram\"},{\"alignmentgroup\":\"True\",\"bingroup\":\"x\",\"hovertemplate\":\"currentSmoker=%{x}<br>count=%{y}<extra></extra>\",\"legendgroup\":\"1\",\"marker\":{\"color\":\"#EF553B\",\"pattern\":{\"shape\":\"\"}},\"name\":\"1\",\"nbinsx\":4,\"offsetgroup\":\"1\",\"orientation\":\"v\",\"showlegend\":true,\"x\":[1,1,1,1,1,1,1,1,1,1,1,1,1,1,1,1,1,1,1,1,1,1,1,1,1,1,1,1,1,1,1,1,1,1,1,1,1,1,1,1,1,1,1,1,1,1,1,1,1,1,1,1,1,1,1,1,1,1,1,1,1,1,1,1,1,1,1,1,1,1,1,1,1,1,1,1,1,1,1,1,1,1,1,1,1,1,1,1,1,1,1,1,1,1,1,1,1,1,1,1,1,1,1,1,1,1,1,1,1,1,1,1,1,1,1,1,1,1,1,1,1,1,1,1,1,1,1,1,1,1,1,1,1,1,1,1,1,1,1,1,1,1,1,1,1,1,1,1,1,1,1,1,1,1,1,1,1,1,1,1,1,1,1,1,1,1,1,1,1,1,1,1,1,1,1,1,1,1,1,1,1,1,1,1,1,1,1,1,1,1,1,1,1,1,1,1,1,1,1,1,1,1,1,1,1,1,1,1,1,1,1,1,1,1,1,1,1,1,1,1,1,1,1,1,1,1,1,1,1,1,1,1,1,1,1,1,1,1,1,1,1,1,1,1,1,1,1,1,1,1,1,1,1,1,1,1,1,1,1,1,1,1,1,1,1,1,1,1,1,1,1,1,1,1,1,1,1,1,1,1,1,1,1,1,1,1,1,1,1,1,1,1,1,1,1,1,1,1,1,1,1,1,1,1,1,1,1,1,1,1,1,1,1,1,1,1,1,1,1,1,1,1,1,1,1,1,1,1,1,1,1,1,1,1,1,1,1,1,1,1,1,1,1,1,1,1,1,1,1,1,1,1,1,1,1,1,1,1,1,1,1,1,1,1,1,1,1,1,1,1,1,1,1,1,1,1,1,1,1,1,1,1,1,1,1,1,1,1,1,1,1,1,1,1,1,1,1,1,1,1,1,1,1,1,1,1,1,1,1,1,1,1,1,1,1,1,1,1,1,1,1,1,1,1,1,1,1,1,1,1,1,1,1,1,1,1,1,1,1,1,1,1,1,1,1,1,1,1,1,1,1,1,1,1,1,1,1,1,1,1,1,1,1,1,1,1,1,1,1,1,1,1,1,1,1,1,1,1,1,1,1,1,1,1,1,1,1,1,1,1,1,1,1,1,1,1,1,1,1,1,1,1,1,1,1,1,1,1,1,1,1,1,1,1,1,1,1,1,1,1,1,1,1,1,1,1,1,1,1,1,1,1,1,1,1,1,1,1,1,1,1,1,1,1,1,1,1,1,1,1,1,1,1,1,1,1,1,1,1,1,1,1,1,1,1,1,1,1,1,1,1,1,1,1,1,1,1,1,1,1,1,1,1,1,1,1,1,1,1,1,1,1,1,1,1,1,1,1,1,1,1,1,1,1,1,1,1,1,1,1,1,1,1,1,1,1,1,1,1,1,1,1,1,1,1,1,1,1,1,1,1,1,1,1,1,1,1,1,1,1,1,1,1,1,1,1,1,1,1,1,1,1,1,1,1,1,1,1,1,1,1,1,1,1,1,1,1,1,1,1,1,1,1,1,1,1,1,1,1,1,1,1,1,1,1,1,1,1,1,1,1,1,1,1,1,1,1,1,1,1,1,1,1,1,1,1,1,1,1,1,1,1,1,1,1,1,1,1,1,1,1,1,1,1,1,1,1,1,1,1,1,1,1,1,1,1,1,1,1,1,1,1,1,1,1,1,1,1,1,1,1,1,1,1,1,1,1,1,1,1,1,1,1,1,1,1,1,1,1,1,1,1,1,1,1,1,1,1,1,1,1,1,1,1,1,1,1,1,1,1,1,1,1,1,1,1,1,1,1,1,1,1,1,1,1,1,1,1,1,1,1,1,1,1,1,1,1,1,1,1,1,1,1,1,1,1,1,1,1,1,1,1,1,1,1,1,1,1,1,1,1,1,1,1,1,1,1,1,1,1,1,1,1,1,1,1,1,1,1,1,1,1,1,1,1,1,1,1,1,1,1,1,1,1,1,1,1,1,1,1,1,1,1,1,1,1,1,1,1,1,1,1,1,1,1,1,1,1,1,1,1,1,1,1,1,1,1,1,1,1,1,1,1,1,1,1,1,1,1,1,1,1,1,1,1,1,1,1,1,1,1,1,1,1,1,1,1,1,1,1,1,1,1,1,1,1,1,1,1,1,1,1,1,1,1,1,1,1,1,1,1,1,1,1,1,1,1,1,1,1,1,1,1,1,1,1,1,1,1,1,1,1,1,1,1,1,1,1,1,1,1,1,1,1,1,1,1,1,1,1,1,1,1,1,1,1,1,1,1,1,1,1,1,1,1,1,1,1,1,1,1,1,1,1,1,1,1,1,1,1,1,1,1,1,1,1,1,1,1,1,1,1,1,1,1,1,1,1,1,1,1,1,1,1,1,1,1,1,1,1,1,1,1,1,1,1,1,1,1,1,1,1,1,1,1,1,1,1,1,1,1,1,1,1,1,1,1,1,1,1,1,1,1,1,1,1,1,1,1,1,1,1,1,1,1,1,1,1,1,1,1,1,1,1,1,1,1,1,1,1,1,1,1,1,1,1,1,1,1,1,1,1,1,1,1,1,1,1,1,1,1,1,1,1,1,1,1,1,1,1,1,1,1,1,1,1,1,1,1,1,1,1,1,1,1,1,1,1,1,1,1,1,1,1,1,1,1,1,1,1,1,1,1,1,1,1,1,1,1,1,1,1,1,1,1,1,1,1,1,1,1,1,1,1,1,1,1,1,1,1,1,1,1,1,1,1,1,1,1,1,1,1,1,1,1,1,1,1,1,1,1,1,1,1,1,1,1,1,1,1,1,1,1,1,1,1,1,1,1,1,1,1,1,1,1,1,1,1,1,1,1,1,1,1,1,1,1,1,1,1,1,1,1,1,1,1,1,1,1,1,1,1,1,1,1,1,1,1,1,1,1,1,1,1,1,1,1,1,1,1,1,1,1,1,1,1,1,1,1,1,1,1,1,1,1,1,1,1,1,1,1,1,1,1,1,1,1,1,1,1,1,1,1,1,1,1,1,1,1,1,1,1,1,1,1,1,1,1,1,1,1,1,1,1,1,1,1,1,1,1,1,1,1,1,1,1,1,1,1,1,1,1,1,1,1,1,1,1,1,1,1,1,1,1,1,1,1,1,1,1,1,1,1,1,1,1,1,1,1,1,1,1,1,1,1,1,1,1,1,1,1,1,1,1,1,1,1,1,1,1,1,1,1,1,1,1,1,1,1,1,1,1,1,1,1,1,1,1,1,1,1,1,1,1,1,1,1,1,1,1,1,1,1,1,1,1,1,1,1,1,1,1,1,1,1,1,1,1,1,1,1,1,1,1,1,1,1,1,1,1,1,1,1,1,1,1,1,1,1,1,1,1,1,1,1,1,1,1,1,1,1,1,1,1,1,1,1,1,1,1,1,1,1,1,1,1,1,1,1,1,1,1,1,1,1,1,1,1,1,1,1,1,1,1,1,1,1,1,1,1,1,1,1,1,1,1,1,1,1,1,1,1,1,1,1,1,1,1,1,1,1,1,1,1,1,1,1,1,1,1,1,1,1,1,1,1,1,1,1,1,1,1,1,1,1,1,1,1,1,1,1,1,1,1,1,1,1,1,1,1,1,1,1,1,1,1,1,1,1,1,1,1,1,1,1,1,1,1,1,1,1,1,1,1,1,1,1,1,1,1,1,1,1,1,1,1,1,1,1,1,1,1,1,1,1,1,1,1,1,1,1,1,1,1,1,1,1,1,1,1,1,1,1,1,1,1,1,1,1,1,1,1,1,1,1,1,1,1,1,1,1,1,1,1,1,1,1,1,1,1,1,1,1,1,1,1,1,1,1,1,1,1,1,1,1,1,1,1,1,1,1,1,1,1,1,1,1,1,1,1,1,1,1,1,1,1,1,1,1,1,1,1,1,1,1,1,1,1,1,1,1,1,1,1,1,1,1,1,1,1,1,1,1,1,1,1,1,1,1,1,1,1,1,1,1,1,1,1,1,1,1,1,1,1,1,1,1,1,1,1,1,1,1,1,1,1,1,1,1,1,1,1,1,1,1,1,1,1,1,1,1,1,1,1,1,1,1,1,1,1,1,1,1,1,1,1,1,1,1,1,1,1,1,1,1,1,1,1,1,1,1,1,1,1,1,1,1,1,1,1,1,1,1,1,1,1,1,1,1,1,1,1,1,1,1,1,1,1,1,1,1,1,1,1,1,1,1,1,1,1,1,1,1,1,1,1,1,1,1,1,1,1,1,1,1,1,1,1,1,1,1,1,1,1,1,1,1,1,1,1,1,1,1,1,1,1,1,1,1,1,1,1,1,1,1,1,1,1,1,1,1,1,1,1,1,1,1,1,1,1,1,1,1,1,1,1,1,1,1,1,1,1,1,1,1,1,1,1,1,1,1,1,1,1,1,1,1,1,1,1,1,1,1,1,1,1,1,1,1,1,1,1,1,1,1,1,1,1,1,1,1,1,1,1,1,1,1,1,1,1,1,1,1,1,1,1,1,1,1,1,1,1,1,1,1,1,1,1,1,1,1,1,1,1,1,1,1,1,1,1,1,1,1,1,1,1,1,1,1,1,1,1,1,1,1,1,1,1,1,1,1,1,1,1,1,1,1,1,1,1,1,1,1,1,1,1,1,1,1,1,1,1,1,1,1,1,1,1,1,1,1,1,1,1,1,1,1,1,1,1,1,1,1,1,1,1,1,1,1,1,1,1,1,1],\"xaxis\":\"x\",\"yaxis\":\"y\",\"type\":\"histogram\"}],                        {\"template\":{\"data\":{\"histogram2dcontour\":[{\"type\":\"histogram2dcontour\",\"colorbar\":{\"outlinewidth\":0,\"ticks\":\"\"},\"colorscale\":[[0.0,\"#0d0887\"],[0.1111111111111111,\"#46039f\"],[0.2222222222222222,\"#7201a8\"],[0.3333333333333333,\"#9c179e\"],[0.4444444444444444,\"#bd3786\"],[0.5555555555555556,\"#d8576b\"],[0.6666666666666666,\"#ed7953\"],[0.7777777777777778,\"#fb9f3a\"],[0.8888888888888888,\"#fdca26\"],[1.0,\"#f0f921\"]]}],\"choropleth\":[{\"type\":\"choropleth\",\"colorbar\":{\"outlinewidth\":0,\"ticks\":\"\"}}],\"histogram2d\":[{\"type\":\"histogram2d\",\"colorbar\":{\"outlinewidth\":0,\"ticks\":\"\"},\"colorscale\":[[0.0,\"#0d0887\"],[0.1111111111111111,\"#46039f\"],[0.2222222222222222,\"#7201a8\"],[0.3333333333333333,\"#9c179e\"],[0.4444444444444444,\"#bd3786\"],[0.5555555555555556,\"#d8576b\"],[0.6666666666666666,\"#ed7953\"],[0.7777777777777778,\"#fb9f3a\"],[0.8888888888888888,\"#fdca26\"],[1.0,\"#f0f921\"]]}],\"heatmap\":[{\"type\":\"heatmap\",\"colorbar\":{\"outlinewidth\":0,\"ticks\":\"\"},\"colorscale\":[[0.0,\"#0d0887\"],[0.1111111111111111,\"#46039f\"],[0.2222222222222222,\"#7201a8\"],[0.3333333333333333,\"#9c179e\"],[0.4444444444444444,\"#bd3786\"],[0.5555555555555556,\"#d8576b\"],[0.6666666666666666,\"#ed7953\"],[0.7777777777777778,\"#fb9f3a\"],[0.8888888888888888,\"#fdca26\"],[1.0,\"#f0f921\"]]}],\"heatmapgl\":[{\"type\":\"heatmapgl\",\"colorbar\":{\"outlinewidth\":0,\"ticks\":\"\"},\"colorscale\":[[0.0,\"#0d0887\"],[0.1111111111111111,\"#46039f\"],[0.2222222222222222,\"#7201a8\"],[0.3333333333333333,\"#9c179e\"],[0.4444444444444444,\"#bd3786\"],[0.5555555555555556,\"#d8576b\"],[0.6666666666666666,\"#ed7953\"],[0.7777777777777778,\"#fb9f3a\"],[0.8888888888888888,\"#fdca26\"],[1.0,\"#f0f921\"]]}],\"contourcarpet\":[{\"type\":\"contourcarpet\",\"colorbar\":{\"outlinewidth\":0,\"ticks\":\"\"}}],\"contour\":[{\"type\":\"contour\",\"colorbar\":{\"outlinewidth\":0,\"ticks\":\"\"},\"colorscale\":[[0.0,\"#0d0887\"],[0.1111111111111111,\"#46039f\"],[0.2222222222222222,\"#7201a8\"],[0.3333333333333333,\"#9c179e\"],[0.4444444444444444,\"#bd3786\"],[0.5555555555555556,\"#d8576b\"],[0.6666666666666666,\"#ed7953\"],[0.7777777777777778,\"#fb9f3a\"],[0.8888888888888888,\"#fdca26\"],[1.0,\"#f0f921\"]]}],\"surface\":[{\"type\":\"surface\",\"colorbar\":{\"outlinewidth\":0,\"ticks\":\"\"},\"colorscale\":[[0.0,\"#0d0887\"],[0.1111111111111111,\"#46039f\"],[0.2222222222222222,\"#7201a8\"],[0.3333333333333333,\"#9c179e\"],[0.4444444444444444,\"#bd3786\"],[0.5555555555555556,\"#d8576b\"],[0.6666666666666666,\"#ed7953\"],[0.7777777777777778,\"#fb9f3a\"],[0.8888888888888888,\"#fdca26\"],[1.0,\"#f0f921\"]]}],\"mesh3d\":[{\"type\":\"mesh3d\",\"colorbar\":{\"outlinewidth\":0,\"ticks\":\"\"}}],\"scatter\":[{\"fillpattern\":{\"fillmode\":\"overlay\",\"size\":10,\"solidity\":0.2},\"type\":\"scatter\"}],\"parcoords\":[{\"type\":\"parcoords\",\"line\":{\"colorbar\":{\"outlinewidth\":0,\"ticks\":\"\"}}}],\"scatterpolargl\":[{\"type\":\"scatterpolargl\",\"marker\":{\"colorbar\":{\"outlinewidth\":0,\"ticks\":\"\"}}}],\"bar\":[{\"error_x\":{\"color\":\"#2a3f5f\"},\"error_y\":{\"color\":\"#2a3f5f\"},\"marker\":{\"line\":{\"color\":\"#E5ECF6\",\"width\":0.5},\"pattern\":{\"fillmode\":\"overlay\",\"size\":10,\"solidity\":0.2}},\"type\":\"bar\"}],\"scattergeo\":[{\"type\":\"scattergeo\",\"marker\":{\"colorbar\":{\"outlinewidth\":0,\"ticks\":\"\"}}}],\"scatterpolar\":[{\"type\":\"scatterpolar\",\"marker\":{\"colorbar\":{\"outlinewidth\":0,\"ticks\":\"\"}}}],\"histogram\":[{\"marker\":{\"pattern\":{\"fillmode\":\"overlay\",\"size\":10,\"solidity\":0.2}},\"type\":\"histogram\"}],\"scattergl\":[{\"type\":\"scattergl\",\"marker\":{\"colorbar\":{\"outlinewidth\":0,\"ticks\":\"\"}}}],\"scatter3d\":[{\"type\":\"scatter3d\",\"line\":{\"colorbar\":{\"outlinewidth\":0,\"ticks\":\"\"}},\"marker\":{\"colorbar\":{\"outlinewidth\":0,\"ticks\":\"\"}}}],\"scattermapbox\":[{\"type\":\"scattermapbox\",\"marker\":{\"colorbar\":{\"outlinewidth\":0,\"ticks\":\"\"}}}],\"scatterternary\":[{\"type\":\"scatterternary\",\"marker\":{\"colorbar\":{\"outlinewidth\":0,\"ticks\":\"\"}}}],\"scattercarpet\":[{\"type\":\"scattercarpet\",\"marker\":{\"colorbar\":{\"outlinewidth\":0,\"ticks\":\"\"}}}],\"carpet\":[{\"aaxis\":{\"endlinecolor\":\"#2a3f5f\",\"gridcolor\":\"white\",\"linecolor\":\"white\",\"minorgridcolor\":\"white\",\"startlinecolor\":\"#2a3f5f\"},\"baxis\":{\"endlinecolor\":\"#2a3f5f\",\"gridcolor\":\"white\",\"linecolor\":\"white\",\"minorgridcolor\":\"white\",\"startlinecolor\":\"#2a3f5f\"},\"type\":\"carpet\"}],\"table\":[{\"cells\":{\"fill\":{\"color\":\"#EBF0F8\"},\"line\":{\"color\":\"white\"}},\"header\":{\"fill\":{\"color\":\"#C8D4E3\"},\"line\":{\"color\":\"white\"}},\"type\":\"table\"}],\"barpolar\":[{\"marker\":{\"line\":{\"color\":\"#E5ECF6\",\"width\":0.5},\"pattern\":{\"fillmode\":\"overlay\",\"size\":10,\"solidity\":0.2}},\"type\":\"barpolar\"}],\"pie\":[{\"automargin\":true,\"type\":\"pie\"}]},\"layout\":{\"autotypenumbers\":\"strict\",\"colorway\":[\"#636efa\",\"#EF553B\",\"#00cc96\",\"#ab63fa\",\"#FFA15A\",\"#19d3f3\",\"#FF6692\",\"#B6E880\",\"#FF97FF\",\"#FECB52\"],\"font\":{\"color\":\"#2a3f5f\"},\"hovermode\":\"closest\",\"hoverlabel\":{\"align\":\"left\"},\"paper_bgcolor\":\"white\",\"plot_bgcolor\":\"#E5ECF6\",\"polar\":{\"bgcolor\":\"#E5ECF6\",\"angularaxis\":{\"gridcolor\":\"white\",\"linecolor\":\"white\",\"ticks\":\"\"},\"radialaxis\":{\"gridcolor\":\"white\",\"linecolor\":\"white\",\"ticks\":\"\"}},\"ternary\":{\"bgcolor\":\"#E5ECF6\",\"aaxis\":{\"gridcolor\":\"white\",\"linecolor\":\"white\",\"ticks\":\"\"},\"baxis\":{\"gridcolor\":\"white\",\"linecolor\":\"white\",\"ticks\":\"\"},\"caxis\":{\"gridcolor\":\"white\",\"linecolor\":\"white\",\"ticks\":\"\"}},\"coloraxis\":{\"colorbar\":{\"outlinewidth\":0,\"ticks\":\"\"}},\"colorscale\":{\"sequential\":[[0.0,\"#0d0887\"],[0.1111111111111111,\"#46039f\"],[0.2222222222222222,\"#7201a8\"],[0.3333333333333333,\"#9c179e\"],[0.4444444444444444,\"#bd3786\"],[0.5555555555555556,\"#d8576b\"],[0.6666666666666666,\"#ed7953\"],[0.7777777777777778,\"#fb9f3a\"],[0.8888888888888888,\"#fdca26\"],[1.0,\"#f0f921\"]],\"sequentialminus\":[[0.0,\"#0d0887\"],[0.1111111111111111,\"#46039f\"],[0.2222222222222222,\"#7201a8\"],[0.3333333333333333,\"#9c179e\"],[0.4444444444444444,\"#bd3786\"],[0.5555555555555556,\"#d8576b\"],[0.6666666666666666,\"#ed7953\"],[0.7777777777777778,\"#fb9f3a\"],[0.8888888888888888,\"#fdca26\"],[1.0,\"#f0f921\"]],\"diverging\":[[0,\"#8e0152\"],[0.1,\"#c51b7d\"],[0.2,\"#de77ae\"],[0.3,\"#f1b6da\"],[0.4,\"#fde0ef\"],[0.5,\"#f7f7f7\"],[0.6,\"#e6f5d0\"],[0.7,\"#b8e186\"],[0.8,\"#7fbc41\"],[0.9,\"#4d9221\"],[1,\"#276419\"]]},\"xaxis\":{\"gridcolor\":\"white\",\"linecolor\":\"white\",\"ticks\":\"\",\"title\":{\"standoff\":15},\"zerolinecolor\":\"white\",\"automargin\":true,\"zerolinewidth\":2},\"yaxis\":{\"gridcolor\":\"white\",\"linecolor\":\"white\",\"ticks\":\"\",\"title\":{\"standoff\":15},\"zerolinecolor\":\"white\",\"automargin\":true,\"zerolinewidth\":2},\"scene\":{\"xaxis\":{\"backgroundcolor\":\"#E5ECF6\",\"gridcolor\":\"white\",\"linecolor\":\"white\",\"showbackground\":true,\"ticks\":\"\",\"zerolinecolor\":\"white\",\"gridwidth\":2},\"yaxis\":{\"backgroundcolor\":\"#E5ECF6\",\"gridcolor\":\"white\",\"linecolor\":\"white\",\"showbackground\":true,\"ticks\":\"\",\"zerolinecolor\":\"white\",\"gridwidth\":2},\"zaxis\":{\"backgroundcolor\":\"#E5ECF6\",\"gridcolor\":\"white\",\"linecolor\":\"white\",\"showbackground\":true,\"ticks\":\"\",\"zerolinecolor\":\"white\",\"gridwidth\":2}},\"shapedefaults\":{\"line\":{\"color\":\"#2a3f5f\"}},\"annotationdefaults\":{\"arrowcolor\":\"#2a3f5f\",\"arrowhead\":0,\"arrowwidth\":1},\"geo\":{\"bgcolor\":\"white\",\"landcolor\":\"#E5ECF6\",\"subunitcolor\":\"white\",\"showland\":true,\"showlakes\":true,\"lakecolor\":\"white\"},\"title\":{\"x\":0.05},\"mapbox\":{\"style\":\"light\"}}},\"xaxis\":{\"anchor\":\"y\",\"domain\":[0.0,1.0],\"title\":{\"text\":\"currentSmoker\"},\"categoryorder\":\"array\",\"categoryarray\":[0,1]},\"yaxis\":{\"anchor\":\"x\",\"domain\":[0.0,1.0],\"title\":{\"text\":\"count\"}},\"legend\":{\"title\":{\"text\":\"currentSmoker\"},\"tracegroupgap\":0},\"margin\":{\"t\":60},\"barmode\":\"relative\"},                        {\"responsive\": true}                    ).then(function(){\n",
       "                            \n",
       "var gd = document.getElementById('fc5b6b53-6fb0-4abd-9257-c65ade2896a5');\n",
       "var x = new MutationObserver(function (mutations, observer) {{\n",
       "        var display = window.getComputedStyle(gd).display;\n",
       "        if (!display || display === 'none') {{\n",
       "            console.log([gd, 'removed!']);\n",
       "            Plotly.purge(gd);\n",
       "            observer.disconnect();\n",
       "        }}\n",
       "}});\n",
       "\n",
       "// Listen for the removal of the full notebook cells\n",
       "var notebookContainer = gd.closest('#notebook-container');\n",
       "if (notebookContainer) {{\n",
       "    x.observe(notebookContainer, {childList: true});\n",
       "}}\n",
       "\n",
       "// Listen for the clearing of the current output cell\n",
       "var outputEl = gd.closest('.output');\n",
       "if (outputEl) {{\n",
       "    x.observe(outputEl, {childList: true});\n",
       "}}\n",
       "\n",
       "                        })                };                });            </script>        </div>"
      ]
     },
     "metadata": {},
     "output_type": "display_data"
    }
   ],
   "source": [
    "px.histogram(raw_df, 'currentSmoker', color='currentSmoker', nbins=4)"
   ]
  },
  {
   "cell_type": "markdown",
   "id": "8e1e1d69",
   "metadata": {
    "papermill": {
     "duration": 0.066702,
     "end_time": "2022-04-23T01:20:39.357383",
     "exception": false,
     "start_time": "2022-04-23T01:20:39.290681",
     "status": "completed"
    },
    "tags": []
   },
   "source": [
    "Looks like not smoking people is more than smoking people. That's maybe or maynot be true. The truth will know only to the person that creates this dataset"
   ]
  },
  {
   "cell_type": "markdown",
   "id": "52aefc32",
   "metadata": {
    "papermill": {
     "duration": 0.065847,
     "end_time": "2022-04-23T01:20:39.490192",
     "exception": false,
     "start_time": "2022-04-23T01:20:39.424345",
     "status": "completed"
    },
    "tags": []
   },
   "source": [
    "# Step - 3 Imputing Missing Values\n",
    "\n",
    "Our model cannot be perfect if we input a dataset with missing values. There can be two things we can do here\n",
    "\n",
    "1. Dropping all the `Unknow or NaN or null` values. If the `NaN` values is smaller in size, we can easily drop. That won't create a big problem. But what if the `NaN` values is greater is size\n",
    "\n",
    "2. Second Method is filling the values with respective to their mean.\n",
    "\n",
    "First Let's check the size of Missing values"
   ]
  },
  {
   "cell_type": "code",
   "execution_count": 12,
   "id": "3c65732c",
   "metadata": {
    "execution": {
     "iopub.execute_input": "2022-04-23T01:20:39.622047Z",
     "iopub.status.busy": "2022-04-23T01:20:39.621557Z",
     "iopub.status.idle": "2022-04-23T01:20:39.628721Z",
     "shell.execute_reply": "2022-04-23T01:20:39.627965Z"
    },
    "papermill": {
     "duration": 0.074861,
     "end_time": "2022-04-23T01:20:39.630426",
     "exception": false,
     "start_time": "2022-04-23T01:20:39.555565",
     "status": "completed"
    },
    "tags": []
   },
   "outputs": [
    {
     "data": {
      "text/plain": [
       "male                 0\n",
       "age                  0\n",
       "education          105\n",
       "currentSmoker        0\n",
       "cigsPerDay          29\n",
       "BPMeds              53\n",
       "prevalentStroke      0\n",
       "prevalentHyp         0\n",
       "diabetes             0\n",
       "totChol             50\n",
       "sysBP                0\n",
       "diaBP                0\n",
       "BMI                 19\n",
       "heartRate            1\n",
       "glucose            388\n",
       "TenYearCHD           0\n",
       "dtype: int64"
      ]
     },
     "execution_count": 12,
     "metadata": {},
     "output_type": "execute_result"
    }
   ],
   "source": [
    "raw_df.isnull().sum()"
   ]
  },
  {
   "cell_type": "markdown",
   "id": "18bf5872",
   "metadata": {
    "papermill": {
     "duration": 0.06447,
     "end_time": "2022-04-23T01:20:39.760055",
     "exception": false,
     "start_time": "2022-04-23T01:20:39.695585",
     "status": "completed"
    },
    "tags": []
   },
   "source": [
    "We can drop these `NaN` values if want. But am going to use this. I will fill these values with their mean of upper and lower row.\n",
    "\n",
    "Since every column in `numeric`, we can easily use `sklearn's SimpleImputer` Function for filling null valuesfrom sklearn.impute import SimpleImputer"
   ]
  },
  {
   "cell_type": "markdown",
   "id": "180c9b00",
   "metadata": {
    "papermill": {
     "duration": 0.06356,
     "end_time": "2022-04-23T01:20:39.887777",
     "exception": false,
     "start_time": "2022-04-23T01:20:39.824217",
     "status": "completed"
    },
    "tags": []
   },
   "source": [
    "In this we must take all the numeric cols and make a list out of it first"
   ]
  },
  {
   "cell_type": "code",
   "execution_count": 13,
   "id": "f2ccac34",
   "metadata": {
    "execution": {
     "iopub.execute_input": "2022-04-23T01:20:40.019845Z",
     "iopub.status.busy": "2022-04-23T01:20:40.019349Z",
     "iopub.status.idle": "2022-04-23T01:20:40.025167Z",
     "shell.execute_reply": "2022-04-23T01:20:40.024630Z"
    },
    "papermill": {
     "duration": 0.072895,
     "end_time": "2022-04-23T01:20:40.026824",
     "exception": false,
     "start_time": "2022-04-23T01:20:39.953929",
     "status": "completed"
    },
    "tags": []
   },
   "outputs": [],
   "source": [
    "numeric_cols = raw_df.select_dtypes(include=np.number).columns.tolist()"
   ]
  },
  {
   "cell_type": "code",
   "execution_count": 14,
   "id": "ee67f08c",
   "metadata": {
    "execution": {
     "iopub.execute_input": "2022-04-23T01:20:40.160354Z",
     "iopub.status.busy": "2022-04-23T01:20:40.159867Z",
     "iopub.status.idle": "2022-04-23T01:20:40.164495Z",
     "shell.execute_reply": "2022-04-23T01:20:40.163990Z"
    },
    "papermill": {
     "duration": 0.072259,
     "end_time": "2022-04-23T01:20:40.166110",
     "exception": false,
     "start_time": "2022-04-23T01:20:40.093851",
     "status": "completed"
    },
    "tags": []
   },
   "outputs": [
    {
     "data": {
      "text/plain": [
       "['male',\n",
       " 'age',\n",
       " 'education',\n",
       " 'currentSmoker',\n",
       " 'cigsPerDay',\n",
       " 'BPMeds',\n",
       " 'prevalentStroke',\n",
       " 'prevalentHyp',\n",
       " 'diabetes',\n",
       " 'totChol',\n",
       " 'sysBP',\n",
       " 'diaBP',\n",
       " 'BMI',\n",
       " 'heartRate',\n",
       " 'glucose',\n",
       " 'TenYearCHD']"
      ]
     },
     "execution_count": 14,
     "metadata": {},
     "output_type": "execute_result"
    }
   ],
   "source": [
    "numeric_cols"
   ]
  },
  {
   "cell_type": "markdown",
   "id": "723d720f",
   "metadata": {
    "papermill": {
     "duration": 0.064911,
     "end_time": "2022-04-23T01:20:40.297580",
     "exception": false,
     "start_time": "2022-04-23T01:20:40.232669",
     "status": "completed"
    },
    "tags": []
   },
   "source": [
    "We got all the numeric cols and next is to use the `SimpleImputer` Function to fill the `NaN` values"
   ]
  },
  {
   "cell_type": "code",
   "execution_count": 15,
   "id": "fe9cb908",
   "metadata": {
    "execution": {
     "iopub.execute_input": "2022-04-23T01:20:40.434767Z",
     "iopub.status.busy": "2022-04-23T01:20:40.434295Z",
     "iopub.status.idle": "2022-04-23T01:20:40.719309Z",
     "shell.execute_reply": "2022-04-23T01:20:40.718427Z"
    },
    "papermill": {
     "duration": 0.357517,
     "end_time": "2022-04-23T01:20:40.721771",
     "exception": false,
     "start_time": "2022-04-23T01:20:40.364254",
     "status": "completed"
    },
    "tags": []
   },
   "outputs": [],
   "source": [
    "from sklearn.impute import SimpleImputer\n",
    "imputer = SimpleImputer(strategy = 'mean')"
   ]
  },
  {
   "cell_type": "markdown",
   "id": "8a908b09",
   "metadata": {
    "papermill": {
     "duration": 0.067109,
     "end_time": "2022-04-23T01:20:40.856132",
     "exception": false,
     "start_time": "2022-04-23T01:20:40.789023",
     "status": "completed"
    },
    "tags": []
   },
   "source": [
    "We are using a mean strategy. It's because we can use the NaN value's upper and lower columns and values and find the mean out of it\n",
    "\n",
    "By fitting the values. Imputer find the best mean for each rows"
   ]
  },
  {
   "cell_type": "code",
   "execution_count": 16,
   "id": "9b4d3290",
   "metadata": {
    "execution": {
     "iopub.execute_input": "2022-04-23T01:20:40.993467Z",
     "iopub.status.busy": "2022-04-23T01:20:40.992884Z",
     "iopub.status.idle": "2022-04-23T01:20:41.005570Z",
     "shell.execute_reply": "2022-04-23T01:20:41.004780Z"
    },
    "papermill": {
     "duration": 0.083783,
     "end_time": "2022-04-23T01:20:41.007654",
     "exception": false,
     "start_time": "2022-04-23T01:20:40.923871",
     "status": "completed"
    },
    "tags": []
   },
   "outputs": [
    {
     "data": {
      "text/plain": [
       "SimpleImputer()"
      ]
     },
     "execution_count": 16,
     "metadata": {},
     "output_type": "execute_result"
    }
   ],
   "source": [
    "imputer.fit(raw_df[numeric_cols])"
   ]
  },
  {
   "cell_type": "code",
   "execution_count": 17,
   "id": "a29e7eb5",
   "metadata": {
    "execution": {
     "iopub.execute_input": "2022-04-23T01:20:41.143281Z",
     "iopub.status.busy": "2022-04-23T01:20:41.142548Z",
     "iopub.status.idle": "2022-04-23T01:20:41.148860Z",
     "shell.execute_reply": "2022-04-23T01:20:41.147948Z"
    },
    "papermill": {
     "duration": 0.076305,
     "end_time": "2022-04-23T01:20:41.150761",
     "exception": false,
     "start_time": "2022-04-23T01:20:41.074456",
     "status": "completed"
    },
    "tags": []
   },
   "outputs": [
    {
     "data": {
      "text/plain": [
       "[0.42921189240207647,\n",
       " 49.58494572911751,\n",
       " 1.9789499153157513,\n",
       " 0.49410099103350635,\n",
       " 9.003088619624615,\n",
       " 0.02962962962962963,\n",
       " 0.005899008966493629,\n",
       " 0.31052383199622463,\n",
       " 0.025719679093912224,\n",
       " 236.72158548233045,\n",
       " 132.35240679565834,\n",
       " 82.89346389806512,\n",
       " 25.80200758473572,\n",
       " 75.87892376681614,\n",
       " 81.96675324675324,\n",
       " 0.1519584709768759]"
      ]
     },
     "execution_count": 17,
     "metadata": {},
     "output_type": "execute_result"
    }
   ],
   "source": [
    "list(imputer.statistics_)"
   ]
  },
  {
   "cell_type": "markdown",
   "id": "4cf645ab",
   "metadata": {
    "papermill": {
     "duration": 0.067789,
     "end_time": "2022-04-23T01:20:41.286841",
     "exception": false,
     "start_time": "2022-04-23T01:20:41.219052",
     "status": "completed"
    },
    "tags": []
   },
   "source": [
    "Next step is to transform all the Null values to mean values"
   ]
  },
  {
   "cell_type": "code",
   "execution_count": 18,
   "id": "e8dc4b1e",
   "metadata": {
    "execution": {
     "iopub.execute_input": "2022-04-23T01:20:41.422669Z",
     "iopub.status.busy": "2022-04-23T01:20:41.422156Z",
     "iopub.status.idle": "2022-04-23T01:20:41.431226Z",
     "shell.execute_reply": "2022-04-23T01:20:41.430613Z"
    },
    "papermill": {
     "duration": 0.080127,
     "end_time": "2022-04-23T01:20:41.432987",
     "exception": false,
     "start_time": "2022-04-23T01:20:41.352860",
     "status": "completed"
    },
    "tags": []
   },
   "outputs": [],
   "source": [
    "raw_df[numeric_cols] = imputer.transform(raw_df[numeric_cols])"
   ]
  },
  {
   "cell_type": "code",
   "execution_count": 19,
   "id": "5b3b003c",
   "metadata": {
    "execution": {
     "iopub.execute_input": "2022-04-23T01:20:41.568283Z",
     "iopub.status.busy": "2022-04-23T01:20:41.567750Z",
     "iopub.status.idle": "2022-04-23T01:20:41.575739Z",
     "shell.execute_reply": "2022-04-23T01:20:41.575145Z"
    },
    "papermill": {
     "duration": 0.077827,
     "end_time": "2022-04-23T01:20:41.577748",
     "exception": false,
     "start_time": "2022-04-23T01:20:41.499921",
     "status": "completed"
    },
    "tags": []
   },
   "outputs": [
    {
     "data": {
      "text/plain": [
       "male               0\n",
       "age                0\n",
       "education          0\n",
       "currentSmoker      0\n",
       "cigsPerDay         0\n",
       "BPMeds             0\n",
       "prevalentStroke    0\n",
       "prevalentHyp       0\n",
       "diabetes           0\n",
       "totChol            0\n",
       "sysBP              0\n",
       "diaBP              0\n",
       "BMI                0\n",
       "heartRate          0\n",
       "glucose            0\n",
       "TenYearCHD         0\n",
       "dtype: int64"
      ]
     },
     "execution_count": 19,
     "metadata": {},
     "output_type": "execute_result"
    }
   ],
   "source": [
    "raw_df.isnull().sum()"
   ]
  },
  {
   "cell_type": "markdown",
   "id": "ba5aea6e",
   "metadata": {
    "execution": {
     "iopub.execute_input": "2022-04-22T05:33:24.010329Z",
     "iopub.status.busy": "2022-04-22T05:33:24.009932Z",
     "iopub.status.idle": "2022-04-22T05:33:24.038818Z",
     "shell.execute_reply": "2022-04-22T05:33:24.037614Z",
     "shell.execute_reply.started": "2022-04-22T05:33:24.010296Z"
    },
    "papermill": {
     "duration": 0.066833,
     "end_time": "2022-04-23T01:20:41.712941",
     "exception": false,
     "start_time": "2022-04-23T01:20:41.646108",
     "status": "completed"
    },
    "tags": []
   },
   "source": [
    "as you can see, we have no `Null` values. Now it's easier to train the model"
   ]
  },
  {
   "cell_type": "markdown",
   "id": "629a2b29",
   "metadata": {
    "papermill": {
     "duration": 0.07034,
     "end_time": "2022-04-23T01:20:41.852512",
     "exception": false,
     "start_time": "2022-04-23T01:20:41.782172",
     "status": "completed"
    },
    "tags": []
   },
   "source": [
    "# Step 4 - Scaling Features\n",
    "\n",
    "Now in this step, Dataset have values from so many ranges. We must scale those ranges into certain range. Now This step has to done very carefully. Because this determines the model's value. For this step we will use `sklearn's MinMaxScaler`"
   ]
  },
  {
   "cell_type": "code",
   "execution_count": 20,
   "id": "a294ded9",
   "metadata": {
    "execution": {
     "iopub.execute_input": "2022-04-23T01:20:41.986863Z",
     "iopub.status.busy": "2022-04-23T01:20:41.986333Z",
     "iopub.status.idle": "2022-04-23T01:20:41.989980Z",
     "shell.execute_reply": "2022-04-23T01:20:41.989348Z"
    },
    "papermill": {
     "duration": 0.072827,
     "end_time": "2022-04-23T01:20:41.991771",
     "exception": false,
     "start_time": "2022-04-23T01:20:41.918944",
     "status": "completed"
    },
    "tags": []
   },
   "outputs": [],
   "source": [
    "from sklearn.preprocessing import MinMaxScaler\n",
    "scaler = MinMaxScaler()"
   ]
  },
  {
   "cell_type": "code",
   "execution_count": 21,
   "id": "522d4bd4",
   "metadata": {
    "execution": {
     "iopub.execute_input": "2022-04-23T01:20:42.127839Z",
     "iopub.status.busy": "2022-04-23T01:20:42.127279Z",
     "iopub.status.idle": "2022-04-23T01:20:42.135786Z",
     "shell.execute_reply": "2022-04-23T01:20:42.135100Z"
    },
    "papermill": {
     "duration": 0.079012,
     "end_time": "2022-04-23T01:20:42.137483",
     "exception": false,
     "start_time": "2022-04-23T01:20:42.058471",
     "status": "completed"
    },
    "tags": []
   },
   "outputs": [
    {
     "data": {
      "text/plain": [
       "MinMaxScaler()"
      ]
     },
     "execution_count": 21,
     "metadata": {},
     "output_type": "execute_result"
    }
   ],
   "source": [
    "scaler.fit(raw_df[numeric_cols])"
   ]
  },
  {
   "cell_type": "code",
   "execution_count": 22,
   "id": "7cb7d764",
   "metadata": {
    "execution": {
     "iopub.execute_input": "2022-04-23T01:20:42.273090Z",
     "iopub.status.busy": "2022-04-23T01:20:42.272804Z",
     "iopub.status.idle": "2022-04-23T01:20:42.280762Z",
     "shell.execute_reply": "2022-04-23T01:20:42.280196Z"
    },
    "papermill": {
     "duration": 0.078185,
     "end_time": "2022-04-23T01:20:42.282521",
     "exception": false,
     "start_time": "2022-04-23T01:20:42.204336",
     "status": "completed"
    },
    "tags": []
   },
   "outputs": [],
   "source": [
    "raw_df[numeric_cols] = scaler.transform(raw_df[numeric_cols])"
   ]
  },
  {
   "cell_type": "code",
   "execution_count": 23,
   "id": "a6cd722f",
   "metadata": {
    "execution": {
     "iopub.execute_input": "2022-04-23T01:20:42.417277Z",
     "iopub.status.busy": "2022-04-23T01:20:42.416756Z",
     "iopub.status.idle": "2022-04-23T01:20:42.471400Z",
     "shell.execute_reply": "2022-04-23T01:20:42.470815Z"
    },
    "papermill": {
     "duration": 0.124057,
     "end_time": "2022-04-23T01:20:42.473164",
     "exception": false,
     "start_time": "2022-04-23T01:20:42.349107",
     "status": "completed"
    },
    "tags": []
   },
   "outputs": [
    {
     "data": {
      "text/html": [
       "<div>\n",
       "<style scoped>\n",
       "    .dataframe tbody tr th:only-of-type {\n",
       "        vertical-align: middle;\n",
       "    }\n",
       "\n",
       "    .dataframe tbody tr th {\n",
       "        vertical-align: top;\n",
       "    }\n",
       "\n",
       "    .dataframe thead th {\n",
       "        text-align: right;\n",
       "    }\n",
       "</style>\n",
       "<table border=\"1\" class=\"dataframe\">\n",
       "  <thead>\n",
       "    <tr style=\"text-align: right;\">\n",
       "      <th></th>\n",
       "      <th>male</th>\n",
       "      <th>age</th>\n",
       "      <th>education</th>\n",
       "      <th>currentSmoker</th>\n",
       "      <th>cigsPerDay</th>\n",
       "      <th>BPMeds</th>\n",
       "      <th>prevalentStroke</th>\n",
       "      <th>prevalentHyp</th>\n",
       "      <th>diabetes</th>\n",
       "      <th>totChol</th>\n",
       "      <th>sysBP</th>\n",
       "      <th>diaBP</th>\n",
       "      <th>BMI</th>\n",
       "      <th>heartRate</th>\n",
       "      <th>glucose</th>\n",
       "      <th>TenYearCHD</th>\n",
       "    </tr>\n",
       "  </thead>\n",
       "  <tbody>\n",
       "    <tr>\n",
       "      <th>count</th>\n",
       "      <td>4238.000000</td>\n",
       "      <td>4238.000000</td>\n",
       "      <td>4238.000000</td>\n",
       "      <td>4238.000000</td>\n",
       "      <td>4238.000000</td>\n",
       "      <td>4238.00000</td>\n",
       "      <td>4238.000000</td>\n",
       "      <td>4238.000000</td>\n",
       "      <td>4238.000000</td>\n",
       "      <td>4238.000000</td>\n",
       "      <td>4238.000000</td>\n",
       "      <td>4238.000000</td>\n",
       "      <td>4238.000000</td>\n",
       "      <td>4238.000000</td>\n",
       "      <td>4238.000000</td>\n",
       "      <td>4238.000000</td>\n",
       "    </tr>\n",
       "    <tr>\n",
       "      <th>mean</th>\n",
       "      <td>0.429212</td>\n",
       "      <td>0.462762</td>\n",
       "      <td>0.326317</td>\n",
       "      <td>0.494101</td>\n",
       "      <td>0.128616</td>\n",
       "      <td>0.02963</td>\n",
       "      <td>0.005899</td>\n",
       "      <td>0.310524</td>\n",
       "      <td>0.025720</td>\n",
       "      <td>0.220240</td>\n",
       "      <td>0.230981</td>\n",
       "      <td>0.369243</td>\n",
       "      <td>0.248716</td>\n",
       "      <td>0.322009</td>\n",
       "      <td>0.118550</td>\n",
       "      <td>0.151958</td>\n",
       "    </tr>\n",
       "    <tr>\n",
       "      <th>std</th>\n",
       "      <td>0.495022</td>\n",
       "      <td>0.225583</td>\n",
       "      <td>0.335692</td>\n",
       "      <td>0.500024</td>\n",
       "      <td>0.169703</td>\n",
       "      <td>0.16852</td>\n",
       "      <td>0.076587</td>\n",
       "      <td>0.462763</td>\n",
       "      <td>0.158316</td>\n",
       "      <td>0.075257</td>\n",
       "      <td>0.104199</td>\n",
       "      <td>0.126041</td>\n",
       "      <td>0.098666</td>\n",
       "      <td>0.121466</td>\n",
       "      <td>0.064510</td>\n",
       "      <td>0.359023</td>\n",
       "    </tr>\n",
       "    <tr>\n",
       "      <th>min</th>\n",
       "      <td>0.000000</td>\n",
       "      <td>0.000000</td>\n",
       "      <td>0.000000</td>\n",
       "      <td>0.000000</td>\n",
       "      <td>0.000000</td>\n",
       "      <td>0.00000</td>\n",
       "      <td>0.000000</td>\n",
       "      <td>0.000000</td>\n",
       "      <td>0.000000</td>\n",
       "      <td>0.000000</td>\n",
       "      <td>0.000000</td>\n",
       "      <td>0.000000</td>\n",
       "      <td>0.000000</td>\n",
       "      <td>0.000000</td>\n",
       "      <td>0.000000</td>\n",
       "      <td>0.000000</td>\n",
       "    </tr>\n",
       "    <tr>\n",
       "      <th>25%</th>\n",
       "      <td>0.000000</td>\n",
       "      <td>0.263158</td>\n",
       "      <td>0.000000</td>\n",
       "      <td>0.000000</td>\n",
       "      <td>0.000000</td>\n",
       "      <td>0.00000</td>\n",
       "      <td>0.000000</td>\n",
       "      <td>0.000000</td>\n",
       "      <td>0.000000</td>\n",
       "      <td>0.168081</td>\n",
       "      <td>0.158392</td>\n",
       "      <td>0.285714</td>\n",
       "      <td>0.182744</td>\n",
       "      <td>0.242424</td>\n",
       "      <td>0.090395</td>\n",
       "      <td>0.000000</td>\n",
       "    </tr>\n",
       "    <tr>\n",
       "      <th>50%</th>\n",
       "      <td>0.000000</td>\n",
       "      <td>0.447368</td>\n",
       "      <td>0.333333</td>\n",
       "      <td>0.000000</td>\n",
       "      <td>0.000000</td>\n",
       "      <td>0.00000</td>\n",
       "      <td>0.000000</td>\n",
       "      <td>0.000000</td>\n",
       "      <td>0.000000</td>\n",
       "      <td>0.215620</td>\n",
       "      <td>0.210402</td>\n",
       "      <td>0.359788</td>\n",
       "      <td>0.239215</td>\n",
       "      <td>0.313131</td>\n",
       "      <td>0.112994</td>\n",
       "      <td>0.000000</td>\n",
       "    </tr>\n",
       "    <tr>\n",
       "      <th>75%</th>\n",
       "      <td>1.000000</td>\n",
       "      <td>0.631579</td>\n",
       "      <td>0.666667</td>\n",
       "      <td>1.000000</td>\n",
       "      <td>0.285714</td>\n",
       "      <td>0.00000</td>\n",
       "      <td>0.000000</td>\n",
       "      <td>1.000000</td>\n",
       "      <td>0.000000</td>\n",
       "      <td>0.263158</td>\n",
       "      <td>0.286052</td>\n",
       "      <td>0.443122</td>\n",
       "      <td>0.302896</td>\n",
       "      <td>0.393939</td>\n",
       "      <td>0.127119</td>\n",
       "      <td>0.000000</td>\n",
       "    </tr>\n",
       "    <tr>\n",
       "      <th>max</th>\n",
       "      <td>1.000000</td>\n",
       "      <td>1.000000</td>\n",
       "      <td>1.000000</td>\n",
       "      <td>1.000000</td>\n",
       "      <td>1.000000</td>\n",
       "      <td>1.00000</td>\n",
       "      <td>1.000000</td>\n",
       "      <td>1.000000</td>\n",
       "      <td>1.000000</td>\n",
       "      <td>1.000000</td>\n",
       "      <td>1.000000</td>\n",
       "      <td>1.000000</td>\n",
       "      <td>1.000000</td>\n",
       "      <td>1.000000</td>\n",
       "      <td>1.000000</td>\n",
       "      <td>1.000000</td>\n",
       "    </tr>\n",
       "  </tbody>\n",
       "</table>\n",
       "</div>"
      ],
      "text/plain": [
       "              male          age    education  currentSmoker   cigsPerDay  \\\n",
       "count  4238.000000  4238.000000  4238.000000    4238.000000  4238.000000   \n",
       "mean      0.429212     0.462762     0.326317       0.494101     0.128616   \n",
       "std       0.495022     0.225583     0.335692       0.500024     0.169703   \n",
       "min       0.000000     0.000000     0.000000       0.000000     0.000000   \n",
       "25%       0.000000     0.263158     0.000000       0.000000     0.000000   \n",
       "50%       0.000000     0.447368     0.333333       0.000000     0.000000   \n",
       "75%       1.000000     0.631579     0.666667       1.000000     0.285714   \n",
       "max       1.000000     1.000000     1.000000       1.000000     1.000000   \n",
       "\n",
       "           BPMeds  prevalentStroke  prevalentHyp     diabetes      totChol  \\\n",
       "count  4238.00000      4238.000000   4238.000000  4238.000000  4238.000000   \n",
       "mean      0.02963         0.005899      0.310524     0.025720     0.220240   \n",
       "std       0.16852         0.076587      0.462763     0.158316     0.075257   \n",
       "min       0.00000         0.000000      0.000000     0.000000     0.000000   \n",
       "25%       0.00000         0.000000      0.000000     0.000000     0.168081   \n",
       "50%       0.00000         0.000000      0.000000     0.000000     0.215620   \n",
       "75%       0.00000         0.000000      1.000000     0.000000     0.263158   \n",
       "max       1.00000         1.000000      1.000000     1.000000     1.000000   \n",
       "\n",
       "             sysBP        diaBP          BMI    heartRate      glucose  \\\n",
       "count  4238.000000  4238.000000  4238.000000  4238.000000  4238.000000   \n",
       "mean      0.230981     0.369243     0.248716     0.322009     0.118550   \n",
       "std       0.104199     0.126041     0.098666     0.121466     0.064510   \n",
       "min       0.000000     0.000000     0.000000     0.000000     0.000000   \n",
       "25%       0.158392     0.285714     0.182744     0.242424     0.090395   \n",
       "50%       0.210402     0.359788     0.239215     0.313131     0.112994   \n",
       "75%       0.286052     0.443122     0.302896     0.393939     0.127119   \n",
       "max       1.000000     1.000000     1.000000     1.000000     1.000000   \n",
       "\n",
       "        TenYearCHD  \n",
       "count  4238.000000  \n",
       "mean      0.151958  \n",
       "std       0.359023  \n",
       "min       0.000000  \n",
       "25%       0.000000  \n",
       "50%       0.000000  \n",
       "75%       0.000000  \n",
       "max       1.000000  "
      ]
     },
     "execution_count": 23,
     "metadata": {},
     "output_type": "execute_result"
    }
   ],
   "source": [
    "raw_df.describe()"
   ]
  },
  {
   "cell_type": "markdown",
   "id": "ad271d3b",
   "metadata": {
    "papermill": {
     "duration": 0.066447,
     "end_time": "2022-04-23T01:20:42.607209",
     "exception": false,
     "start_time": "2022-04-23T01:20:42.540762",
     "status": "completed"
    },
    "tags": []
   },
   "source": [
    "Now You can see the max value is `1` and the min value i `0`. "
   ]
  },
  {
   "cell_type": "markdown",
   "id": "33a465c5",
   "metadata": {
    "papermill": {
     "duration": 0.067309,
     "end_time": "2022-04-23T01:20:42.741380",
     "exception": false,
     "start_time": "2022-04-23T01:20:42.674071",
     "status": "completed"
    },
    "tags": []
   },
   "source": [
    "# Step - 5 Splitting the Dataset\n",
    "\n",
    "Now we need seperate dataset for training, validating, testing dataset. We must do this because model can identify each value correctly if we give full dataset. It's like giving the answers with questions. We must split the dataset for testing and validating. That way we can test our model's true potential"
   ]
  },
  {
   "cell_type": "code",
   "execution_count": 24,
   "id": "40f5c8d2",
   "metadata": {
    "execution": {
     "iopub.execute_input": "2022-04-23T01:20:42.898455Z",
     "iopub.status.busy": "2022-04-23T01:20:42.898205Z",
     "iopub.status.idle": "2022-04-23T01:20:42.905448Z",
     "shell.execute_reply": "2022-04-23T01:20:42.904865Z"
    },
    "papermill": {
     "duration": 0.095581,
     "end_time": "2022-04-23T01:20:42.907790",
     "exception": false,
     "start_time": "2022-04-23T01:20:42.812209",
     "status": "completed"
    },
    "tags": []
   },
   "outputs": [],
   "source": [
    "from sklearn.model_selection import train_test_split\n",
    "train_val_df, test_df = train_test_split(raw_df, test_size=0.2, random_state=42)\n",
    "train_df, val_df = train_test_split(train_val_df, test_size=0.25, random_state=42)"
   ]
  },
  {
   "cell_type": "markdown",
   "id": "fa2be041",
   "metadata": {
    "papermill": {
     "duration": 0.070667,
     "end_time": "2022-04-23T01:20:43.055730",
     "exception": false,
     "start_time": "2022-04-23T01:20:42.985063",
     "status": "completed"
    },
    "tags": []
   },
   "source": [
    "Now we have three seperate datasets for validation, training and testing. We have evaluate our model's true potential now"
   ]
  },
  {
   "cell_type": "markdown",
   "id": "a3f7f4f2",
   "metadata": {
    "papermill": {
     "duration": 0.07357,
     "end_time": "2022-04-23T01:20:43.209555",
     "exception": false,
     "start_time": "2022-04-23T01:20:43.135985",
     "status": "completed"
    },
    "tags": []
   },
   "source": [
    "# Step - 6 Traning and Evaluating Model\n",
    "\n",
    "This is the most awaited step, We clean the dataset, exploring and visualizing, splitting the dataset, optimizing ranges for this one step. We have our model frist with `train_df` and next we use `val_df` and `test_df`.\n",
    "\n",
    "For training we use `sklearn's LogisticRegression`\n",
    "\n",
    "\n"
   ]
  },
  {
   "cell_type": "code",
   "execution_count": 25,
   "id": "93c28179",
   "metadata": {
    "execution": {
     "iopub.execute_input": "2022-04-23T01:20:43.360727Z",
     "iopub.status.busy": "2022-04-23T01:20:43.360486Z",
     "iopub.status.idle": "2022-04-23T01:20:43.364478Z",
     "shell.execute_reply": "2022-04-23T01:20:43.363645Z"
    },
    "papermill": {
     "duration": 0.081961,
     "end_time": "2022-04-23T01:20:43.366894",
     "exception": false,
     "start_time": "2022-04-23T01:20:43.284933",
     "status": "completed"
    },
    "tags": []
   },
   "outputs": [],
   "source": [
    "from sklearn.linear_model import LogisticRegression\n",
    "model = LogisticRegression(solver='liblinear')"
   ]
  },
  {
   "cell_type": "markdown",
   "id": "9cc8c411",
   "metadata": {
    "papermill": {
     "duration": 0.073879,
     "end_time": "2022-04-23T01:20:43.516609",
     "exception": false,
     "start_time": "2022-04-23T01:20:43.442730",
     "status": "completed"
    },
    "tags": []
   },
   "source": [
    "First Let's split what is inputs and what is targets. For us expect last column all is our inputs and our columns is target. We compare our perdictions with that targets."
   ]
  },
  {
   "cell_type": "code",
   "execution_count": 26,
   "id": "01b736ac",
   "metadata": {
    "execution": {
     "iopub.execute_input": "2022-04-23T01:20:43.666679Z",
     "iopub.status.busy": "2022-04-23T01:20:43.665924Z",
     "iopub.status.idle": "2022-04-23T01:20:43.670301Z",
     "shell.execute_reply": "2022-04-23T01:20:43.669618Z"
    },
    "papermill": {
     "duration": 0.083297,
     "end_time": "2022-04-23T01:20:43.672067",
     "exception": false,
     "start_time": "2022-04-23T01:20:43.588770",
     "status": "completed"
    },
    "tags": []
   },
   "outputs": [],
   "source": [
    "valid_col = ['male', 'age', 'education', 'currentSmoker', 'cigsPerDay', 'BPMeds',\n",
    "       'prevalentStroke', 'prevalentHyp', 'diabetes', 'totChol', 'sysBP',\n",
    "       'diaBP', 'BMI', 'heartRate', 'glucose']"
   ]
  },
  {
   "cell_type": "code",
   "execution_count": 27,
   "id": "2f22a2cc",
   "metadata": {
    "execution": {
     "iopub.execute_input": "2022-04-23T01:20:43.821928Z",
     "iopub.status.busy": "2022-04-23T01:20:43.820767Z",
     "iopub.status.idle": "2022-04-23T01:20:43.825456Z",
     "shell.execute_reply": "2022-04-23T01:20:43.824499Z"
    },
    "papermill": {
     "duration": 0.081071,
     "end_time": "2022-04-23T01:20:43.827463",
     "exception": false,
     "start_time": "2022-04-23T01:20:43.746392",
     "status": "completed"
    },
    "tags": []
   },
   "outputs": [],
   "source": [
    "target_col = 'TenYearCHD'"
   ]
  },
  {
   "cell_type": "code",
   "execution_count": 28,
   "id": "ab657057",
   "metadata": {
    "execution": {
     "iopub.execute_input": "2022-04-23T01:20:43.975922Z",
     "iopub.status.busy": "2022-04-23T01:20:43.975436Z",
     "iopub.status.idle": "2022-04-23T01:20:43.991420Z",
     "shell.execute_reply": "2022-04-23T01:20:43.990510Z"
    },
    "papermill": {
     "duration": 0.093029,
     "end_time": "2022-04-23T01:20:43.993485",
     "exception": false,
     "start_time": "2022-04-23T01:20:43.900456",
     "status": "completed"
    },
    "tags": []
   },
   "outputs": [
    {
     "data": {
      "text/plain": [
       "LogisticRegression(solver='liblinear')"
      ]
     },
     "execution_count": 28,
     "metadata": {},
     "output_type": "execute_result"
    }
   ],
   "source": [
    "model.fit(train_df[valid_col], train_df[target_col])"
   ]
  },
  {
   "cell_type": "code",
   "execution_count": 29,
   "id": "7f21edca",
   "metadata": {
    "execution": {
     "iopub.execute_input": "2022-04-23T01:20:44.144637Z",
     "iopub.status.busy": "2022-04-23T01:20:44.143755Z",
     "iopub.status.idle": "2022-04-23T01:20:44.149608Z",
     "shell.execute_reply": "2022-04-23T01:20:44.148548Z"
    },
    "papermill": {
     "duration": 0.082073,
     "end_time": "2022-04-23T01:20:44.151407",
     "exception": false,
     "start_time": "2022-04-23T01:20:44.069334",
     "status": "completed"
    },
    "tags": []
   },
   "outputs": [
    {
     "name": "stdout",
     "output_type": "stream",
     "text": [
      "[[0.345872282510524, 2.07869947410466, -0.044310652579349, -0.07006324433061073, 1.566751237516833, 0.6368011896207589, 0.7795400046526981, 0.32970836035294954, 0.6369411297679218, 0.578565017879698, 1.8705430830628205, 0.2283938207020694, -0.3262201185129823, -0.3385225839969218, 1.313208234367347]]\n"
     ]
    }
   ],
   "source": [
    "print(model.coef_.tolist())"
   ]
  },
  {
   "cell_type": "code",
   "execution_count": 30,
   "id": "951fbfad",
   "metadata": {
    "execution": {
     "iopub.execute_input": "2022-04-23T01:20:44.310933Z",
     "iopub.status.busy": "2022-04-23T01:20:44.310553Z",
     "iopub.status.idle": "2022-04-23T01:20:44.316374Z",
     "shell.execute_reply": "2022-04-23T01:20:44.315565Z"
    },
    "papermill": {
     "duration": 0.092379,
     "end_time": "2022-04-23T01:20:44.318722",
     "exception": false,
     "start_time": "2022-04-23T01:20:44.226343",
     "status": "completed"
    },
    "tags": []
   },
   "outputs": [
    {
     "name": "stdout",
     "output_type": "stream",
     "text": [
      "[-3.89099158]\n"
     ]
    }
   ],
   "source": [
    "print(model.intercept_)"
   ]
  },
  {
   "cell_type": "markdown",
   "id": "fadaf24d",
   "metadata": {
    "papermill": {
     "duration": 0.074602,
     "end_time": "2022-04-23T01:20:44.472182",
     "exception": false,
     "start_time": "2022-04-23T01:20:44.397580",
     "status": "completed"
    },
    "tags": []
   },
   "source": [
    "Now that we trained our model with `liblinear` solver and `LogisticRegression` class. Now it's time for evaluating our model."
   ]
  },
  {
   "cell_type": "code",
   "execution_count": 31,
   "id": "7540baad",
   "metadata": {
    "execution": {
     "iopub.execute_input": "2022-04-23T01:20:44.619453Z",
     "iopub.status.busy": "2022-04-23T01:20:44.618924Z",
     "iopub.status.idle": "2022-04-23T01:20:44.625495Z",
     "shell.execute_reply": "2022-04-23T01:20:44.624728Z"
    },
    "papermill": {
     "duration": 0.081952,
     "end_time": "2022-04-23T01:20:44.627466",
     "exception": false,
     "start_time": "2022-04-23T01:20:44.545514",
     "status": "completed"
    },
    "tags": []
   },
   "outputs": [],
   "source": [
    "X_train = train_df[valid_col]\n",
    "X_val = val_df[valid_col]\n",
    "X_test = test_df[valid_col]"
   ]
  },
  {
   "cell_type": "code",
   "execution_count": 32,
   "id": "7e4bfc4a",
   "metadata": {
    "execution": {
     "iopub.execute_input": "2022-04-23T01:20:44.774869Z",
     "iopub.status.busy": "2022-04-23T01:20:44.774347Z",
     "iopub.status.idle": "2022-04-23T01:20:44.788137Z",
     "shell.execute_reply": "2022-04-23T01:20:44.787196Z"
    },
    "papermill": {
     "duration": 0.091205,
     "end_time": "2022-04-23T01:20:44.791134",
     "exception": false,
     "start_time": "2022-04-23T01:20:44.699929",
     "status": "completed"
    },
    "tags": []
   },
   "outputs": [],
   "source": [
    "train_preds = model.predict(X_train)"
   ]
  },
  {
   "cell_type": "code",
   "execution_count": 33,
   "id": "672eab76",
   "metadata": {
    "execution": {
     "iopub.execute_input": "2022-04-23T01:20:44.994065Z",
     "iopub.status.busy": "2022-04-23T01:20:44.993764Z",
     "iopub.status.idle": "2022-04-23T01:20:44.999695Z",
     "shell.execute_reply": "2022-04-23T01:20:44.998733Z"
    },
    "papermill": {
     "duration": 0.082995,
     "end_time": "2022-04-23T01:20:45.001794",
     "exception": false,
     "start_time": "2022-04-23T01:20:44.918799",
     "status": "completed"
    },
    "tags": []
   },
   "outputs": [
    {
     "data": {
      "text/plain": [
       "array([0., 0., 0., ..., 0., 0., 0.])"
      ]
     },
     "execution_count": 33,
     "metadata": {},
     "output_type": "execute_result"
    }
   ],
   "source": [
    "train_preds"
   ]
  },
  {
   "cell_type": "code",
   "execution_count": 34,
   "id": "8da263fb",
   "metadata": {
    "execution": {
     "iopub.execute_input": "2022-04-23T01:20:45.148102Z",
     "iopub.status.busy": "2022-04-23T01:20:45.147175Z",
     "iopub.status.idle": "2022-04-23T01:20:45.154620Z",
     "shell.execute_reply": "2022-04-23T01:20:45.153928Z"
    },
    "papermill": {
     "duration": 0.083026,
     "end_time": "2022-04-23T01:20:45.156747",
     "exception": false,
     "start_time": "2022-04-23T01:20:45.073721",
     "status": "completed"
    },
    "tags": []
   },
   "outputs": [
    {
     "data": {
      "text/plain": [
       "1489    0.0\n",
       "1368    0.0\n",
       "2761    0.0\n",
       "741     0.0\n",
       "2418    0.0\n",
       "       ... \n",
       "1962    0.0\n",
       "2643    0.0\n",
       "2689    0.0\n",
       "212     0.0\n",
       "3369    1.0\n",
       "Name: TenYearCHD, Length: 2542, dtype: float64"
      ]
     },
     "execution_count": 34,
     "metadata": {},
     "output_type": "execute_result"
    }
   ],
   "source": [
    "train_df[target_col]"
   ]
  },
  {
   "cell_type": "code",
   "execution_count": 35,
   "id": "0cf5124a",
   "metadata": {
    "execution": {
     "iopub.execute_input": "2022-04-23T01:20:45.310722Z",
     "iopub.status.busy": "2022-04-23T01:20:45.310303Z",
     "iopub.status.idle": "2022-04-23T01:20:45.321331Z",
     "shell.execute_reply": "2022-04-23T01:20:45.320542Z"
    },
    "papermill": {
     "duration": 0.089529,
     "end_time": "2022-04-23T01:20:45.324185",
     "exception": false,
     "start_time": "2022-04-23T01:20:45.234656",
     "status": "completed"
    },
    "tags": []
   },
   "outputs": [
    {
     "data": {
      "text/plain": [
       "array([[0.90947884, 0.09052116],\n",
       "       [0.83834028, 0.16165972],\n",
       "       [0.95049625, 0.04950375],\n",
       "       ...,\n",
       "       [0.94716474, 0.05283526],\n",
       "       [0.64386573, 0.35613427],\n",
       "       [0.60685307, 0.39314693]])"
      ]
     },
     "execution_count": 35,
     "metadata": {},
     "output_type": "execute_result"
    }
   ],
   "source": [
    "train_probs = model.predict_proba(X_train)\n",
    "train_probs"
   ]
  },
  {
   "cell_type": "code",
   "execution_count": 36,
   "id": "0ed61081",
   "metadata": {
    "execution": {
     "iopub.execute_input": "2022-04-23T01:20:45.523737Z",
     "iopub.status.busy": "2022-04-23T01:20:45.523492Z",
     "iopub.status.idle": "2022-04-23T01:20:45.528231Z",
     "shell.execute_reply": "2022-04-23T01:20:45.527699Z"
    },
    "papermill": {
     "duration": 0.078006,
     "end_time": "2022-04-23T01:20:45.530165",
     "exception": false,
     "start_time": "2022-04-23T01:20:45.452159",
     "status": "completed"
    },
    "tags": []
   },
   "outputs": [
    {
     "data": {
      "text/plain": [
       "array([0., 1.])"
      ]
     },
     "execution_count": 36,
     "metadata": {},
     "output_type": "execute_result"
    }
   ],
   "source": [
    "model.classes_ "
   ]
  },
  {
   "cell_type": "code",
   "execution_count": 37,
   "id": "f11cbf55",
   "metadata": {
    "execution": {
     "iopub.execute_input": "2022-04-23T01:20:45.669598Z",
     "iopub.status.busy": "2022-04-23T01:20:45.669194Z",
     "iopub.status.idle": "2022-04-23T01:20:45.674748Z",
     "shell.execute_reply": "2022-04-23T01:20:45.674258Z"
    },
    "papermill": {
     "duration": 0.077464,
     "end_time": "2022-04-23T01:20:45.676453",
     "exception": false,
     "start_time": "2022-04-23T01:20:45.598989",
     "status": "completed"
    },
    "tags": []
   },
   "outputs": [
    {
     "data": {
      "text/plain": [
       "0.8544453186467349"
      ]
     },
     "execution_count": 37,
     "metadata": {},
     "output_type": "execute_result"
    }
   ],
   "source": [
    "from sklearn.metrics import accuracy_score\n",
    "accuracy_score(train_df[target_col], train_preds)"
   ]
  },
  {
   "cell_type": "markdown",
   "id": "b067204e",
   "metadata": {
    "papermill": {
     "duration": 0.069675,
     "end_time": "2022-04-23T01:20:45.816273",
     "exception": false,
     "start_time": "2022-04-23T01:20:45.746598",
     "status": "completed"
    },
    "tags": []
   },
   "source": [
    "Yes our model's score is `0.85` Better than nothing. We will use our validation's set and testing's set for more accurate score later. But let's analyse why does our model get 0.85 for that we could use `confusion matrix` It's one of best `sklearn's` feature. I would love to use it because I will come to know where does our model lagging"
   ]
  },
  {
   "cell_type": "code",
   "execution_count": 38,
   "id": "6123c4ed",
   "metadata": {
    "execution": {
     "iopub.execute_input": "2022-04-23T01:20:45.958979Z",
     "iopub.status.busy": "2022-04-23T01:20:45.958567Z",
     "iopub.status.idle": "2022-04-23T01:20:45.968602Z",
     "shell.execute_reply": "2022-04-23T01:20:45.968071Z"
    },
    "papermill": {
     "duration": 0.083969,
     "end_time": "2022-04-23T01:20:45.970373",
     "exception": false,
     "start_time": "2022-04-23T01:20:45.886404",
     "status": "completed"
    },
    "tags": []
   },
   "outputs": [
    {
     "data": {
      "text/plain": [
       "array([[0.997208  , 0.002792  ],\n",
       "       [0.92620865, 0.07379135]])"
      ]
     },
     "execution_count": 38,
     "metadata": {},
     "output_type": "execute_result"
    }
   ],
   "source": [
    "from sklearn.metrics import confusion_matrix\n",
    "confusion_matrix(train_df[target_col], train_preds, normalize='true')"
   ]
  },
  {
   "cell_type": "markdown",
   "id": "c87248ce",
   "metadata": {
    "papermill": {
     "duration": 0.069589,
     "end_time": "2022-04-23T01:20:46.113097",
     "exception": false,
     "start_time": "2022-04-23T01:20:46.043508",
     "status": "completed"
    },
    "tags": []
   },
   "source": [
    "Let's plot above matrix"
   ]
  },
  {
   "cell_type": "code",
   "execution_count": 39,
   "id": "747eb3a9",
   "metadata": {
    "execution": {
     "iopub.execute_input": "2022-04-23T01:20:46.256885Z",
     "iopub.status.busy": "2022-04-23T01:20:46.256487Z",
     "iopub.status.idle": "2022-04-23T01:20:46.262045Z",
     "shell.execute_reply": "2022-04-23T01:20:46.261510Z"
    },
    "papermill": {
     "duration": 0.080163,
     "end_time": "2022-04-23T01:20:46.263816",
     "exception": false,
     "start_time": "2022-04-23T01:20:46.183653",
     "status": "completed"
    },
    "tags": []
   },
   "outputs": [],
   "source": [
    "def predict_and_plot(inputs, targets, name=''):\n",
    "    preds = model.predict(inputs)\n",
    "    \n",
    "    accuracy = accuracy_score(targets, preds)\n",
    "    print(\"Accuracy: {:.2f}%\".format(accuracy * 100))\n",
    "    \n",
    "    cf = confusion_matrix(targets, preds, normalize='true')\n",
    "    plt.figure(figsize=(12, 10))\n",
    "    sns.heatmap(cf, annot=True)\n",
    "    plt.xlabel('Prediction')\n",
    "    plt.ylabel('Target')\n",
    "    plt.title('{} Confusion Matrix'.format(name));\n",
    "    \n",
    "    return preds"
   ]
  },
  {
   "cell_type": "code",
   "execution_count": 40,
   "id": "4b6d45aa",
   "metadata": {
    "execution": {
     "iopub.execute_input": "2022-04-23T01:20:46.406325Z",
     "iopub.status.busy": "2022-04-23T01:20:46.405931Z",
     "iopub.status.idle": "2022-04-23T01:20:46.676545Z",
     "shell.execute_reply": "2022-04-23T01:20:46.675722Z"
    },
    "papermill": {
     "duration": 0.344496,
     "end_time": "2022-04-23T01:20:46.678543",
     "exception": false,
     "start_time": "2022-04-23T01:20:46.334047",
     "status": "completed"
    },
    "tags": []
   },
   "outputs": [
    {
     "name": "stdout",
     "output_type": "stream",
     "text": [
      "Accuracy: 85.44%\n"
     ]
    },
    {
     "data": {
      "image/png": "[encoded data removed]",
      "text/plain": [
       "<Figure size 864x720 with 2 Axes>"
      ]
     },
     "metadata": {
      "needs_background": "light"
     },
     "output_type": "display_data"
    }
   ],
   "source": [
    "predict_and_plot(X_train, train_df[target_col], 'Training');"
   ]
  },
  {
   "cell_type": "markdown",
   "id": "160b5d8a",
   "metadata": {
    "papermill": {
     "duration": 0.07135,
     "end_time": "2022-04-23T01:20:46.822981",
     "exception": false,
     "start_time": "2022-04-23T01:20:46.751631",
     "status": "completed"
    },
    "tags": []
   },
   "source": [
    "Yes. we did for our Training set. Let's continue for our validation set and testing set. With our training set we get `85%` of accuracy."
   ]
  },
  {
   "cell_type": "code",
   "execution_count": 41,
   "id": "17150eed",
   "metadata": {
    "execution": {
     "iopub.execute_input": "2022-04-23T01:20:46.968739Z",
     "iopub.status.busy": "2022-04-23T01:20:46.968448Z",
     "iopub.status.idle": "2022-04-23T01:20:47.242902Z",
     "shell.execute_reply": "2022-04-23T01:20:47.241950Z"
    },
    "papermill": {
     "duration": 0.349705,
     "end_time": "2022-04-23T01:20:47.244909",
     "exception": false,
     "start_time": "2022-04-23T01:20:46.895204",
     "status": "completed"
    },
    "tags": []
   },
   "outputs": [
    {
     "name": "stdout",
     "output_type": "stream",
     "text": [
      "Accuracy: 84.55%\n"
     ]
    },
    {
     "data": {
      "image/png": "[encoded data removed]",
      "text/plain": [
       "<Figure size 864x720 with 2 Axes>"
      ]
     },
     "metadata": {
      "needs_background": "light"
     },
     "output_type": "display_data"
    }
   ],
   "source": [
    "predict_and_plot(X_val, val_df[target_col], 'Validatiaon');"
   ]
  },
  {
   "cell_type": "markdown",
   "id": "9de942a2",
   "metadata": {
    "papermill": {
     "duration": 0.07334,
     "end_time": "2022-04-23T01:20:47.391305",
     "exception": false,
     "start_time": "2022-04-23T01:20:47.317965",
     "status": "completed"
    },
    "tags": []
   },
   "source": [
    "With our validation set we get `84%` accuracy. Not bad."
   ]
  },
  {
   "cell_type": "code",
   "execution_count": 42,
   "id": "fde4cb05",
   "metadata": {
    "execution": {
     "iopub.execute_input": "2022-04-23T01:20:47.540064Z",
     "iopub.status.busy": "2022-04-23T01:20:47.539756Z",
     "iopub.status.idle": "2022-04-23T01:20:47.805605Z",
     "shell.execute_reply": "2022-04-23T01:20:47.804828Z"
    },
    "papermill": {
     "duration": 0.343285,
     "end_time": "2022-04-23T01:20:47.807549",
     "exception": false,
     "start_time": "2022-04-23T01:20:47.464264",
     "status": "completed"
    },
    "tags": []
   },
   "outputs": [
    {
     "name": "stdout",
     "output_type": "stream",
     "text": [
      "Accuracy: 85.61%\n"
     ]
    },
    {
     "data": {
      "image/png": "[encoded data removed]",
      "text/plain": [
       "<Figure size 864x720 with 2 Axes>"
      ]
     },
     "metadata": {
      "needs_background": "light"
     },
     "output_type": "display_data"
    }
   ],
   "source": [
    "\n",
    "predict_and_plot(X_test, test_df[target_col], 'Test');"
   ]
  },
  {
   "cell_type": "markdown",
   "id": "f9814ef0",
   "metadata": {
    "papermill": {
     "duration": 0.078056,
     "end_time": "2022-04-23T01:20:47.962401",
     "exception": false,
     "start_time": "2022-04-23T01:20:47.884345",
     "status": "completed"
    },
    "tags": []
   },
   "source": [
    "# Step - 6 Conclusion\n",
    "\n",
    "We get `85%` of accuracy on testing set. Our model Just stays on `80 - 85` range whatever the dataset we provide. That means our model's predictions is good. \n",
    "\n",
    "Is it enough ?\n",
    "\n",
    "Not at all. We must optimize our model and our get better results than this. For now I will just leave it off and learn more. So that I can optimize our model to it's extent.\n",
    "\n",
    "### **Bye 👋👋**"
   ]
  }
 ],
 "metadata": {
  "kernelspec": {
   "display_name": "Python 3",
   "language": "python",
   "name": "python3"
  },
  "language_info": {
   "codemirror_mode": {
    "name": "ipython",
    "version": 3
   },
   "file_extension": ".py",
   "mimetype": "text/x-python",
   "name": "python",
   "nbconvert_exporter": "python",
   "pygments_lexer": "ipython3",
   "version": "3.7.12"
  },
  "papermill": {
   "default_parameters": {},
   "duration": 25.036571,
   "end_time": "2022-04-23T01:20:48.864481",
   "environment_variables": {},
   "exception": null,
   "input_path": "__notebook__.ipynb",
   "output_path": "__notebook__.ipynb",
   "parameters": {},
   "start_time": "2022-04-23T01:20:23.827910",
   "version": "2.3.4"
  }
 },
 "nbformat": 4,
 "nbformat_minor": 5
}
